{
 "cells": [
  {
   "cell_type": "code",
   "execution_count": 8,
   "id": "6a92d2a7-b0b0-4a69-b4dc-f007f48fa568",
   "metadata": {},
   "outputs": [],
   "source": [
    "import count"
   ]
  },
  {
   "cell_type": "code",
   "execution_count": 9,
   "id": "4586197d-5a77-4b7c-ac57-aed4ee42a7df",
   "metadata": {},
   "outputs": [
    {
     "name": "stdout",
     "output_type": "stream",
     "text": [
      "6\n"
     ]
    }
   ],
   "source": [
    "print(count.count_handshakes(4))"
   ]
  }
 ],
 "metadata": {
  "kernelspec": {
   "display_name": "Python 3 (ipykernel)",
   "language": "python",
   "name": "python3"
  },
  "language_info": {
   "codemirror_mode": {
    "name": "ipython",
    "version": 3
   },
   "file_extension": ".py",
   "mimetype": "text/x-python",
   "name": "python",
   "nbconvert_exporter": "python",
   "pygments_lexer": "ipython3",
   "version": "3.11.7"
  }
 },
 "nbformat": 4,
 "nbformat_minor": 5
}
