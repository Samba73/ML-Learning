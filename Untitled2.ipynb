{
 "cells": [
  {
   "cell_type": "code",
   "execution_count": 1,
   "id": "8e12baec-66bd-4be6-9bd7-beb4db168004",
   "metadata": {},
   "outputs": [
    {
     "name": "stdout",
     "output_type": "stream",
     "text": [
      "hello\n"
     ]
    }
   ],
   "source": [
    "print(\"hello\")"
   ]
  },
  {
   "cell_type": "code",
   "execution_count": 2,
   "id": "62578935-a0f8-499b-9bf1-3beea2df339e",
   "metadata": {},
   "outputs": [
    {
     "name": "stdout",
     "output_type": "stream",
     "text": [
      "value of a is  6\n",
      "value of b is  10\n"
     ]
    }
   ],
   "source": [
    "a = 10\n",
    "b = a\n",
    "a = 6\n",
    "print(\"value of a is \", a)\n",
    "print(\"value of b is \", b)"
   ]
  },
  {
   "cell_type": "code",
   "execution_count": 3,
   "id": "5e00775c-433e-4049-9c6e-b9c790f10eae",
   "metadata": {},
   "outputs": [
    {
     "name": "stdout",
     "output_type": "stream",
     "text": [
      "1\n",
      "2\n",
      "3\n",
      "4\n",
      "5\n",
      "6\n",
      "7\n",
      "8\n",
      "9\n"
     ]
    }
   ],
   "source": [
    "for n in range(1,10):\n",
    "    print(n)"
   ]
  },
  {
   "cell_type": "code",
   "execution_count": 4,
   "id": "6a15d211-a83e-4841-8371-d0923a4e20bd",
   "metadata": {},
   "outputs": [
    {
     "name": "stdout",
     "output_type": "stream",
     "text": [
      "1 A 1 B 1 C 1 D "
     ]
    }
   ],
   "source": [
    "for i in range(1,2):\n",
    "    for j in \"ABCD\":\n",
    "        print(i,j, end=' ')"
   ]
  },
  {
   "cell_type": "code",
   "execution_count": 6,
   "id": "f32eb723-4f7d-451c-b2c9-b70591243e6c",
   "metadata": {},
   "outputs": [
    {
     "name": "stdout",
     "output_type": "stream",
     "text": [
      "x nxx lxyxtxx cxsx"
     ]
    }
   ],
   "source": [
    "for c in 'analytics':\n",
    "    if (c == 'a') or (c == 'i'):\n",
    "        print('x', end = ' ')\n",
    "    else:\n",
    "        print(c, end = 'x')"
   ]
  },
  {
   "cell_type": "code",
   "execution_count": 7,
   "id": "ff92eaed-c880-468f-8245-5d475d1a307d",
   "metadata": {},
   "outputs": [
    {
     "name": "stdout",
     "output_type": "stream",
     "text": [
      "['sam', 45, 4500000]\n"
     ]
    }
   ],
   "source": [
    "l1 = [\"sam\", 45, 4500000]\n",
    "print(l1)"
   ]
  },
  {
   "cell_type": "code",
   "execution_count": 15,
   "id": "e298f2ef-8242-4f24-a40b-0878c4b253f5",
   "metadata": {},
   "outputs": [],
   "source": [
    "l1.extend([1,2,3])"
   ]
  },
  {
   "cell_type": "code",
   "execution_count": 16,
   "id": "eeae1a8a-3734-4c4b-ac4e-213eb95e8fe8",
   "metadata": {},
   "outputs": [
    {
     "name": "stdout",
     "output_type": "stream",
     "text": [
      "['sam', 45, 4500000, 1, 2, 3]\n"
     ]
    }
   ],
   "source": [
    "print(l1)"
   ]
  },
  {
   "cell_type": "code",
   "execution_count": 17,
   "id": "3c959fa8-38ff-4375-9173-983416a5a8d6",
   "metadata": {},
   "outputs": [],
   "source": [
    "l1.append([4,5,6])"
   ]
  },
  {
   "cell_type": "code",
   "execution_count": 18,
   "id": "ebd9d8fb-004b-40a6-971e-e14a50d2b0f8",
   "metadata": {},
   "outputs": [
    {
     "name": "stdout",
     "output_type": "stream",
     "text": [
      "['sam', 45, 4500000, 1, 2, 3, [4, 5, 6]]\n"
     ]
    }
   ],
   "source": [
    "print(l1)"
   ]
  },
  {
   "cell_type": "code",
   "execution_count": 19,
   "id": "4e270361-d2f0-40ab-ac15-f971c58af21d",
   "metadata": {},
   "outputs": [],
   "source": [
    "l1.remove([4,5,6])"
   ]
  },
  {
   "cell_type": "code",
   "execution_count": 20,
   "id": "c372ce18-08bc-4d1c-8b46-9480cb132e05",
   "metadata": {},
   "outputs": [
    {
     "name": "stdout",
     "output_type": "stream",
     "text": [
      "['sam', 45, 4500000, 1, 2, 3]\n"
     ]
    }
   ],
   "source": [
    "print(l1)"
   ]
  },
  {
   "cell_type": "code",
   "execution_count": 22,
   "id": "21012416-5602-4305-b1f9-0bddbe8febc2",
   "metadata": {},
   "outputs": [
    {
     "name": "stdout",
     "output_type": "stream",
     "text": [
      "6\n"
     ]
    }
   ],
   "source": [
    "print(len(l1))"
   ]
  },
  {
   "cell_type": "code",
   "execution_count": 24,
   "id": "739f8b9f-f1b0-419e-a3d7-5f01646504a8",
   "metadata": {},
   "outputs": [
    {
     "name": "stdout",
     "output_type": "stream",
     "text": [
      "3\n"
     ]
    }
   ],
   "source": [
    "print(l1[-1])"
   ]
  },
  {
   "cell_type": "code",
   "execution_count": 28,
   "id": "7e8363e1-8147-45db-a43b-08c97beb01a4",
   "metadata": {},
   "outputs": [],
   "source": [
    "del l1[-1]"
   ]
  },
  {
   "cell_type": "code",
   "execution_count": 29,
   "id": "3e3fb339-94a7-4188-b7f2-e4604d353cf4",
   "metadata": {},
   "outputs": [
    {
     "name": "stdout",
     "output_type": "stream",
     "text": [
      "['sam', 45, 4500000, 1]\n"
     ]
    }
   ],
   "source": [
    "print(l1)"
   ]
  },
  {
   "cell_type": "code",
   "execution_count": 30,
   "id": "d35cb409-e500-4159-9bbc-abe54bfa0e8f",
   "metadata": {},
   "outputs": [],
   "source": [
    "l1.remove(1)"
   ]
  },
  {
   "cell_type": "code",
   "execution_count": 31,
   "id": "f22aa4e2-7a48-48fd-8503-2edf4d0cedd3",
   "metadata": {},
   "outputs": [
    {
     "name": "stdout",
     "output_type": "stream",
     "text": [
      "['sam', 45, 4500000]\n"
     ]
    }
   ],
   "source": [
    "print(l1)"
   ]
  },
  {
   "cell_type": "code",
   "execution_count": 36,
   "id": "db28e236-c069-430e-94ea-5b6492345a86",
   "metadata": {},
   "outputs": [
    {
     "name": "stdout",
     "output_type": "stream",
     "text": [
      "True\n"
     ]
    }
   ],
   "source": [
    "s1={1,2,3,4,5,6}\n",
    "s2={1,4,3}\n",
    "print(s1.issuperset(s2))"
   ]
  },
  {
   "cell_type": "code",
   "execution_count": 53,
   "id": "a18b306c-ea56-40f9-aa99-83e230d6f521",
   "metadata": {},
   "outputs": [
    {
     "data": {
      "text/plain": [
       "['grape', 'apple', 'apple', 'banana', 'banana', 'kiwi', 'orange', 'pear']"
      ]
     },
     "execution_count": 53,
     "metadata": {},
     "output_type": "execute_result"
    }
   ],
   "source": [
    "fruits = ['orange', 'apple', 'pear', 'banana', 'kiwi', 'apple', 'banana']\n",
    "fruits.count('kiwi')\n",
    "fruits.index(\"apple\",fruits.index(\"apple\")+1)\n",
    "fruits.reverse()\n",
    "fruits\n",
    "fruits.sort()\n",
    "fruits\n",
    "fruits.append(\"grape\")\n",
    "fruits\n",
    "fruits.insert(0,fruits.pop())\n",
    "fruits"
   ]
  },
  {
   "cell_type": "code",
   "execution_count": 59,
   "id": "4430fbe6-51da-47de-aea3-8486ea655be7",
   "metadata": {},
   "outputs": [
    {
     "data": {
      "text/plain": [
       "[0, 1, 4, 9, 16, 25, 36, 49, 64, 81]"
      ]
     },
     "execution_count": 59,
     "metadata": {},
     "output_type": "execute_result"
    }
   ],
   "source": [
    "l = list(map(lambda x: x**2, range(10)))\n",
    "l"
   ]
  },
  {
   "cell_type": "code",
   "execution_count": 60,
   "id": "4db3db05-e349-4ad4-a0f8-e6c8b81f85db",
   "metadata": {},
   "outputs": [
    {
     "data": {
      "text/plain": [
       "[0, 1, 4, 9, 16, 25, 36, 49, 64, 81]"
      ]
     },
     "execution_count": 60,
     "metadata": {},
     "output_type": "execute_result"
    }
   ],
   "source": [
    "l = [x**2 for x in range(10)]\n",
    "l"
   ]
  },
  {
   "cell_type": "code",
   "execution_count": 63,
   "id": "39a8a36e-2dba-4fb6-bbc8-0c4277833a23",
   "metadata": {},
   "outputs": [
    {
     "data": {
      "text/plain": [
       "{0, 1, 4, 9, 16, 25, 36, 49, 64, 81}"
      ]
     },
     "execution_count": 63,
     "metadata": {},
     "output_type": "execute_result"
    }
   ],
   "source": [
    "st = {x**2 for x in range(10)}\n",
    "s\n",
    "t"
   ]
  },
  {
   "cell_type": "code",
   "execution_count": 69,
   "id": "116e57b5-3923-4ab2-8fc7-667faf0d22d1",
   "metadata": {},
   "outputs": [
    {
     "data": {
      "text/plain": [
       "[[1, 11],\n",
       " [1, 22],\n",
       " [1, 33],\n",
       " [2, 11],\n",
       " [2, 22],\n",
       " [2, 33],\n",
       " [3, 11],\n",
       " [3, 22],\n",
       " [3, 33]]"
      ]
     },
     "execution_count": 69,
     "metadata": {},
     "output_type": "execute_result"
    }
   ],
   "source": [
    "[[x,y] for x in [1,2,3] for y in [11,22,33] if x!=y]"
   ]
  },
  {
   "cell_type": "code",
   "execution_count": 70,
   "id": "a516f54f-7fbc-48c9-9d30-0fd82cccc84a",
   "metadata": {},
   "outputs": [
    {
     "data": {
      "text/plain": [
       "[4, 6, 8]"
      ]
     },
     "execution_count": 70,
     "metadata": {},
     "output_type": "execute_result"
    }
   ],
   "source": [
    "[x*2 for x in [2,3,4]]"
   ]
  },
  {
   "cell_type": "code",
   "execution_count": 71,
   "id": "5e2bc52a-6597-4385-a9c0-9d7b06d4042e",
   "metadata": {},
   "outputs": [
    {
     "data": {
      "text/plain": [
       "[0, 1, 2, 3]"
      ]
     },
     "execution_count": 71,
     "metadata": {},
     "output_type": "execute_result"
    }
   ],
   "source": [
    "[x for x in range(4)]"
   ]
  },
  {
   "cell_type": "code",
   "execution_count": 100,
   "id": "6ee92459-ed69-4ae7-8956-f890bc9bdef2",
   "metadata": {},
   "outputs": [
    {
     "data": {
      "text/plain": [
       "[[1, 5, 9], [2, 6, 10], [3, 7, 11], [4, 8, 12]]"
      ]
     },
     "execution_count": 100,
     "metadata": {},
     "output_type": "execute_result"
    }
   ],
   "source": [
    "matrix = [\n",
    "    [1, 2, 3, 4],\n",
    "    [5, 6, 7, 8],\n",
    "    [9, 10, 11, 12],\n",
    "]\n",
    "t = []\n",
    "for i in range(4):\n",
    "    t.append([row[i] for row in matrix])\n",
    "t        \n",
    "#transposed = []\n",
    "#for i in range(4):\n",
    "#    transposed.append([row[i] for row in matrix])\n",
    "#    print(i)\n",
    "    #print(row[i])\n",
    "#    print(transposed)"
   ]
  },
  {
   "cell_type": "code",
   "execution_count": 101,
   "id": "0b77f89c-9314-447a-a45b-abae9c314bad",
   "metadata": {},
   "outputs": [
    {
     "data": {
      "text/plain": [
       "[[1, 2, 3, 4], [5, 6, 7, 8], [9, 10, 11, 12]]"
      ]
     },
     "execution_count": 101,
     "metadata": {},
     "output_type": "execute_result"
    }
   ],
   "source": [
    "matrix"
   ]
  },
  {
   "cell_type": "code",
   "execution_count": 102,
   "id": "0dcbce62-0176-4c39-95c8-20acb2ccebbe",
   "metadata": {},
   "outputs": [
    {
     "data": {
      "text/plain": [
       "[(1, 5, 9), (2, 6, 10), (3, 7, 11), (4, 8, 12)]"
      ]
     },
     "execution_count": 102,
     "metadata": {},
     "output_type": "execute_result"
    }
   ],
   "source": [
    "list(zip(*matrix))"
   ]
  },
  {
   "cell_type": "code",
   "execution_count": 106,
   "id": "88fbefa5-68dc-490f-bae2-2e8928bd5169",
   "metadata": {},
   "outputs": [
    {
     "name": "stdout",
     "output_type": "stream",
     "text": [
      "(1, 5, 9)\n",
      "(2, 6, 10)\n",
      "(3, 7, 11)\n",
      "(4, 8, 12)\n"
     ]
    }
   ],
   "source": [
    "for item in zip(*matrix):\n",
    "    print(item)"
   ]
  },
  {
   "cell_type": "code",
   "execution_count": null,
   "id": "b5f70386-53b4-4f87-907b-6f3f94366107",
   "metadata": {},
   "outputs": [],
   "source": []
  }
 ],
 "metadata": {
  "kernelspec": {
   "display_name": "Python 3 (ipykernel)",
   "language": "python",
   "name": "python3"
  },
  "language_info": {
   "codemirror_mode": {
    "name": "ipython",
    "version": 3
   },
   "file_extension": ".py",
   "mimetype": "text/x-python",
   "name": "python",
   "nbconvert_exporter": "python",
   "pygments_lexer": "ipython3",
   "version": "3.11.7"
  }
 },
 "nbformat": 4,
 "nbformat_minor": 5
}
