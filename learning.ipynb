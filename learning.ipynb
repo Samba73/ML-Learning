{
 "cells": [
  {
   "cell_type": "code",
   "execution_count": 1,
   "id": "ec387a47-f171-4180-9067-c72d41cd0d3b",
   "metadata": {},
   "outputs": [
    {
     "data": {
      "text/plain": [
       "('abc', 12345, 23.54)"
      ]
     },
     "execution_count": 1,
     "metadata": {},
     "output_type": "execute_result"
    }
   ],
   "source": [
    "t = 'abc',12345,23.54\n",
    "t"
   ]
  },
  {
   "cell_type": "code",
   "execution_count": 2,
   "id": "d73dc248-cfcd-4418-be3a-b5726b9fe13c",
   "metadata": {},
   "outputs": [],
   "source": [
    "name, id, dph = t"
   ]
  },
  {
   "cell_type": "code",
   "execution_count": 3,
   "id": "39fe1a6c-4145-46ad-9540-0563922847db",
   "metadata": {},
   "outputs": [
    {
     "data": {
      "text/plain": [
       "23.54"
      ]
     },
     "execution_count": 3,
     "metadata": {},
     "output_type": "execute_result"
    }
   ],
   "source": [
    "name\n",
    "id\n",
    "dph\n"
   ]
  },
  {
   "cell_type": "code",
   "execution_count": 4,
   "id": "351e92a1-a527-4b7e-83ce-347b19276b8f",
   "metadata": {},
   "outputs": [
    {
     "data": {
      "text/plain": [
       "'abc'"
      ]
     },
     "execution_count": 4,
     "metadata": {},
     "output_type": "execute_result"
    }
   ],
   "source": [
    "name"
   ]
  },
  {
   "cell_type": "code",
   "execution_count": 5,
   "id": "f693280e-1852-47fa-b986-7f2518f2085f",
   "metadata": {},
   "outputs": [
    {
     "data": {
      "text/plain": [
       "12345"
      ]
     },
     "execution_count": 5,
     "metadata": {},
     "output_type": "execute_result"
    }
   ],
   "source": [
    "id"
   ]
  },
  {
   "cell_type": "code",
   "execution_count": 6,
   "id": "ed7c9c29-8fa6-4764-bd4b-1b032de12dac",
   "metadata": {},
   "outputs": [
    {
     "data": {
      "text/plain": [
       "55555"
      ]
     },
     "execution_count": 6,
     "metadata": {},
     "output_type": "execute_result"
    }
   ],
   "source": [
    "id = 55555\n",
    "id\n"
   ]
  },
  {
   "cell_type": "code",
   "execution_count": 7,
   "id": "c444dc2d-adfb-4697-b0f9-26c84f683306",
   "metadata": {},
   "outputs": [
    {
     "data": {
      "text/plain": [
       "('abc', 55555, 23.54)"
      ]
     },
     "execution_count": 7,
     "metadata": {},
     "output_type": "execute_result"
    }
   ],
   "source": [
    "t = name, id, dph\n",
    "t"
   ]
  },
  {
   "cell_type": "code",
   "execution_count": 9,
   "id": "3649d36e-ae37-4029-88b7-0af295a75550",
   "metadata": {},
   "outputs": [
    {
     "data": {
      "text/plain": [
       "'abc'"
      ]
     },
     "execution_count": 9,
     "metadata": {},
     "output_type": "execute_result"
    }
   ],
   "source": [
    "x, y, _ = t\n",
    "x"
   ]
  },
  {
   "cell_type": "code",
   "execution_count": 10,
   "id": "3d70b722-ae4b-4bad-ac8f-b5e718aa5f10",
   "metadata": {},
   "outputs": [
    {
     "data": {
      "text/plain": [
       "23.54"
      ]
     },
     "execution_count": 10,
     "metadata": {},
     "output_type": "execute_result"
    }
   ],
   "source": [
    "_"
   ]
  },
  {
   "cell_type": "code",
   "execution_count": 22,
   "id": "e246ec35-3d34-46ce-ac8c-0630275f0a08",
   "metadata": {},
   "outputs": [
    {
     "name": "stdout",
     "output_type": "stream",
     "text": [
      "name dept pay\n",
      "sam IT 200000\n",
      "pam IT 100000\n",
      "tam sales 150000\n",
      "jam finance 75000\n"
     ]
    }
   ],
   "source": [
    "from collections import namedtuple\n",
    "EmployeeRecord = namedtuple('EmployeeRecord','name,age,dept,pay')\n",
    "import csv\n",
    "for emp in map(EmployeeRecord._make, csv.reader(open(\"C:\\\\Users\\\\AW954XQ\\\\employees.csv\", \"r\"))):\n",
    "    print(emp.name, emp.dept, emp.pay)"
   ]
  },
  {
   "cell_type": "code",
   "execution_count": 23,
   "id": "baae0ab1-5342-4c2a-8a77-b3a5297e1c67",
   "metadata": {},
   "outputs": [
    {
     "data": {
      "text/plain": [
       "True"
      ]
     },
     "execution_count": 23,
     "metadata": {},
     "output_type": "execute_result"
    }
   ],
   "source": [
    "(1, 2, 3)              < (1, 2, 4)"
   ]
  },
  {
   "cell_type": "code",
   "execution_count": 24,
   "id": "9de405d6-5efb-45a9-8a90-50fa006ee555",
   "metadata": {},
   "outputs": [
    {
     "data": {
      "text/plain": [
       "False"
      ]
     },
     "execution_count": 24,
     "metadata": {},
     "output_type": "execute_result"
    }
   ],
   "source": [
    "(1,2,3) == [1,2,3]"
   ]
  },
  {
   "cell_type": "code",
   "execution_count": 25,
   "id": "df7b616d-ad61-4e76-ba63-1c7596671a08",
   "metadata": {},
   "outputs": [
    {
     "data": {
      "text/plain": [
       "True"
      ]
     },
     "execution_count": 25,
     "metadata": {},
     "output_type": "execute_result"
    }
   ],
   "source": [
    "[1,2,4] > [1,2,2]"
   ]
  },
  {
   "cell_type": "code",
   "execution_count": 26,
   "id": "cb1f5d80-fbfe-45a7-8f28-c85ac53ea459",
   "metadata": {},
   "outputs": [
    {
     "data": {
      "text/plain": [
       "True"
      ]
     },
     "execution_count": 26,
     "metadata": {},
     "output_type": "execute_result"
    }
   ],
   "source": [
    "'ABC' < 'C' < 'Pascal' < 'Python'"
   ]
  },
  {
   "cell_type": "code",
   "execution_count": 27,
   "id": "839286fe-8dd1-49bf-b6aa-3451f8a1b391",
   "metadata": {},
   "outputs": [
    {
     "data": {
      "text/plain": [
       "True"
      ]
     },
     "execution_count": 27,
     "metadata": {},
     "output_type": "execute_result"
    }
   ],
   "source": [
    "'ABC' < 'C'"
   ]
  },
  {
   "cell_type": "code",
   "execution_count": 28,
   "id": "d21edca3-c11d-4a25-a708-a64f2f33df5f",
   "metadata": {},
   "outputs": [
    {
     "data": {
      "text/plain": [
       "True"
      ]
     },
     "execution_count": 28,
     "metadata": {},
     "output_type": "execute_result"
    }
   ],
   "source": [
    "(1, 2, 3)             == (1.0, 2.0, 3.0)"
   ]
  },
  {
   "cell_type": "code",
   "execution_count": 29,
   "id": "6807a7cb-c365-4300-962c-ae225a4e06f0",
   "metadata": {},
   "outputs": [
    {
     "data": {
      "text/plain": [
       "'AYHDIV SCITYLANA'"
      ]
     },
     "execution_count": 29,
     "metadata": {},
     "output_type": "execute_result"
    }
   ],
   "source": [
    "my_string=\"ANALYTICS VIDHYA\"\n",
    "my_string[::-1]"
   ]
  },
  {
   "cell_type": "code",
   "execution_count": 30,
   "id": "5a3f4204-3970-4ace-8847-b476c4cd98dd",
   "metadata": {},
   "outputs": [
    {
     "data": {
      "text/plain": [
       "[1, 1, 0, 0, 2]"
      ]
     },
     "execution_count": 30,
     "metadata": {},
     "output_type": "execute_result"
    }
   ],
   "source": [
    "my_list = ['lakshay','sanad','aravind','aishwarya','prateek']\n",
    "find_a = []\n",
    "for name in my_list:\n",
    "    x = name.find('a')\n",
    "    find_a.append(x)\n",
    "find_a    \n",
    "                  "
   ]
  },
  {
   "cell_type": "code",
   "execution_count": 33,
   "id": "31268cdf-d933-4244-9b39-b3833c573f39",
   "metadata": {},
   "outputs": [
    {
     "name": "stdout",
     "output_type": "stream",
     "text": [
      "['h', 'ry', 'n', '']\n",
      "['punj', 'b']\n",
      "['r', 'j', 'sth', 'n']\n",
      "['k', 'rn', 't', 'k', '']\n",
      "['go', '']\n"
     ]
    },
    {
     "data": {
      "text/plain": [
       "[4, 2, 4, 5, 2]"
      ]
     },
     "execution_count": 33,
     "metadata": {},
     "output_type": "execute_result"
    }
   ],
   "source": [
    "state = ['haryana','punjab','rajasthan','karnataka','goa']\n",
    "output = []\n",
    "for s in state:\n",
    "    split_at_a = s.split('a')\n",
    "    print(split_at_a)\n",
    "    output.append(len(split_at_a))\n",
    "output    \n",
    "    "
   ]
  },
  {
   "cell_type": "code",
   "execution_count": 37,
   "id": "19890179-e697-4318-9ee0-d366440a6afe",
   "metadata": {},
   "outputs": [
    {
     "data": {
      "text/plain": [
       "True"
      ]
     },
     "execution_count": 37,
     "metadata": {},
     "output_type": "execute_result"
    }
   ],
   "source": [
    "62//10==6"
   ]
  },
  {
   "cell_type": "code",
   "execution_count": 5,
   "id": "c273008b-a1e9-4f6f-8c25-87fcd4750ebe",
   "metadata": {},
   "outputs": [
    {
     "name": "stdout",
     "output_type": "stream",
     "text": [
      "12\n"
     ]
    }
   ],
   "source": [
    "y = lambda x : x+10\n",
    "print(y(2))"
   ]
  },
  {
   "cell_type": "code",
   "execution_count": null,
   "id": "1987a42e-b2ab-4873-bf30-9e093779b1b0",
   "metadata": {},
   "outputs": [],
   "source": [
    "y = def f1(x):\n",
    "        x+10"
   ]
  },
  {
   "cell_type": "code",
   "execution_count": null,
   "id": "e00110bc-5e83-4f74-928f-19e83651971d",
   "metadata": {},
   "outputs": [],
   "source": [
    "y = def f1(x):\n",
    "        x+10"
   ]
  },
  {
   "cell_type": "code",
   "execution_count": 8,
   "id": "84713e1c-8a6c-4a28-89bb-9f69ff358f76",
   "metadata": {},
   "outputs": [
    {
     "name": "stdout",
     "output_type": "stream",
     "text": [
      "Value of n:  4\n",
      "Value of n:  3\n",
      "Value of n:  2\n",
      "Temporary result is :  3\n",
      "Value of n:  2\n",
      "Temporary result is :  6\n",
      "Value of n:  3\n",
      "Value of n:  2\n",
      "Temporary result is :  3\n",
      "Value of n:  2\n",
      "6\n"
     ]
    }
   ],
   "source": [
    "def find_number_handshakes(n):\n",
    "    print(\"Value of n: \", n)\n",
    "    if n == 2:\n",
    "        \n",
    "        return 1\n",
    "    else:\n",
    " \n",
    "        temp_result = find_number_handshakes(n - 1) + (n - 1)\n",
    "        print(\"Temporary result is : \", temp_result)\n",
    "        return find_number_handshakes(n-1) + (n-1)\n",
    "\n",
    "result = find_number_handshakes(4)\n",
    "print(result)"
   ]
  },
  {
   "cell_type": "code",
   "execution_count": 25,
   "id": "13ee5095-fabd-40d6-8e64-97a9d1689176",
   "metadata": {},
   "outputs": [
    {
     "name": "stdout",
     "output_type": "stream",
     "text": [
      "Value of n:  5\n",
      "Value of n:  4\n",
      "Value of n:  3\n",
      "Value of n:  2\n",
      "Temporary result is :  5\n",
      "Value of n:  2\n",
      "Temporary result is :  10\n",
      "Value of n:  3\n",
      "Value of n:  2\n",
      "Temporary result is :  5\n",
      "Value of n:  2\n",
      "Temporary result is :  16\n",
      "Value of n:  4\n",
      "Value of n:  3\n",
      "Value of n:  2\n",
      "Temporary result is :  5\n",
      "Value of n:  2\n",
      "Temporary result is :  10\n",
      "Value of n:  3\n",
      "Value of n:  2\n",
      "Temporary result is :  5\n",
      "Value of n:  2\n",
      "16\n"
     ]
    }
   ],
   "source": [
    "def find_number_handshakes(n):\n",
    "    print(\"Value of n: \", n)\n",
    "    if n == 2:\n",
    "        \n",
    "        return 1\n",
    "    else:\n",
    " \n",
    "        temp_result = find_number_handshakes(n - 1) + (n + 1)\n",
    "        print(\"Temporary result is : \", temp_result)\n",
    "        return find_number_handshakes(n-1) + (n+1)\n",
    "\n",
    "result = find_number_handshakes(5)\n",
    "print(result)"
   ]
  },
  {
   "cell_type": "code",
   "execution_count": 23,
   "id": "2fbc7857-6e3d-4478-8b7d-c0b8127e093e",
   "metadata": {},
   "outputs": [
    {
     "data": {
      "text/plain": [
       "3"
      ]
     },
     "execution_count": 23,
     "metadata": {},
     "output_type": "execute_result"
    }
   ],
   "source": [
    "def function(number):\n",
    "    if number == 1:\n",
    "        return 0\n",
    "    elif number == 2:\n",
    "        return 1\n",
    "    else:\n",
    "        return function(number - 1) + function(number - 2)\n",
    "function(5)        "
   ]
  },
  {
   "cell_type": "code",
   "execution_count": 15,
   "id": "609a77e2-f67d-4201-9222-63daf94e5832",
   "metadata": {},
   "outputs": [
    {
     "data": {
      "text/plain": [
       "'1001, Test1, 120000, 9999\\n1002, Test2, 145000, 8888\\n1003, Test3, 210000, 5555'"
      ]
     },
     "execution_count": 15,
     "metadata": {},
     "output_type": "execute_result"
    }
   ],
   "source": [
    "file = open(\"emp.txt\", \"r\")\n",
    "content = file.read()\n",
    "content"
   ]
  },
  {
   "cell_type": "code",
   "execution_count": 21,
   "id": "c1bce4b1-805e-4296-a384-6b1040370992",
   "metadata": {},
   "outputs": [
    {
     "data": {
      "text/plain": [
       "'1, 120000, 9999\\n1002, Test2, 145000, 8888\\n1003, Test3, 210000, 5555'"
      ]
     },
     "execution_count": 21,
     "metadata": {},
     "output_type": "execute_result"
    }
   ],
   "source": [
    "content = file.read()\n",
    "content"
   ]
  },
  {
   "cell_type": "code",
   "execution_count": 32,
   "id": "d9a17748-d9ae-464a-af33-eb9616d8fbe5",
   "metadata": {},
   "outputs": [],
   "source": [
    "file.close()"
   ]
  },
  {
   "cell_type": "code",
   "execution_count": 20,
   "id": "43c97f97-364b-4d42-a5ec-4916f272ce5c",
   "metadata": {},
   "outputs": [
    {
     "data": {
      "text/plain": [
       "10"
      ]
     },
     "execution_count": 20,
     "metadata": {},
     "output_type": "execute_result"
    }
   ],
   "source": [
    "file.seek(10)"
   ]
  },
  {
   "cell_type": "code",
   "execution_count": 31,
   "id": "2b5f2070-128c-4098-916c-e3c5716c1f8d",
   "metadata": {},
   "outputs": [
    {
     "name": "stdout",
     "output_type": "stream",
     "text": [
      "1001, Test1, 120000, 9999\n",
      "\n",
      "1002, Test2, 145000, 8888\n",
      "\n",
      "1003, Test3, 210000, 5555\n"
     ]
    }
   ],
   "source": [
    "file = open(\"emp.txt\", \"r\")\n",
    "contents = file.readlines()\n",
    "for content in contents:\n",
    "    print(content)"
   ]
  },
  {
   "cell_type": "code",
   "execution_count": 35,
   "id": "4d006d5e-b53d-4662-8c6f-b58be1399ca1",
   "metadata": {},
   "outputs": [
    {
     "data": {
      "text/plain": [
       "['1001, Test1, 120000, 9999\\n',\n",
       " '1002, Test2, 145000, 8888\\n',\n",
       " '1003, Test3, 210000, 5555']"
      ]
     },
     "execution_count": 35,
     "metadata": {},
     "output_type": "execute_result"
    }
   ],
   "source": [
    "with open(\"emp.txt\", \"r\") as file:\n",
    "    contents = file.readlines()\n",
    "contents    "
   ]
  },
  {
   "cell_type": "code",
   "execution_count": 37,
   "id": "6d2cdddd-05ab-4b64-8ecc-01bb124f5a45",
   "metadata": {},
   "outputs": [
    {
     "data": {
      "text/plain": [
       "26"
      ]
     },
     "execution_count": 37,
     "metadata": {},
     "output_type": "execute_result"
    }
   ],
   "source": [
    "new_contents = open(\"new_file.txt\", \"w+\")\n",
    "new_contents.write(\"This is first line written\")"
   ]
  },
  {
   "cell_type": "code",
   "execution_count": 39,
   "id": "470e05d2-88a3-405e-ade5-850bcbdcfd3b",
   "metadata": {},
   "outputs": [],
   "source": [
    "list_contents = [\"This is second line written\\n\", \"This is third line written\\n\", \"This is fourth line written\\n\"]\n",
    "new_contents = open(\"new_file.txt\", \"w+\")\n",
    "new_contents.writelines(list_contents)"
   ]
  },
  {
   "cell_type": "code",
   "execution_count": 44,
   "id": "83e52b82-8b35-43b9-95ea-9aa93a588938",
   "metadata": {},
   "outputs": [],
   "source": [
    "list_contents = [\"This is fifth line written\\n\", \"This is sixth line written\\n\", \"This is seventh line written\\n\"]\n",
    "new_contents = open(\"new_file.txt\", \"a+\")\n",
    "new_contents.writelines(list_contents)"
   ]
  },
  {
   "cell_type": "code",
   "execution_count": 45,
   "id": "450dc632-9925-493e-a184-72ff842e25aa",
   "metadata": {},
   "outputs": [
    {
     "data": {
      "text/plain": [
       "['This is second line written\\n',\n",
       " 'This is third line written\\n',\n",
       " 'This is fourth line written\\n',\n",
       " 'This is fifth line written\\n',\n",
       " 'This is sixth line written\\n',\n",
       " 'This is seventh line written\\n']"
      ]
     },
     "execution_count": 45,
     "metadata": {},
     "output_type": "execute_result"
    }
   ],
   "source": [
    "with open(\"new_file.txt\") as f:\n",
    "    contents = f.readlines()\n",
    "contents    "
   ]
  },
  {
   "cell_type": "code",
   "execution_count": 46,
   "id": "95dc3a9d-b603-4293-b283-660ce3f9af9b",
   "metadata": {},
   "outputs": [
    {
     "name": "stdout",
     "output_type": "stream",
     "text": [
      "Requirement already satisfied: numpy in c:\\users\\aw954xq\\appdata\\local\\anaconda3\\lib\\site-packages (1.26.4)\n",
      "Note: you may need to restart the kernel to use updated packages.\n"
     ]
    }
   ],
   "source": [
    "pip install numpy"
   ]
  },
  {
   "cell_type": "code",
   "execution_count": 10,
   "id": "5aeca078-4789-464a-b148-e0b9ee1c4115",
   "metadata": {},
   "outputs": [],
   "source": [
    "import numpy as np"
   ]
  },
  {
   "cell_type": "code",
   "execution_count": 48,
   "id": "6fd5bf72-741b-4ffc-93ea-b511b92e87ee",
   "metadata": {},
   "outputs": [
    {
     "data": {
      "text/plain": [
       "array([2, 3, 4, 5, 6])"
      ]
     },
     "execution_count": 48,
     "metadata": {},
     "output_type": "execute_result"
    }
   ],
   "source": [
    "np.array([2,3,4,5,6])"
   ]
  },
  {
   "cell_type": "code",
   "execution_count": 49,
   "id": "7f3fdd1d-0ef5-4233-b01a-c9ec0a337d9a",
   "metadata": {},
   "outputs": [
    {
     "data": {
      "text/plain": [
       "array([1, 2, 3, 4, 5, 6])"
      ]
     },
     "execution_count": 49,
     "metadata": {},
     "output_type": "execute_result"
    }
   ],
   "source": [
    "arry1 = np.array([1,2,3,4,5,6])\n",
    "arry1"
   ]
  },
  {
   "cell_type": "code",
   "execution_count": 50,
   "id": "733b2123-f891-418b-90b4-a3cb018d454f",
   "metadata": {},
   "outputs": [
    {
     "data": {
      "text/plain": [
       "array([ 2,  4,  6,  8, 10, 12])"
      ]
     },
     "execution_count": 50,
     "metadata": {},
     "output_type": "execute_result"
    }
   ],
   "source": [
    "arry1 * 2"
   ]
  },
  {
   "cell_type": "code",
   "execution_count": 51,
   "id": "df24155b-d003-4a51-b0ba-022748317bf9",
   "metadata": {},
   "outputs": [
    {
     "data": {
      "text/plain": [
       "array([[1, 2, 3],\n",
       "       [4, 5, 6],\n",
       "       [7, 8, 9]])"
      ]
     },
     "execution_count": 51,
     "metadata": {},
     "output_type": "execute_result"
    }
   ],
   "source": [
    "matrix_1 = [[1,2,3],[4,5,6],[7,8,9]]\n",
    "np_matrix = np.array(matrix_1)\n",
    "np_matrix"
   ]
  },
  {
   "cell_type": "code",
   "execution_count": 52,
   "id": "f1fd4af7-cdf8-4f09-80f1-5d4ca400e7c2",
   "metadata": {},
   "outputs": [
    {
     "data": {
      "text/plain": [
       "6"
      ]
     },
     "execution_count": 52,
     "metadata": {},
     "output_type": "execute_result"
    }
   ],
   "source": [
    "np_matrix[1][2]"
   ]
  },
  {
   "cell_type": "code",
   "execution_count": 53,
   "id": "75939e06-10b1-49ea-ba0b-20b64d98d48c",
   "metadata": {},
   "outputs": [
    {
     "data": {
      "text/plain": [
       "array([4, 5, 6])"
      ]
     },
     "execution_count": 53,
     "metadata": {},
     "output_type": "execute_result"
    }
   ],
   "source": [
    "np_matrix[1]"
   ]
  },
  {
   "cell_type": "code",
   "execution_count": 54,
   "id": "68f11506-d58d-434a-8a1b-23c53642efc0",
   "metadata": {},
   "outputs": [
    {
     "data": {
      "text/plain": [
       "array([[3, 1, 3],\n",
       "       [2, 0, 2],\n",
       "       [7, 8, 8]])"
      ]
     },
     "execution_count": 54,
     "metadata": {},
     "output_type": "execute_result"
    }
   ],
   "source": [
    "np.random.randint(0,10, (3,3))"
   ]
  },
  {
   "cell_type": "code",
   "execution_count": 56,
   "id": "3f7435d4-f760-42a8-a42d-69fcb686ae64",
   "metadata": {},
   "outputs": [
    {
     "data": {
      "text/plain": [
       "array([[0, 0, 0],\n",
       "       [0, 0, 0],\n",
       "       [0, 0, 0]])"
      ]
     },
     "execution_count": 56,
     "metadata": {},
     "output_type": "execute_result"
    }
   ],
   "source": [
    "np.zeros((3,3), dtype=int)"
   ]
  },
  {
   "cell_type": "code",
   "execution_count": 57,
   "id": "d2d1d6f2-958d-4696-99e5-bdbfa7323785",
   "metadata": {},
   "outputs": [
    {
     "data": {
      "text/plain": [
       "array([[1, 1, 1, 1],\n",
       "       [1, 1, 1, 1],\n",
       "       [1, 1, 1, 1],\n",
       "       [1, 1, 1, 1]])"
      ]
     },
     "execution_count": 57,
     "metadata": {},
     "output_type": "execute_result"
    }
   ],
   "source": [
    "np.ones((4,4), dtype=int)"
   ]
  },
  {
   "cell_type": "code",
   "execution_count": 58,
   "id": "94282dcd-fa15-4ec1-9502-eb207bfefeca",
   "metadata": {},
   "outputs": [
    {
     "data": {
      "text/plain": [
       "array([[1, 0, 0, 0],\n",
       "       [0, 1, 0, 0],\n",
       "       [0, 0, 1, 0],\n",
       "       [0, 0, 0, 1]])"
      ]
     },
     "execution_count": 58,
     "metadata": {},
     "output_type": "execute_result"
    }
   ],
   "source": [
    "np.identity(4, dtype=int)"
   ]
  },
  {
   "cell_type": "code",
   "execution_count": 59,
   "id": "4b171b2e-a383-43dc-aa61-7dc0ccdd7dba",
   "metadata": {},
   "outputs": [
    {
     "data": {
      "text/plain": [
       "array([[5, 5, 5],\n",
       "       [5, 5, 5],\n",
       "       [5, 5, 5]])"
      ]
     },
     "execution_count": 59,
     "metadata": {},
     "output_type": "execute_result"
    }
   ],
   "source": [
    "np.full((3,3), 5)"
   ]
  },
  {
   "cell_type": "code",
   "execution_count": 13,
   "id": "4f21d64e-1a09-4b20-9086-144441bda65b",
   "metadata": {},
   "outputs": [
    {
     "data": {
      "text/plain": [
       "array([[ 1,  2,  3],\n",
       "       [ 4,  5,  6],\n",
       "       [ 7,  8,  9],\n",
       "       [10, 11, 12]])"
      ]
     },
     "execution_count": 13,
     "metadata": {},
     "output_type": "execute_result"
    }
   ],
   "source": [
    "a_m = [[1,2,3],[4,5,6]]\n",
    "b_m = [[7,8,9],[10,11,12]]\n",
    "np.concatenate([a_m,b_m], axis = 0)"
   ]
  },
  {
   "cell_type": "code",
   "execution_count": 66,
   "id": "a56b9b31-fbc5-45d4-b734-e7ad5eb828b5",
   "metadata": {},
   "outputs": [],
   "source": [
    "import scipy"
   ]
  },
  {
   "cell_type": "code",
   "execution_count": 67,
   "id": "6e43d9df-ea2e-4b2a-b5d1-661eb974ef25",
   "metadata": {},
   "outputs": [
    {
     "data": {
      "text/plain": [
       "'1.11.4'"
      ]
     },
     "execution_count": 67,
     "metadata": {},
     "output_type": "execute_result"
    }
   ],
   "source": [
    "scipy.__version__"
   ]
  },
  {
   "cell_type": "code",
   "execution_count": 16,
   "id": "04962c25-e615-4f4f-ae89-6fda7a248fbf",
   "metadata": {},
   "outputs": [
    {
     "name": "stderr",
     "output_type": "stream",
     "text": [
      "C:\\Users\\AW954XQ\\AppData\\Local\\Temp\\ipykernel_17720\\3158201914.py:4: DeprecationWarning: scipy.misc.derivative is deprecated in SciPy v1.10.0; and will be completely removed in SciPy v1.12.0. You may consider using findiff: https://github.com/maroba/findiff or numdifftools: https://github.com/pbrod/numdifftools\n",
      "  derivative(func=my_f, x0=2)\n"
     ]
    },
    {
     "data": {
      "text/plain": [
       "4.0"
      ]
     },
     "execution_count": 16,
     "metadata": {},
     "output_type": "execute_result"
    }
   ],
   "source": [
    "from scipy.misc import derivative\n",
    "def my_f(x):\n",
    "    return x**2 + 5\n",
    "derivative(func=my_f, x0=2)    "
   ]
  },
  {
   "cell_type": "code",
   "execution_count": 17,
   "id": "fe2e1ab8-b714-457d-83dd-4c54c70fdf99",
   "metadata": {},
   "outputs": [],
   "source": [
    "import pandas as pd"
   ]
  },
  {
   "cell_type": "code",
   "execution_count": 18,
   "id": "d50c9f40-8eaf-406c-98ff-f57516b07a24",
   "metadata": {},
   "outputs": [
    {
     "data": {
      "text/plain": [
       "'2.1.4'"
      ]
     },
     "execution_count": 18,
     "metadata": {},
     "output_type": "execute_result"
    }
   ],
   "source": [
    "pd.__version__"
   ]
  },
  {
   "cell_type": "code",
   "execution_count": 19,
   "id": "1d7a40f1-743d-4db7-b360-5586fe045daa",
   "metadata": {},
   "outputs": [
    {
     "data": {
      "text/html": [
       "<div>\n",
       "<style scoped>\n",
       "    .dataframe tbody tr th:only-of-type {\n",
       "        vertical-align: middle;\n",
       "    }\n",
       "\n",
       "    .dataframe tbody tr th {\n",
       "        vertical-align: top;\n",
       "    }\n",
       "\n",
       "    .dataframe thead th {\n",
       "        text-align: right;\n",
       "    }\n",
       "</style>\n",
       "<table border=\"1\" class=\"dataframe\">\n",
       "  <thead>\n",
       "    <tr style=\"text-align: right;\">\n",
       "      <th></th>\n",
       "      <th>Item_Identifier</th>\n",
       "      <th>Item_Weight</th>\n",
       "      <th>Item_Fat_Content</th>\n",
       "      <th>Item_Visibility</th>\n",
       "      <th>Item_Type</th>\n",
       "      <th>Item_MRP</th>\n",
       "      <th>Outlet_Identifier</th>\n",
       "      <th>Outlet_Establishment_Year</th>\n",
       "      <th>Outlet_Size</th>\n",
       "      <th>Outlet_Location_Type</th>\n",
       "      <th>Outlet_Type</th>\n",
       "      <th>Item_Outlet_Sales</th>\n",
       "    </tr>\n",
       "  </thead>\n",
       "  <tbody>\n",
       "    <tr>\n",
       "      <th>0</th>\n",
       "      <td>FDA15</td>\n",
       "      <td>9.300</td>\n",
       "      <td>Low Fat</td>\n",
       "      <td>0.016047</td>\n",
       "      <td>Dairy</td>\n",
       "      <td>249.8092</td>\n",
       "      <td>OUT049</td>\n",
       "      <td>1999</td>\n",
       "      <td>Medium</td>\n",
       "      <td>Tier 1</td>\n",
       "      <td>Supermarket Type1</td>\n",
       "      <td>3735.1380</td>\n",
       "    </tr>\n",
       "    <tr>\n",
       "      <th>1</th>\n",
       "      <td>DRC01</td>\n",
       "      <td>5.920</td>\n",
       "      <td>Regular</td>\n",
       "      <td>0.019278</td>\n",
       "      <td>Soft Drinks</td>\n",
       "      <td>48.2692</td>\n",
       "      <td>OUT018</td>\n",
       "      <td>2009</td>\n",
       "      <td>Medium</td>\n",
       "      <td>Tier 3</td>\n",
       "      <td>Supermarket Type2</td>\n",
       "      <td>443.4228</td>\n",
       "    </tr>\n",
       "    <tr>\n",
       "      <th>2</th>\n",
       "      <td>FDN15</td>\n",
       "      <td>17.500</td>\n",
       "      <td>Low Fat</td>\n",
       "      <td>0.016760</td>\n",
       "      <td>Meat</td>\n",
       "      <td>141.6180</td>\n",
       "      <td>OUT049</td>\n",
       "      <td>1999</td>\n",
       "      <td>Medium</td>\n",
       "      <td>Tier 1</td>\n",
       "      <td>Supermarket Type1</td>\n",
       "      <td>2097.2700</td>\n",
       "    </tr>\n",
       "    <tr>\n",
       "      <th>3</th>\n",
       "      <td>FDX07</td>\n",
       "      <td>19.200</td>\n",
       "      <td>Regular</td>\n",
       "      <td>0.000000</td>\n",
       "      <td>Fruits and Vegetables</td>\n",
       "      <td>182.0950</td>\n",
       "      <td>OUT010</td>\n",
       "      <td>1998</td>\n",
       "      <td>NaN</td>\n",
       "      <td>Tier 3</td>\n",
       "      <td>Grocery Store</td>\n",
       "      <td>732.3800</td>\n",
       "    </tr>\n",
       "    <tr>\n",
       "      <th>4</th>\n",
       "      <td>NCD19</td>\n",
       "      <td>8.930</td>\n",
       "      <td>Low Fat</td>\n",
       "      <td>0.000000</td>\n",
       "      <td>Household</td>\n",
       "      <td>53.8614</td>\n",
       "      <td>OUT013</td>\n",
       "      <td>1987</td>\n",
       "      <td>High</td>\n",
       "      <td>Tier 3</td>\n",
       "      <td>Supermarket Type1</td>\n",
       "      <td>994.7052</td>\n",
       "    </tr>\n",
       "    <tr>\n",
       "      <th>...</th>\n",
       "      <td>...</td>\n",
       "      <td>...</td>\n",
       "      <td>...</td>\n",
       "      <td>...</td>\n",
       "      <td>...</td>\n",
       "      <td>...</td>\n",
       "      <td>...</td>\n",
       "      <td>...</td>\n",
       "      <td>...</td>\n",
       "      <td>...</td>\n",
       "      <td>...</td>\n",
       "      <td>...</td>\n",
       "    </tr>\n",
       "    <tr>\n",
       "      <th>8518</th>\n",
       "      <td>FDF22</td>\n",
       "      <td>6.865</td>\n",
       "      <td>Low Fat</td>\n",
       "      <td>0.056783</td>\n",
       "      <td>Snack Foods</td>\n",
       "      <td>214.5218</td>\n",
       "      <td>OUT013</td>\n",
       "      <td>1987</td>\n",
       "      <td>High</td>\n",
       "      <td>Tier 3</td>\n",
       "      <td>Supermarket Type1</td>\n",
       "      <td>2778.3834</td>\n",
       "    </tr>\n",
       "    <tr>\n",
       "      <th>8519</th>\n",
       "      <td>FDS36</td>\n",
       "      <td>8.380</td>\n",
       "      <td>Regular</td>\n",
       "      <td>0.046982</td>\n",
       "      <td>Baking Goods</td>\n",
       "      <td>108.1570</td>\n",
       "      <td>OUT045</td>\n",
       "      <td>2002</td>\n",
       "      <td>NaN</td>\n",
       "      <td>Tier 2</td>\n",
       "      <td>Supermarket Type1</td>\n",
       "      <td>549.2850</td>\n",
       "    </tr>\n",
       "    <tr>\n",
       "      <th>8520</th>\n",
       "      <td>NCJ29</td>\n",
       "      <td>10.600</td>\n",
       "      <td>Low Fat</td>\n",
       "      <td>0.035186</td>\n",
       "      <td>Health and Hygiene</td>\n",
       "      <td>85.1224</td>\n",
       "      <td>OUT035</td>\n",
       "      <td>2004</td>\n",
       "      <td>Small</td>\n",
       "      <td>Tier 2</td>\n",
       "      <td>Supermarket Type1</td>\n",
       "      <td>1193.1136</td>\n",
       "    </tr>\n",
       "    <tr>\n",
       "      <th>8521</th>\n",
       "      <td>FDN46</td>\n",
       "      <td>7.210</td>\n",
       "      <td>Regular</td>\n",
       "      <td>0.145221</td>\n",
       "      <td>Snack Foods</td>\n",
       "      <td>103.1332</td>\n",
       "      <td>OUT018</td>\n",
       "      <td>2009</td>\n",
       "      <td>Medium</td>\n",
       "      <td>Tier 3</td>\n",
       "      <td>Supermarket Type2</td>\n",
       "      <td>1845.5976</td>\n",
       "    </tr>\n",
       "    <tr>\n",
       "      <th>8522</th>\n",
       "      <td>DRG01</td>\n",
       "      <td>14.800</td>\n",
       "      <td>Low Fat</td>\n",
       "      <td>0.044878</td>\n",
       "      <td>Soft Drinks</td>\n",
       "      <td>75.4670</td>\n",
       "      <td>OUT046</td>\n",
       "      <td>1997</td>\n",
       "      <td>Small</td>\n",
       "      <td>Tier 1</td>\n",
       "      <td>Supermarket Type1</td>\n",
       "      <td>765.6700</td>\n",
       "    </tr>\n",
       "  </tbody>\n",
       "</table>\n",
       "<p>8523 rows × 12 columns</p>\n",
       "</div>"
      ],
      "text/plain": [
       "     Item_Identifier  Item_Weight Item_Fat_Content  Item_Visibility  \\\n",
       "0              FDA15        9.300          Low Fat         0.016047   \n",
       "1              DRC01        5.920          Regular         0.019278   \n",
       "2              FDN15       17.500          Low Fat         0.016760   \n",
       "3              FDX07       19.200          Regular         0.000000   \n",
       "4              NCD19        8.930          Low Fat         0.000000   \n",
       "...              ...          ...              ...              ...   \n",
       "8518           FDF22        6.865          Low Fat         0.056783   \n",
       "8519           FDS36        8.380          Regular         0.046982   \n",
       "8520           NCJ29       10.600          Low Fat         0.035186   \n",
       "8521           FDN46        7.210          Regular         0.145221   \n",
       "8522           DRG01       14.800          Low Fat         0.044878   \n",
       "\n",
       "                  Item_Type  Item_MRP Outlet_Identifier  \\\n",
       "0                     Dairy  249.8092            OUT049   \n",
       "1               Soft Drinks   48.2692            OUT018   \n",
       "2                      Meat  141.6180            OUT049   \n",
       "3     Fruits and Vegetables  182.0950            OUT010   \n",
       "4                 Household   53.8614            OUT013   \n",
       "...                     ...       ...               ...   \n",
       "8518            Snack Foods  214.5218            OUT013   \n",
       "8519           Baking Goods  108.1570            OUT045   \n",
       "8520     Health and Hygiene   85.1224            OUT035   \n",
       "8521            Snack Foods  103.1332            OUT018   \n",
       "8522            Soft Drinks   75.4670            OUT046   \n",
       "\n",
       "      Outlet_Establishment_Year Outlet_Size Outlet_Location_Type  \\\n",
       "0                          1999      Medium               Tier 1   \n",
       "1                          2009      Medium               Tier 3   \n",
       "2                          1999      Medium               Tier 1   \n",
       "3                          1998         NaN               Tier 3   \n",
       "4                          1987        High               Tier 3   \n",
       "...                         ...         ...                  ...   \n",
       "8518                       1987        High               Tier 3   \n",
       "8519                       2002         NaN               Tier 2   \n",
       "8520                       2004       Small               Tier 2   \n",
       "8521                       2009      Medium               Tier 3   \n",
       "8522                       1997       Small               Tier 1   \n",
       "\n",
       "            Outlet_Type  Item_Outlet_Sales  \n",
       "0     Supermarket Type1          3735.1380  \n",
       "1     Supermarket Type2           443.4228  \n",
       "2     Supermarket Type1          2097.2700  \n",
       "3         Grocery Store           732.3800  \n",
       "4     Supermarket Type1           994.7052  \n",
       "...                 ...                ...  \n",
       "8518  Supermarket Type1          2778.3834  \n",
       "8519  Supermarket Type1           549.2850  \n",
       "8520  Supermarket Type1          1193.1136  \n",
       "8521  Supermarket Type2          1845.5976  \n",
       "8522  Supermarket Type1           765.6700  \n",
       "\n",
       "[8523 rows x 12 columns]"
      ]
     },
     "execution_count": 19,
     "metadata": {},
     "output_type": "execute_result"
    }
   ],
   "source": [
    "big_mart_sales_data = pd.read_csv(\"big_mart_sales.csv\")\n",
    "big_mart_sales_data"
   ]
  },
  {
   "cell_type": "code",
   "execution_count": 32,
   "id": "fc64815e-4b10-4a99-adc2-30f0a38d0193",
   "metadata": {},
   "outputs": [
    {
     "data": {
      "text/plain": [
       "(8523, 12)"
      ]
     },
     "execution_count": 32,
     "metadata": {},
     "output_type": "execute_result"
    }
   ],
   "source": [
    "big_mart_sales_data.shape"
   ]
  },
  {
   "cell_type": "code",
   "execution_count": 21,
   "id": "2290fecb-2cee-452d-baff-25df8cee687b",
   "metadata": {},
   "outputs": [
    {
     "data": {
      "text/html": [
       "<div>\n",
       "<style scoped>\n",
       "    .dataframe tbody tr th:only-of-type {\n",
       "        vertical-align: middle;\n",
       "    }\n",
       "\n",
       "    .dataframe tbody tr th {\n",
       "        vertical-align: top;\n",
       "    }\n",
       "\n",
       "    .dataframe thead th {\n",
       "        text-align: right;\n",
       "    }\n",
       "</style>\n",
       "<table border=\"1\" class=\"dataframe\">\n",
       "  <thead>\n",
       "    <tr style=\"text-align: right;\">\n",
       "      <th></th>\n",
       "      <th>Item_Identifier</th>\n",
       "      <th>Item_Weight</th>\n",
       "      <th>Item_Fat_Content</th>\n",
       "      <th>Item_Visibility</th>\n",
       "      <th>Item_Type</th>\n",
       "      <th>Item_MRP</th>\n",
       "      <th>Outlet_Identifier</th>\n",
       "      <th>Outlet_Establishment_Year</th>\n",
       "      <th>Outlet_Size</th>\n",
       "      <th>Outlet_Location_Type</th>\n",
       "      <th>Outlet_Type</th>\n",
       "      <th>Item_Outlet_Sales</th>\n",
       "    </tr>\n",
       "  </thead>\n",
       "  <tbody>\n",
       "    <tr>\n",
       "      <th>0</th>\n",
       "      <td>FDA15</td>\n",
       "      <td>9.30</td>\n",
       "      <td>Low Fat</td>\n",
       "      <td>0.016047</td>\n",
       "      <td>Dairy</td>\n",
       "      <td>249.8092</td>\n",
       "      <td>OUT049</td>\n",
       "      <td>1999</td>\n",
       "      <td>Medium</td>\n",
       "      <td>Tier 1</td>\n",
       "      <td>Supermarket Type1</td>\n",
       "      <td>3735.1380</td>\n",
       "    </tr>\n",
       "    <tr>\n",
       "      <th>1</th>\n",
       "      <td>DRC01</td>\n",
       "      <td>5.92</td>\n",
       "      <td>Regular</td>\n",
       "      <td>0.019278</td>\n",
       "      <td>Soft Drinks</td>\n",
       "      <td>48.2692</td>\n",
       "      <td>OUT018</td>\n",
       "      <td>2009</td>\n",
       "      <td>Medium</td>\n",
       "      <td>Tier 3</td>\n",
       "      <td>Supermarket Type2</td>\n",
       "      <td>443.4228</td>\n",
       "    </tr>\n",
       "    <tr>\n",
       "      <th>2</th>\n",
       "      <td>FDN15</td>\n",
       "      <td>17.50</td>\n",
       "      <td>Low Fat</td>\n",
       "      <td>0.016760</td>\n",
       "      <td>Meat</td>\n",
       "      <td>141.6180</td>\n",
       "      <td>OUT049</td>\n",
       "      <td>1999</td>\n",
       "      <td>Medium</td>\n",
       "      <td>Tier 1</td>\n",
       "      <td>Supermarket Type1</td>\n",
       "      <td>2097.2700</td>\n",
       "    </tr>\n",
       "    <tr>\n",
       "      <th>3</th>\n",
       "      <td>FDX07</td>\n",
       "      <td>19.20</td>\n",
       "      <td>Regular</td>\n",
       "      <td>0.000000</td>\n",
       "      <td>Fruits and Vegetables</td>\n",
       "      <td>182.0950</td>\n",
       "      <td>OUT010</td>\n",
       "      <td>1998</td>\n",
       "      <td>NaN</td>\n",
       "      <td>Tier 3</td>\n",
       "      <td>Grocery Store</td>\n",
       "      <td>732.3800</td>\n",
       "    </tr>\n",
       "    <tr>\n",
       "      <th>4</th>\n",
       "      <td>NCD19</td>\n",
       "      <td>8.93</td>\n",
       "      <td>Low Fat</td>\n",
       "      <td>0.000000</td>\n",
       "      <td>Household</td>\n",
       "      <td>53.8614</td>\n",
       "      <td>OUT013</td>\n",
       "      <td>1987</td>\n",
       "      <td>High</td>\n",
       "      <td>Tier 3</td>\n",
       "      <td>Supermarket Type1</td>\n",
       "      <td>994.7052</td>\n",
       "    </tr>\n",
       "  </tbody>\n",
       "</table>\n",
       "</div>"
      ],
      "text/plain": [
       "  Item_Identifier  Item_Weight Item_Fat_Content  Item_Visibility  \\\n",
       "0           FDA15         9.30          Low Fat         0.016047   \n",
       "1           DRC01         5.92          Regular         0.019278   \n",
       "2           FDN15        17.50          Low Fat         0.016760   \n",
       "3           FDX07        19.20          Regular         0.000000   \n",
       "4           NCD19         8.93          Low Fat         0.000000   \n",
       "\n",
       "               Item_Type  Item_MRP Outlet_Identifier  \\\n",
       "0                  Dairy  249.8092            OUT049   \n",
       "1            Soft Drinks   48.2692            OUT018   \n",
       "2                   Meat  141.6180            OUT049   \n",
       "3  Fruits and Vegetables  182.0950            OUT010   \n",
       "4              Household   53.8614            OUT013   \n",
       "\n",
       "   Outlet_Establishment_Year Outlet_Size Outlet_Location_Type  \\\n",
       "0                       1999      Medium               Tier 1   \n",
       "1                       2009      Medium               Tier 3   \n",
       "2                       1999      Medium               Tier 1   \n",
       "3                       1998         NaN               Tier 3   \n",
       "4                       1987        High               Tier 3   \n",
       "\n",
       "         Outlet_Type  Item_Outlet_Sales  \n",
       "0  Supermarket Type1          3735.1380  \n",
       "1  Supermarket Type2           443.4228  \n",
       "2  Supermarket Type1          2097.2700  \n",
       "3      Grocery Store           732.3800  \n",
       "4  Supermarket Type1           994.7052  "
      ]
     },
     "execution_count": 21,
     "metadata": {},
     "output_type": "execute_result"
    }
   ],
   "source": [
    "big_mart_sales_data.head(5)"
   ]
  },
  {
   "cell_type": "code",
   "execution_count": 34,
   "id": "0b8cdcfa-7ac7-4c1f-b9ae-69587f2784d0",
   "metadata": {},
   "outputs": [
    {
     "data": {
      "text/plain": [
       "Index(['Item_Identifier', 'Item_Weight', 'Item_Fat_Content', 'Item_Visibility',\n",
       "       'Item_Type', 'Item_MRP', 'Outlet_Identifier',\n",
       "       'Outlet_Establishment_Year', 'Outlet_Size', 'Outlet_Location_Type',\n",
       "       'Outlet_Type', 'Item_Outlet_Sales'],\n",
       "      dtype='object')"
      ]
     },
     "execution_count": 34,
     "metadata": {},
     "output_type": "execute_result"
    }
   ],
   "source": [
    "big_mart_sales_data.columns"
   ]
  },
  {
   "cell_type": "code",
   "execution_count": 30,
   "id": "e371c1d6-ba1d-4bf8-aa19-8f65ba0bfca5",
   "metadata": {},
   "outputs": [
    {
     "data": {
      "text/html": [
       "<div>\n",
       "<style scoped>\n",
       "    .dataframe tbody tr th:only-of-type {\n",
       "        vertical-align: middle;\n",
       "    }\n",
       "\n",
       "    .dataframe tbody tr th {\n",
       "        vertical-align: top;\n",
       "    }\n",
       "\n",
       "    .dataframe thead th {\n",
       "        text-align: right;\n",
       "    }\n",
       "</style>\n",
       "<table border=\"1\" class=\"dataframe\">\n",
       "  <thead>\n",
       "    <tr style=\"text-align: right;\">\n",
       "      <th></th>\n",
       "      <th>Item_Weight</th>\n",
       "      <th>Item_Visibility</th>\n",
       "      <th>Item_MRP</th>\n",
       "      <th>Outlet_Establishment_Year</th>\n",
       "      <th>Item_Outlet_Sales</th>\n",
       "    </tr>\n",
       "  </thead>\n",
       "  <tbody>\n",
       "    <tr>\n",
       "      <th>count</th>\n",
       "      <td>7060.000000</td>\n",
       "      <td>8523.000000</td>\n",
       "      <td>8523.000000</td>\n",
       "      <td>8523.000000</td>\n",
       "      <td>8523.000000</td>\n",
       "    </tr>\n",
       "    <tr>\n",
       "      <th>mean</th>\n",
       "      <td>12.857645</td>\n",
       "      <td>0.066132</td>\n",
       "      <td>140.992782</td>\n",
       "      <td>1997.831867</td>\n",
       "      <td>2181.288914</td>\n",
       "    </tr>\n",
       "    <tr>\n",
       "      <th>std</th>\n",
       "      <td>4.643456</td>\n",
       "      <td>0.051598</td>\n",
       "      <td>62.275067</td>\n",
       "      <td>8.371760</td>\n",
       "      <td>1706.499616</td>\n",
       "    </tr>\n",
       "    <tr>\n",
       "      <th>min</th>\n",
       "      <td>4.555000</td>\n",
       "      <td>0.000000</td>\n",
       "      <td>31.290000</td>\n",
       "      <td>1985.000000</td>\n",
       "      <td>33.290000</td>\n",
       "    </tr>\n",
       "    <tr>\n",
       "      <th>25%</th>\n",
       "      <td>8.773750</td>\n",
       "      <td>0.026989</td>\n",
       "      <td>93.826500</td>\n",
       "      <td>1987.000000</td>\n",
       "      <td>834.247400</td>\n",
       "    </tr>\n",
       "    <tr>\n",
       "      <th>50%</th>\n",
       "      <td>12.600000</td>\n",
       "      <td>0.053931</td>\n",
       "      <td>143.012800</td>\n",
       "      <td>1999.000000</td>\n",
       "      <td>1794.331000</td>\n",
       "    </tr>\n",
       "    <tr>\n",
       "      <th>75%</th>\n",
       "      <td>16.850000</td>\n",
       "      <td>0.094585</td>\n",
       "      <td>185.643700</td>\n",
       "      <td>2004.000000</td>\n",
       "      <td>3101.296400</td>\n",
       "    </tr>\n",
       "    <tr>\n",
       "      <th>max</th>\n",
       "      <td>21.350000</td>\n",
       "      <td>0.328391</td>\n",
       "      <td>266.888400</td>\n",
       "      <td>2009.000000</td>\n",
       "      <td>13086.964800</td>\n",
       "    </tr>\n",
       "  </tbody>\n",
       "</table>\n",
       "</div>"
      ],
      "text/plain": [
       "       Item_Weight  Item_Visibility     Item_MRP  Outlet_Establishment_Year  \\\n",
       "count  7060.000000      8523.000000  8523.000000                8523.000000   \n",
       "mean     12.857645         0.066132   140.992782                1997.831867   \n",
       "std       4.643456         0.051598    62.275067                   8.371760   \n",
       "min       4.555000         0.000000    31.290000                1985.000000   \n",
       "25%       8.773750         0.026989    93.826500                1987.000000   \n",
       "50%      12.600000         0.053931   143.012800                1999.000000   \n",
       "75%      16.850000         0.094585   185.643700                2004.000000   \n",
       "max      21.350000         0.328391   266.888400                2009.000000   \n",
       "\n",
       "       Item_Outlet_Sales  \n",
       "count        8523.000000  \n",
       "mean         2181.288914  \n",
       "std          1706.499616  \n",
       "min            33.290000  \n",
       "25%           834.247400  \n",
       "50%          1794.331000  \n",
       "75%          3101.296400  \n",
       "max         13086.964800  "
      ]
     },
     "execution_count": 30,
     "metadata": {},
     "output_type": "execute_result"
    }
   ],
   "source": [
    "big_mart_sales_data.describe()"
   ]
  },
  {
   "cell_type": "code",
   "execution_count": 39,
   "id": "b824ca0d-8fe3-415d-9d4d-b9dda343d6d7",
   "metadata": {},
   "outputs": [
    {
     "data": {
      "text/plain": [
       "Item_Identifier                 0\n",
       "Item_Weight                  1463\n",
       "Item_Fat_Content                0\n",
       "Item_Visibility                 0\n",
       "Item_Type                       0\n",
       "Item_MRP                        0\n",
       "Outlet_Identifier               0\n",
       "Outlet_Establishment_Year       0\n",
       "Outlet_Size                  2410\n",
       "Outlet_Location_Type            0\n",
       "Outlet_Type                     0\n",
       "Item_Outlet_Sales               0\n",
       "dtype: int64"
      ]
     },
     "execution_count": 39,
     "metadata": {},
     "output_type": "execute_result"
    }
   ],
   "source": [
    "big_mart_sales_data.isna().sum()"
   ]
  },
  {
   "cell_type": "code",
   "execution_count": 36,
   "id": "b849eaaf-1154-41cf-8b90-b6c41ef7c65b",
   "metadata": {},
   "outputs": [
    {
     "data": {
      "text/plain": [
       "Item_Identifier               object\n",
       "Item_Weight                  float64\n",
       "Item_Fat_Content              object\n",
       "Item_Visibility              float64\n",
       "Item_Type                     object\n",
       "Item_MRP                     float64\n",
       "Outlet_Identifier             object\n",
       "Outlet_Establishment_Year      int64\n",
       "Outlet_Size                   object\n",
       "Outlet_Location_Type          object\n",
       "Outlet_Type                   object\n",
       "Item_Outlet_Sales            float64\n",
       "dtype: object"
      ]
     },
     "execution_count": 36,
     "metadata": {},
     "output_type": "execute_result"
    }
   ],
   "source": [
    "big_mart_sales_data.dtypes"
   ]
  },
  {
   "cell_type": "code",
   "execution_count": 41,
   "id": "1acf4e26-4837-48f4-b887-bafa86549458",
   "metadata": {},
   "outputs": [
    {
     "data": {
      "text/plain": [
       "Item_Identifier                 0\n",
       "Item_Weight                  1463\n",
       "Item_Fat_Content                0\n",
       "Item_Visibility                 0\n",
       "Item_Type                       0\n",
       "Item_MRP                        0\n",
       "Outlet_Identifier               0\n",
       "Outlet_Establishment_Year       0\n",
       "Outlet_Size                  2410\n",
       "Outlet_Location_Type            0\n",
       "Outlet_Type                     0\n",
       "Item_Outlet_Sales               0\n",
       "dtype: int64"
      ]
     },
     "execution_count": 41,
     "metadata": {},
     "output_type": "execute_result"
    }
   ],
   "source": [
    "big_mart_sales_data.isnull().sum()"
   ]
  },
  {
   "cell_type": "code",
   "execution_count": 42,
   "id": "00b2d8e4-ea17-4454-a49c-46386bcb82c7",
   "metadata": {},
   "outputs": [],
   "source": [
    "import sklearn"
   ]
  },
  {
   "cell_type": "code",
   "execution_count": 43,
   "id": "56803c9e-b2cd-4676-9407-2a9825755c9c",
   "metadata": {},
   "outputs": [
    {
     "data": {
      "text/plain": [
       "'1.2.2'"
      ]
     },
     "execution_count": 43,
     "metadata": {},
     "output_type": "execute_result"
    }
   ],
   "source": [
    "sklearn.__version__"
   ]
  },
  {
   "cell_type": "code",
   "execution_count": 1,
   "id": "51558b4f-f0a3-4959-9313-c40477542504",
   "metadata": {},
   "outputs": [
    {
     "data": {
      "text/plain": [
       "[1, 2, 3, 4, 5, 6]"
      ]
     },
     "execution_count": 1,
     "metadata": {},
     "output_type": "execute_result"
    }
   ],
   "source": [
    "l1 = [1,2,3,4,5,6]\n",
    "l1"
   ]
  },
  {
   "cell_type": "code",
   "execution_count": 2,
   "id": "0058012e-1041-4c83-9a41-ec9712424850",
   "metadata": {},
   "outputs": [
    {
     "data": {
      "text/plain": [
       "[3, 4]"
      ]
     },
     "execution_count": 2,
     "metadata": {},
     "output_type": "execute_result"
    }
   ],
   "source": [
    "l1[2:4]"
   ]
  },
  {
   "cell_type": "code",
   "execution_count": 3,
   "id": "f5ae297e-e7e8-48bd-bed1-600126138f4c",
   "metadata": {},
   "outputs": [
    {
     "data": {
      "text/plain": [
       "[1, 2, 3, 4, 5, 6]"
      ]
     },
     "execution_count": 3,
     "metadata": {},
     "output_type": "execute_result"
    }
   ],
   "source": [
    "l1"
   ]
  },
  {
   "cell_type": "code",
   "execution_count": 5,
   "id": "b1e7d94c-ba17-4ba2-bcc5-4f1235b92134",
   "metadata": {},
   "outputs": [
    {
     "data": {
      "text/plain": [
       "array([1, 2, 3, 4, 5, 6])"
      ]
     },
     "execution_count": 5,
     "metadata": {},
     "output_type": "execute_result"
    }
   ],
   "source": [
    "import numpy as np\n",
    "a1 = np.array([1,2,3,4,5,6])\n",
    "a1"
   ]
  },
  {
   "cell_type": "code",
   "execution_count": 6,
   "id": "73706aeb-5e99-4101-bc7c-44500ab3374f",
   "metadata": {},
   "outputs": [
    {
     "data": {
      "text/plain": [
       "array([3, 4])"
      ]
     },
     "execution_count": 6,
     "metadata": {},
     "output_type": "execute_result"
    }
   ],
   "source": [
    "a1[2:4]"
   ]
  },
  {
   "cell_type": "code",
   "execution_count": 7,
   "id": "5599ee11-57c4-4f56-88e9-a6f2cace29e6",
   "metadata": {},
   "outputs": [
    {
     "data": {
      "text/plain": [
       "array([1, 2, 3, 4, 5, 6])"
      ]
     },
     "execution_count": 7,
     "metadata": {},
     "output_type": "execute_result"
    }
   ],
   "source": [
    "a1"
   ]
  },
  {
   "cell_type": "code",
   "execution_count": 9,
   "id": "07e04c3c-5ef7-49ee-92fb-4037a9d59eec",
   "metadata": {},
   "outputs": [
    {
     "data": {
      "text/plain": [
       "[3, 4]"
      ]
     },
     "execution_count": 9,
     "metadata": {},
     "output_type": "execute_result"
    }
   ],
   "source": [
    "l1_1 = l1[2:4]\n",
    "l1_1"
   ]
  },
  {
   "cell_type": "code",
   "execution_count": 11,
   "id": "4ec8d72d-67b3-4f77-9611-89792a13bfbf",
   "metadata": {},
   "outputs": [
    {
     "data": {
      "text/plain": [
       "[33, 4]"
      ]
     },
     "execution_count": 11,
     "metadata": {},
     "output_type": "execute_result"
    }
   ],
   "source": [
    "l1_1[0]=33\n",
    "l1_1"
   ]
  },
  {
   "cell_type": "code",
   "execution_count": 12,
   "id": "cfb650f8-f13d-4c14-a63c-7734735a46ac",
   "metadata": {},
   "outputs": [
    {
     "data": {
      "text/plain": [
       "[1, 2, 3, 4, 5, 6]"
      ]
     },
     "execution_count": 12,
     "metadata": {},
     "output_type": "execute_result"
    }
   ],
   "source": [
    "l1"
   ]
  },
  {
   "cell_type": "code",
   "execution_count": 14,
   "id": "54cdfc60-7970-4df9-a1f3-07c2763f8853",
   "metadata": {},
   "outputs": [
    {
     "data": {
      "text/plain": [
       "array([1, 2, 3, 4, 5, 6])"
      ]
     },
     "execution_count": 14,
     "metadata": {},
     "output_type": "execute_result"
    }
   ],
   "source": [
    "a1 = np.array([1,2,3,4,5,6])\n",
    "a1"
   ]
  },
  {
   "cell_type": "code",
   "execution_count": 15,
   "id": "8a187417-4234-4238-95ba-1356b2374948",
   "metadata": {},
   "outputs": [
    {
     "data": {
      "text/plain": [
       "array([3, 4])"
      ]
     },
     "execution_count": 15,
     "metadata": {},
     "output_type": "execute_result"
    }
   ],
   "source": [
    "a1_1=a1[2:4]\n",
    "a1_1"
   ]
  },
  {
   "cell_type": "code",
   "execution_count": 16,
   "id": "c316d79a-3f82-4434-bcc4-b12d82f2c1a9",
   "metadata": {},
   "outputs": [
    {
     "data": {
      "text/plain": [
       "array([33,  4])"
      ]
     },
     "execution_count": 16,
     "metadata": {},
     "output_type": "execute_result"
    }
   ],
   "source": [
    "a1_1[0]=33\n",
    "a1_1"
   ]
  },
  {
   "cell_type": "code",
   "execution_count": 17,
   "id": "84d3868a-f42a-43be-8890-0d46ba5468bd",
   "metadata": {},
   "outputs": [
    {
     "data": {
      "text/plain": [
       "array([ 1,  2, 33,  4,  5,  6])"
      ]
     },
     "execution_count": 17,
     "metadata": {},
     "output_type": "execute_result"
    }
   ],
   "source": [
    "a1"
   ]
  },
  {
   "cell_type": "code",
   "execution_count": 19,
   "id": "417cad4c-e8d2-4e20-a286-129259b8da06",
   "metadata": {},
   "outputs": [
    {
     "data": {
      "text/plain": [
       "1"
      ]
     },
     "execution_count": 19,
     "metadata": {},
     "output_type": "execute_result"
    }
   ],
   "source": [
    "a1.ndim"
   ]
  },
  {
   "cell_type": "code",
   "execution_count": 20,
   "id": "13532ddb-bc04-4b64-b774-6ecfbce6a7cc",
   "metadata": {},
   "outputs": [
    {
     "data": {
      "text/plain": [
       "(6,)"
      ]
     },
     "execution_count": 20,
     "metadata": {},
     "output_type": "execute_result"
    }
   ],
   "source": [
    "a1.shape"
   ]
  },
  {
   "cell_type": "code",
   "execution_count": 21,
   "id": "9242e930-d66e-4a18-8200-0a3b28af9092",
   "metadata": {},
   "outputs": [
    {
     "data": {
      "text/plain": [
       "True"
      ]
     },
     "execution_count": 21,
     "metadata": {},
     "output_type": "execute_result"
    }
   ],
   "source": [
    "len(a1.shape)==a1.ndim"
   ]
  },
  {
   "cell_type": "code",
   "execution_count": 22,
   "id": "e5b81122-5abf-47d1-904e-2f38feb8ac01",
   "metadata": {},
   "outputs": [
    {
     "data": {
      "text/plain": [
       "6"
      ]
     },
     "execution_count": 22,
     "metadata": {},
     "output_type": "execute_result"
    }
   ],
   "source": [
    "a1.size"
   ]
  },
  {
   "cell_type": "code",
   "execution_count": 26,
   "id": "f806ff0b-c5b2-4098-a86d-7e97d43514ea",
   "metadata": {},
   "outputs": [
    {
     "data": {
      "text/plain": [
       "array([[6.23042070e-307, 4.67296746e-307, 1.69121096e-306],\n",
       "       [1.39074501e-307, 3.78292434e-307, 1.05699581e-307]])"
      ]
     },
     "execution_count": 26,
     "metadata": {},
     "output_type": "execute_result"
    }
   ],
   "source": [
    "np.empty((2,3),dtype=float)"
   ]
  },
  {
   "cell_type": "code",
   "execution_count": 28,
   "id": "ad686732-b5be-4c28-80ec-5b714ba61a7e",
   "metadata": {},
   "outputs": [
    {
     "data": {
      "text/plain": [
       "array([5, 7, 9])"
      ]
     },
     "execution_count": 28,
     "metadata": {},
     "output_type": "execute_result"
    }
   ],
   "source": [
    "np.arange(5,10,2)"
   ]
  },
  {
   "cell_type": "code",
   "execution_count": 38,
   "id": "1d610bac-7b71-4c56-905a-040efd335f39",
   "metadata": {},
   "outputs": [
    {
     "data": {
      "text/plain": [
       "array([ 0.        ,  1.11111111,  2.22222222,  3.33333333,  4.44444444,\n",
       "        5.55555556,  6.66666667,  7.77777778,  8.88888889, 10.        ])"
      ]
     },
     "execution_count": 38,
     "metadata": {},
     "output_type": "execute_result"
    }
   ],
   "source": [
    "np.linspace(0,10,num=10,dtype=float)"
   ]
  },
  {
   "cell_type": "code",
   "execution_count": 39,
   "id": "1b2321f2-1021-46aa-94c6-4a38dc38d7a9",
   "metadata": {},
   "outputs": [
    {
     "data": {
      "text/plain": [
       "array([ 1,  2,  4,  5,  6, 33])"
      ]
     },
     "execution_count": 39,
     "metadata": {},
     "output_type": "execute_result"
    }
   ],
   "source": [
    "np.sort(a1)"
   ]
  },
  {
   "cell_type": "code",
   "execution_count": 40,
   "id": "50849b79-e6fc-4396-8560-a8107500fa26",
   "metadata": {},
   "outputs": [
    {
     "data": {
      "text/plain": [
       "array([[0, 3],\n",
       "       [2, 2]])"
      ]
     },
     "execution_count": 40,
     "metadata": {},
     "output_type": "execute_result"
    }
   ],
   "source": [
    "x = np.array([[0, 3], [2, 2]])\n",
    "x"
   ]
  },
  {
   "cell_type": "code",
   "execution_count": 53,
   "id": "74520eea-1674-4a68-844b-b194fb5b520b",
   "metadata": {},
   "outputs": [
    {
     "data": {
      "text/plain": [
       "array([[0, 1],\n",
       "       [1, 0]], dtype=int64)"
      ]
     },
     "execution_count": 53,
     "metadata": {},
     "output_type": "execute_result"
    }
   ],
   "source": [
    "ind = np.argsort(x, axis=0)\n",
    "ind\n"
   ]
  },
  {
   "cell_type": "code",
   "execution_count": 54,
   "id": "9fdb9f6d-d136-4726-8ac5-102025126fa7",
   "metadata": {},
   "outputs": [
    {
     "data": {
      "text/plain": [
       "array([[[0, 3],\n",
       "        [2, 2]],\n",
       "\n",
       "       [[2, 2],\n",
       "        [0, 3]]])"
      ]
     },
     "execution_count": 54,
     "metadata": {},
     "output_type": "execute_result"
    }
   ],
   "source": [
    "a2 = x[ind]\n",
    "a2"
   ]
  },
  {
   "cell_type": "code",
   "execution_count": 50,
   "id": "a568b134-0d6f-4ffb-9617-7ea03771eab1",
   "metadata": {},
   "outputs": [
    {
     "name": "stdout",
     "output_type": "stream",
     "text": [
      "Original array: [10  3  5  6  2]\n",
      "Indices that would sort the array: [4 1 2 3 0]\n",
      "Sorted array: [ 2  3  5  6 10]\n"
     ]
    }
   ],
   "source": [
    "array = np.array([10, 3, 5, 6, 2])\n",
    "sorted_indices = np.argsort(array)\n",
    "print(\"Original array:\", array)\n",
    "print(\"Indices that would sort the array:\", sorted_indices)\n",
    "sorted_array = array[sorted_indices]\n",
    "print(\"Sorted array:\", sorted_array)"
   ]
  },
  {
   "cell_type": "code",
   "execution_count": 56,
   "id": "a5631cb4-5a9a-46c4-a088-fb5e1a29a0b8",
   "metadata": {},
   "outputs": [
    {
     "data": {
      "text/plain": [
       "(6,)"
      ]
     },
     "execution_count": 56,
     "metadata": {},
     "output_type": "execute_result"
    }
   ],
   "source": [
    "a = np.array([1, 2, 3, 4, 5, 6])\n",
    "a.shape"
   ]
  },
  {
   "cell_type": "code",
   "execution_count": 57,
   "id": "7bc2b81e-3aa2-4e20-b245-05df0b389a4a",
   "metadata": {},
   "outputs": [
    {
     "data": {
      "text/plain": [
       "array([[1, 2, 3, 4, 5, 6]])"
      ]
     },
     "execution_count": 57,
     "metadata": {},
     "output_type": "execute_result"
    }
   ],
   "source": [
    "a2 = a[np.newaxis, :]\n",
    "a2"
   ]
  },
  {
   "cell_type": "code",
   "execution_count": 58,
   "id": "cbc4cc96-8369-426d-809c-dcb439b73f2b",
   "metadata": {},
   "outputs": [
    {
     "data": {
      "text/plain": [
       "(1, 6)"
      ]
     },
     "execution_count": 58,
     "metadata": {},
     "output_type": "execute_result"
    }
   ],
   "source": [
    "a2.shape"
   ]
  },
  {
   "cell_type": "code",
   "execution_count": 60,
   "id": "3a96575b-8b06-4d1d-a91e-814c07f657a8",
   "metadata": {},
   "outputs": [
    {
     "data": {
      "text/plain": [
       "array([[1],\n",
       "       [2],\n",
       "       [3],\n",
       "       [4],\n",
       "       [5],\n",
       "       [6]])"
      ]
     },
     "execution_count": 60,
     "metadata": {},
     "output_type": "execute_result"
    }
   ],
   "source": [
    "a3 = a[:, np.newaxis]\n",
    "a3"
   ]
  },
  {
   "cell_type": "code",
   "execution_count": 2,
   "id": "1f79d3f2-27cc-454c-bc30-cee7ab11ae26",
   "metadata": {},
   "outputs": [],
   "source": [
    "import numpy as np"
   ]
  },
  {
   "cell_type": "code",
   "execution_count": 3,
   "id": "35f64466-6f61-4998-ac88-64b1f082fc6c",
   "metadata": {},
   "outputs": [
    {
     "data": {
      "text/plain": [
       "array([[ 1,  2,  3,  4],\n",
       "       [ 5,  6,  7,  8],\n",
       "       [ 9, 10, 11, 12]])"
      ]
     },
     "execution_count": 3,
     "metadata": {},
     "output_type": "execute_result"
    }
   ],
   "source": [
    "a = np.array([[1 , 2, 3, 4], [5, 6, 7, 8], [9, 10, 11, 12]])\n",
    "a"
   ]
  },
  {
   "cell_type": "code",
   "execution_count": 62,
   "id": "4bbdf135-4c87-4b97-8b36-1cc85015df57",
   "metadata": {},
   "outputs": [
    {
     "data": {
      "text/plain": [
       "array([1, 2, 3, 4])"
      ]
     },
     "execution_count": 62,
     "metadata": {},
     "output_type": "execute_result"
    }
   ],
   "source": [
    "a[a<5]"
   ]
  },
  {
   "cell_type": "code",
   "execution_count": 63,
   "id": "142cd712-9aa1-4134-b3f8-2f3859955dc3",
   "metadata": {},
   "outputs": [
    {
     "data": {
      "text/plain": [
       "array([[False, False, False, False],\n",
       "       [ True,  True,  True,  True],\n",
       "       [ True,  True,  True,  True]])"
      ]
     },
     "execution_count": 63,
     "metadata": {},
     "output_type": "execute_result"
    }
   ],
   "source": [
    "five_up = a >=5\n",
    "five_up"
   ]
  },
  {
   "cell_type": "code",
   "execution_count": 64,
   "id": "1a82cc0d-29db-495b-9817-2cca866ddec5",
   "metadata": {},
   "outputs": [
    {
     "data": {
      "text/plain": [
       "array([ 5,  6,  7,  8,  9, 10, 11, 12])"
      ]
     },
     "execution_count": 64,
     "metadata": {},
     "output_type": "execute_result"
    }
   ],
   "source": [
    "a[five_up]"
   ]
  },
  {
   "cell_type": "code",
   "execution_count": 4,
   "id": "642204cc-e3f1-41af-9fd0-10c704186431",
   "metadata": {},
   "outputs": [
    {
     "data": {
      "text/plain": [
       "array([4, 5, 6, 7, 8, 9])"
      ]
     },
     "execution_count": 4,
     "metadata": {},
     "output_type": "execute_result"
    }
   ],
   "source": [
    "c = a[(a>3) & (a<10)]\n",
    "c"
   ]
  },
  {
   "cell_type": "code",
   "execution_count": 7,
   "id": "293ec5c3-066a-4a46-b304-c49f2eedb99a",
   "metadata": {},
   "outputs": [
    {
     "name": "stdout",
     "output_type": "stream",
     "text": [
      "(array([0, 0, 0, 0, 1], dtype=int64), array([0, 1, 2, 3, 0], dtype=int64))\n"
     ]
    }
   ],
   "source": [
    "print(np.nonzero(a <= 5))"
   ]
  },
  {
   "cell_type": "code",
   "execution_count": 6,
   "id": "61d1a3e7-9b86-426d-9811-d6c0f9da3f89",
   "metadata": {},
   "outputs": [
    {
     "name": "stdout",
     "output_type": "stream",
     "text": [
      "(array([0], dtype=int64),)\n"
     ]
    }
   ],
   "source": [
    "print(np.nonzero(c<5))"
   ]
  },
  {
   "cell_type": "code",
   "execution_count": 8,
   "id": "d60bc478-d144-4f3e-adca-dd9d9960d057",
   "metadata": {},
   "outputs": [
    {
     "data": {
      "text/plain": [
       "array([[1, 1],\n",
       "       [2, 2]])"
      ]
     },
     "execution_count": 8,
     "metadata": {},
     "output_type": "execute_result"
    }
   ],
   "source": [
    "b = np.array([[1, 1], [2, 2]])\n",
    "b"
   ]
  },
  {
   "cell_type": "code",
   "execution_count": 10,
   "id": "d66fcbd2-f787-47f8-ad54-982e11bf8fa5",
   "metadata": {},
   "outputs": [
    {
     "name": "stdout",
     "output_type": "stream",
     "text": [
      "[3 3]\n"
     ]
    }
   ],
   "source": [
    "print(b.sum(axis=0))"
   ]
  },
  {
   "cell_type": "code",
   "execution_count": 11,
   "id": "1dede707-12c0-4baf-a36b-72199149e553",
   "metadata": {},
   "outputs": [
    {
     "name": "stdout",
     "output_type": "stream",
     "text": [
      "[2 4]\n"
     ]
    }
   ],
   "source": [
    "print(b.sum(axis=1))"
   ]
  },
  {
   "cell_type": "code",
   "execution_count": 12,
   "id": "c932340e-f5d0-45e3-805a-f950d14da4df",
   "metadata": {},
   "outputs": [],
   "source": [
    "import pandas as pd"
   ]
  },
  {
   "cell_type": "code",
   "execution_count": 13,
   "id": "c946cb06-d7b0-41ba-b38a-b89fc9283ce8",
   "metadata": {},
   "outputs": [
    {
     "data": {
      "text/html": [
       "<div>\n",
       "<style scoped>\n",
       "    .dataframe tbody tr th:only-of-type {\n",
       "        vertical-align: middle;\n",
       "    }\n",
       "\n",
       "    .dataframe tbody tr th {\n",
       "        vertical-align: top;\n",
       "    }\n",
       "\n",
       "    .dataframe thead th {\n",
       "        text-align: right;\n",
       "    }\n",
       "</style>\n",
       "<table border=\"1\" class=\"dataframe\">\n",
       "  <thead>\n",
       "    <tr style=\"text-align: right;\">\n",
       "      <th></th>\n",
       "      <th>Name</th>\n",
       "      <th>Age</th>\n",
       "      <th>Sex</th>\n",
       "    </tr>\n",
       "  </thead>\n",
       "  <tbody>\n",
       "    <tr>\n",
       "      <th>0</th>\n",
       "      <td>Sam</td>\n",
       "      <td>32</td>\n",
       "      <td>male</td>\n",
       "    </tr>\n",
       "    <tr>\n",
       "      <th>1</th>\n",
       "      <td>Pam</td>\n",
       "      <td>45</td>\n",
       "      <td>female</td>\n",
       "    </tr>\n",
       "    <tr>\n",
       "      <th>2</th>\n",
       "      <td>Tam</td>\n",
       "      <td>12</td>\n",
       "      <td>female</td>\n",
       "    </tr>\n",
       "  </tbody>\n",
       "</table>\n",
       "</div>"
      ],
      "text/plain": [
       "  Name  Age     Sex\n",
       "0  Sam   32    male\n",
       "1  Pam   45  female\n",
       "2  Tam   12  female"
      ]
     },
     "execution_count": 13,
     "metadata": {},
     "output_type": "execute_result"
    }
   ],
   "source": [
    "df = pd.DataFrame (\n",
    "    {\n",
    "        \"Name\" : \n",
    "            [\"Sam\", \"Pam\", \"Tam\"],\n",
    "        \"Age\" :\n",
    "            [32, 45, 12],\n",
    "        \"Sex\" :\n",
    "            [\"male\", \"female\", \"female\"]\n",
    "    }\n",
    ")\n",
    "df"
   ]
  },
  {
   "cell_type": "code",
   "execution_count": 15,
   "id": "da3c9f85-5a23-4cb6-9264-48efc5db911e",
   "metadata": {},
   "outputs": [
    {
     "data": {
      "text/html": [
       "<div>\n",
       "<style scoped>\n",
       "    .dataframe tbody tr th:only-of-type {\n",
       "        vertical-align: middle;\n",
       "    }\n",
       "\n",
       "    .dataframe tbody tr th {\n",
       "        vertical-align: top;\n",
       "    }\n",
       "\n",
       "    .dataframe thead th {\n",
       "        text-align: right;\n",
       "    }\n",
       "</style>\n",
       "<table border=\"1\" class=\"dataframe\">\n",
       "  <thead>\n",
       "    <tr style=\"text-align: right;\">\n",
       "      <th></th>\n",
       "      <th>Name</th>\n",
       "      <th>Age</th>\n",
       "      <th>Sex</th>\n",
       "    </tr>\n",
       "  </thead>\n",
       "  <tbody>\n",
       "    <tr>\n",
       "      <th>0</th>\n",
       "      <td>Sam</td>\n",
       "      <td>32</td>\n",
       "      <td>male</td>\n",
       "    </tr>\n",
       "    <tr>\n",
       "      <th>1</th>\n",
       "      <td>Pam</td>\n",
       "      <td>45</td>\n",
       "      <td>female</td>\n",
       "    </tr>\n",
       "    <tr>\n",
       "      <th>2</th>\n",
       "      <td>Tam</td>\n",
       "      <td>12</td>\n",
       "      <td>female</td>\n",
       "    </tr>\n",
       "  </tbody>\n",
       "</table>\n",
       "</div>"
      ],
      "text/plain": [
       "  Name  Age     Sex\n",
       "0  Sam   32    male\n",
       "1  Pam   45  female\n",
       "2  Tam   12  female"
      ]
     },
     "execution_count": 15,
     "metadata": {},
     "output_type": "execute_result"
    }
   ],
   "source": [
    "df"
   ]
  },
  {
   "cell_type": "code",
   "execution_count": 16,
   "id": "46562a6b-81c3-424a-b570-48128a6de9f2",
   "metadata": {},
   "outputs": [
    {
     "data": {
      "text/plain": [
       "0    Sam\n",
       "1    Pam\n",
       "2    Tam\n",
       "Name: Name, dtype: object"
      ]
     },
     "execution_count": 16,
     "metadata": {},
     "output_type": "execute_result"
    }
   ],
   "source": [
    "df[\"Name\"]"
   ]
  },
  {
   "cell_type": "code",
   "execution_count": 17,
   "id": "fecd9f90-ceaf-4b8d-8a6e-9c2285ededfd",
   "metadata": {},
   "outputs": [
    {
     "data": {
      "text/plain": [
       "0    32\n",
       "1    45\n",
       "2    12\n",
       "Name: Age, dtype: int64"
      ]
     },
     "execution_count": 17,
     "metadata": {},
     "output_type": "execute_result"
    }
   ],
   "source": [
    "df[\"Age\"]"
   ]
  },
  {
   "cell_type": "code",
   "execution_count": 19,
   "id": "8ce69902-a8f8-47ea-abfc-93fc20d8e601",
   "metadata": {},
   "outputs": [],
   "source": [
    "loc = pd.Series([\"Atlanta\", \"Georgia\", \"Georgia\"], name=\"Location\")"
   ]
  },
  {
   "cell_type": "code",
   "execution_count": 20,
   "id": "63bef769-8bf8-4b15-8d88-694bc33b058e",
   "metadata": {},
   "outputs": [
    {
     "data": {
      "text/html": [
       "<div>\n",
       "<style scoped>\n",
       "    .dataframe tbody tr th:only-of-type {\n",
       "        vertical-align: middle;\n",
       "    }\n",
       "\n",
       "    .dataframe tbody tr th {\n",
       "        vertical-align: top;\n",
       "    }\n",
       "\n",
       "    .dataframe thead th {\n",
       "        text-align: right;\n",
       "    }\n",
       "</style>\n",
       "<table border=\"1\" class=\"dataframe\">\n",
       "  <thead>\n",
       "    <tr style=\"text-align: right;\">\n",
       "      <th></th>\n",
       "      <th>Name</th>\n",
       "      <th>Age</th>\n",
       "      <th>Sex</th>\n",
       "    </tr>\n",
       "  </thead>\n",
       "  <tbody>\n",
       "    <tr>\n",
       "      <th>0</th>\n",
       "      <td>Sam</td>\n",
       "      <td>32</td>\n",
       "      <td>male</td>\n",
       "    </tr>\n",
       "    <tr>\n",
       "      <th>1</th>\n",
       "      <td>Pam</td>\n",
       "      <td>45</td>\n",
       "      <td>female</td>\n",
       "    </tr>\n",
       "    <tr>\n",
       "      <th>2</th>\n",
       "      <td>Tam</td>\n",
       "      <td>12</td>\n",
       "      <td>female</td>\n",
       "    </tr>\n",
       "  </tbody>\n",
       "</table>\n",
       "</div>"
      ],
      "text/plain": [
       "  Name  Age     Sex\n",
       "0  Sam   32    male\n",
       "1  Pam   45  female\n",
       "2  Tam   12  female"
      ]
     },
     "execution_count": 20,
     "metadata": {},
     "output_type": "execute_result"
    }
   ],
   "source": [
    "df"
   ]
  },
  {
   "cell_type": "code",
   "execution_count": 21,
   "id": "cd2c330f-c250-4f98-9418-f7f83a1fc83c",
   "metadata": {},
   "outputs": [
    {
     "data": {
      "text/plain": [
       "0    Atlanta\n",
       "1    Georgia\n",
       "2    Georgia\n",
       "Name: Location, dtype: object"
      ]
     },
     "execution_count": 21,
     "metadata": {},
     "output_type": "execute_result"
    }
   ],
   "source": [
    "loc"
   ]
  },
  {
   "cell_type": "code",
   "execution_count": 26,
   "id": "2b542d38-4ce0-4a4e-bcdf-ac25f6120151",
   "metadata": {},
   "outputs": [
    {
     "data": {
      "text/html": [
       "<div>\n",
       "<style scoped>\n",
       "    .dataframe tbody tr th:only-of-type {\n",
       "        vertical-align: middle;\n",
       "    }\n",
       "\n",
       "    .dataframe tbody tr th {\n",
       "        vertical-align: top;\n",
       "    }\n",
       "\n",
       "    .dataframe thead th {\n",
       "        text-align: right;\n",
       "    }\n",
       "</style>\n",
       "<table border=\"1\" class=\"dataframe\">\n",
       "  <thead>\n",
       "    <tr style=\"text-align: right;\">\n",
       "      <th></th>\n",
       "      <th>Name</th>\n",
       "      <th>Age</th>\n",
       "      <th>Sex</th>\n",
       "      <th>Location</th>\n",
       "    </tr>\n",
       "  </thead>\n",
       "  <tbody>\n",
       "    <tr>\n",
       "      <th>0</th>\n",
       "      <td>Sam</td>\n",
       "      <td>32</td>\n",
       "      <td>male</td>\n",
       "      <td>Atlanta</td>\n",
       "    </tr>\n",
       "    <tr>\n",
       "      <th>1</th>\n",
       "      <td>Pam</td>\n",
       "      <td>45</td>\n",
       "      <td>female</td>\n",
       "      <td>Georgia</td>\n",
       "    </tr>\n",
       "    <tr>\n",
       "      <th>2</th>\n",
       "      <td>Tam</td>\n",
       "      <td>12</td>\n",
       "      <td>female</td>\n",
       "      <td>Georgia</td>\n",
       "    </tr>\n",
       "  </tbody>\n",
       "</table>\n",
       "</div>"
      ],
      "text/plain": [
       "  Name  Age     Sex Location\n",
       "0  Sam   32    male  Atlanta\n",
       "1  Pam   45  female  Georgia\n",
       "2  Tam   12  female  Georgia"
      ]
     },
     "execution_count": 26,
     "metadata": {},
     "output_type": "execute_result"
    }
   ],
   "source": [
    "df[\"Location\"] = loc\n",
    "df"
   ]
  },
  {
   "cell_type": "code",
   "execution_count": 27,
   "id": "77290068-1fa0-4d48-89f1-c72678b4261d",
   "metadata": {},
   "outputs": [
    {
     "data": {
      "text/html": [
       "<div>\n",
       "<style scoped>\n",
       "    .dataframe tbody tr th:only-of-type {\n",
       "        vertical-align: middle;\n",
       "    }\n",
       "\n",
       "    .dataframe tbody tr th {\n",
       "        vertical-align: top;\n",
       "    }\n",
       "\n",
       "    .dataframe thead th {\n",
       "        text-align: right;\n",
       "    }\n",
       "</style>\n",
       "<table border=\"1\" class=\"dataframe\">\n",
       "  <thead>\n",
       "    <tr style=\"text-align: right;\">\n",
       "      <th></th>\n",
       "      <th>Name</th>\n",
       "      <th>Age</th>\n",
       "      <th>Sex</th>\n",
       "      <th>Location</th>\n",
       "    </tr>\n",
       "  </thead>\n",
       "  <tbody>\n",
       "    <tr>\n",
       "      <th>0</th>\n",
       "      <td>Sam</td>\n",
       "      <td>32</td>\n",
       "      <td>male</td>\n",
       "      <td>Atlanta</td>\n",
       "    </tr>\n",
       "    <tr>\n",
       "      <th>1</th>\n",
       "      <td>Pam</td>\n",
       "      <td>45</td>\n",
       "      <td>female</td>\n",
       "      <td>Georgia</td>\n",
       "    </tr>\n",
       "    <tr>\n",
       "      <th>2</th>\n",
       "      <td>Tam</td>\n",
       "      <td>12</td>\n",
       "      <td>female</td>\n",
       "      <td>Georgia</td>\n",
       "    </tr>\n",
       "  </tbody>\n",
       "</table>\n",
       "</div>"
      ],
      "text/plain": [
       "  Name  Age     Sex Location\n",
       "0  Sam   32    male  Atlanta\n",
       "1  Pam   45  female  Georgia\n",
       "2  Tam   12  female  Georgia"
      ]
     },
     "execution_count": 27,
     "metadata": {},
     "output_type": "execute_result"
    }
   ],
   "source": [
    "df"
   ]
  },
  {
   "cell_type": "code",
   "execution_count": 28,
   "id": "9a347e5b-6958-43a6-8564-02207762f112",
   "metadata": {},
   "outputs": [
    {
     "data": {
      "text/html": [
       "<div>\n",
       "<style scoped>\n",
       "    .dataframe tbody tr th:only-of-type {\n",
       "        vertical-align: middle;\n",
       "    }\n",
       "\n",
       "    .dataframe tbody tr th {\n",
       "        vertical-align: top;\n",
       "    }\n",
       "\n",
       "    .dataframe thead th {\n",
       "        text-align: right;\n",
       "    }\n",
       "</style>\n",
       "<table border=\"1\" class=\"dataframe\">\n",
       "  <thead>\n",
       "    <tr style=\"text-align: right;\">\n",
       "      <th></th>\n",
       "      <th>Salutation</th>\n",
       "      <th>Name</th>\n",
       "      <th>Age</th>\n",
       "      <th>Sex</th>\n",
       "      <th>Location</th>\n",
       "    </tr>\n",
       "  </thead>\n",
       "  <tbody>\n",
       "    <tr>\n",
       "      <th>0</th>\n",
       "      <td>Dr</td>\n",
       "      <td>Sam</td>\n",
       "      <td>32</td>\n",
       "      <td>male</td>\n",
       "      <td>Atlanta</td>\n",
       "    </tr>\n",
       "    <tr>\n",
       "      <th>1</th>\n",
       "      <td>Dr</td>\n",
       "      <td>Pam</td>\n",
       "      <td>45</td>\n",
       "      <td>female</td>\n",
       "      <td>Georgia</td>\n",
       "    </tr>\n",
       "    <tr>\n",
       "      <th>2</th>\n",
       "      <td>Ms</td>\n",
       "      <td>Tam</td>\n",
       "      <td>12</td>\n",
       "      <td>female</td>\n",
       "      <td>Georgia</td>\n",
       "    </tr>\n",
       "  </tbody>\n",
       "</table>\n",
       "</div>"
      ],
      "text/plain": [
       "  Salutation Name  Age     Sex Location\n",
       "0         Dr  Sam   32    male  Atlanta\n",
       "1         Dr  Pam   45  female  Georgia\n",
       "2         Ms  Tam   12  female  Georgia"
      ]
     },
     "execution_count": 28,
     "metadata": {},
     "output_type": "execute_result"
    }
   ],
   "source": [
    "df.insert(0, \"Salutation\", [\"Dr\", \"Dr\", \"Ms\"], True)\n",
    "df"
   ]
  },
  {
   "cell_type": "code",
   "execution_count": 29,
   "id": "fde5dfc1-aa15-4217-b1bc-cb9cb333c17b",
   "metadata": {},
   "outputs": [
    {
     "data": {
      "text/html": [
       "<div>\n",
       "<style scoped>\n",
       "    .dataframe tbody tr th:only-of-type {\n",
       "        vertical-align: middle;\n",
       "    }\n",
       "\n",
       "    .dataframe tbody tr th {\n",
       "        vertical-align: top;\n",
       "    }\n",
       "\n",
       "    .dataframe thead th {\n",
       "        text-align: right;\n",
       "    }\n",
       "</style>\n",
       "<table border=\"1\" class=\"dataframe\">\n",
       "  <thead>\n",
       "    <tr style=\"text-align: right;\">\n",
       "      <th></th>\n",
       "      <th>Salutation</th>\n",
       "      <th>Name</th>\n",
       "      <th>Age</th>\n",
       "      <th>Sex</th>\n",
       "      <th>Location</th>\n",
       "      <th>Marital Status</th>\n",
       "    </tr>\n",
       "  </thead>\n",
       "  <tbody>\n",
       "    <tr>\n",
       "      <th>0</th>\n",
       "      <td>Dr</td>\n",
       "      <td>Sam</td>\n",
       "      <td>32</td>\n",
       "      <td>male</td>\n",
       "      <td>Atlanta</td>\n",
       "      <td>Divorced</td>\n",
       "    </tr>\n",
       "    <tr>\n",
       "      <th>1</th>\n",
       "      <td>Dr</td>\n",
       "      <td>Pam</td>\n",
       "      <td>45</td>\n",
       "      <td>female</td>\n",
       "      <td>Georgia</td>\n",
       "      <td>Divorced</td>\n",
       "    </tr>\n",
       "    <tr>\n",
       "      <th>2</th>\n",
       "      <td>Ms</td>\n",
       "      <td>Tam</td>\n",
       "      <td>12</td>\n",
       "      <td>female</td>\n",
       "      <td>Georgia</td>\n",
       "      <td>Single</td>\n",
       "    </tr>\n",
       "  </tbody>\n",
       "</table>\n",
       "</div>"
      ],
      "text/plain": [
       "  Salutation Name  Age     Sex Location Marital Status\n",
       "0         Dr  Sam   32    male  Atlanta       Divorced\n",
       "1         Dr  Pam   45  female  Georgia       Divorced\n",
       "2         Ms  Tam   12  female  Georgia         Single"
      ]
     },
     "execution_count": 29,
     "metadata": {},
     "output_type": "execute_result"
    }
   ],
   "source": [
    "df[\"Marital Status\"] = [\"Divorced\", \"Divorced\", \"Single\"]\n",
    "df"
   ]
  },
  {
   "cell_type": "code",
   "execution_count": 37,
   "id": "2893d305-a960-4932-9913-5ac09541fc8a",
   "metadata": {},
   "outputs": [
    {
     "data": {
      "text/html": [
       "<div>\n",
       "<style scoped>\n",
       "    .dataframe tbody tr th:only-of-type {\n",
       "        vertical-align: middle;\n",
       "    }\n",
       "\n",
       "    .dataframe tbody tr th {\n",
       "        vertical-align: top;\n",
       "    }\n",
       "\n",
       "    .dataframe thead th {\n",
       "        text-align: right;\n",
       "    }\n",
       "</style>\n",
       "<table border=\"1\" class=\"dataframe\">\n",
       "  <thead>\n",
       "    <tr style=\"text-align: right;\">\n",
       "      <th></th>\n",
       "      <th>Salutation</th>\n",
       "      <th>Name</th>\n",
       "      <th>Age</th>\n",
       "      <th>Sex</th>\n",
       "      <th>Location</th>\n",
       "      <th>Marital Status</th>\n",
       "      <th>Phone</th>\n",
       "    </tr>\n",
       "  </thead>\n",
       "  <tbody>\n",
       "    <tr>\n",
       "      <th>0</th>\n",
       "      <td>Dr</td>\n",
       "      <td>Sam</td>\n",
       "      <td>32</td>\n",
       "      <td>male</td>\n",
       "      <td>Atlanta</td>\n",
       "      <td>Divorced</td>\n",
       "      <td>1111111</td>\n",
       "    </tr>\n",
       "    <tr>\n",
       "      <th>1</th>\n",
       "      <td>Dr</td>\n",
       "      <td>Pam</td>\n",
       "      <td>45</td>\n",
       "      <td>female</td>\n",
       "      <td>Georgia</td>\n",
       "      <td>Divorced</td>\n",
       "      <td>2222222</td>\n",
       "    </tr>\n",
       "    <tr>\n",
       "      <th>2</th>\n",
       "      <td>Ms</td>\n",
       "      <td>Tam</td>\n",
       "      <td>12</td>\n",
       "      <td>female</td>\n",
       "      <td>Georgia</td>\n",
       "      <td>Single</td>\n",
       "      <td>3333333</td>\n",
       "    </tr>\n",
       "  </tbody>\n",
       "</table>\n",
       "</div>"
      ],
      "text/plain": [
       "  Salutation Name  Age     Sex Location Marital Status    Phone\n",
       "0         Dr  Sam   32    male  Atlanta       Divorced  1111111\n",
       "1         Dr  Pam   45  female  Georgia       Divorced  2222222\n",
       "2         Ms  Tam   12  female  Georgia         Single  3333333"
      ]
     },
     "execution_count": 37,
     "metadata": {},
     "output_type": "execute_result"
    }
   ],
   "source": [
    "df1= df.assign(Phone=[\"1111111\", \"2222222\", \"3333333\"])\n",
    "df1"
   ]
  },
  {
   "cell_type": "code",
   "execution_count": 33,
   "id": "a2f8c2d3-a892-45b0-9847-cec1c2793f58",
   "metadata": {},
   "outputs": [
    {
     "data": {
      "text/html": [
       "<div>\n",
       "<style scoped>\n",
       "    .dataframe tbody tr th:only-of-type {\n",
       "        vertical-align: middle;\n",
       "    }\n",
       "\n",
       "    .dataframe tbody tr th {\n",
       "        vertical-align: top;\n",
       "    }\n",
       "\n",
       "    .dataframe thead th {\n",
       "        text-align: right;\n",
       "    }\n",
       "</style>\n",
       "<table border=\"1\" class=\"dataframe\">\n",
       "  <thead>\n",
       "    <tr style=\"text-align: right;\">\n",
       "      <th></th>\n",
       "      <th>Salutation</th>\n",
       "      <th>Name</th>\n",
       "      <th>Age</th>\n",
       "      <th>Sex</th>\n",
       "      <th>Location</th>\n",
       "      <th>Marital Status</th>\n",
       "    </tr>\n",
       "  </thead>\n",
       "  <tbody>\n",
       "    <tr>\n",
       "      <th>0</th>\n",
       "      <td>Dr</td>\n",
       "      <td>Sam</td>\n",
       "      <td>32</td>\n",
       "      <td>male</td>\n",
       "      <td>Atlanta</td>\n",
       "      <td>Divorced</td>\n",
       "    </tr>\n",
       "    <tr>\n",
       "      <th>1</th>\n",
       "      <td>Dr</td>\n",
       "      <td>Pam</td>\n",
       "      <td>45</td>\n",
       "      <td>female</td>\n",
       "      <td>Georgia</td>\n",
       "      <td>Divorced</td>\n",
       "    </tr>\n",
       "    <tr>\n",
       "      <th>2</th>\n",
       "      <td>Ms</td>\n",
       "      <td>Tam</td>\n",
       "      <td>12</td>\n",
       "      <td>female</td>\n",
       "      <td>Georgia</td>\n",
       "      <td>Single</td>\n",
       "    </tr>\n",
       "  </tbody>\n",
       "</table>\n",
       "</div>"
      ],
      "text/plain": [
       "  Salutation Name  Age     Sex Location Marital Status\n",
       "0         Dr  Sam   32    male  Atlanta       Divorced\n",
       "1         Dr  Pam   45  female  Georgia       Divorced\n",
       "2         Ms  Tam   12  female  Georgia         Single"
      ]
     },
     "execution_count": 33,
     "metadata": {},
     "output_type": "execute_result"
    }
   ],
   "source": [
    "df"
   ]
  },
  {
   "cell_type": "code",
   "execution_count": 34,
   "id": "db205f7d-62fa-443e-a4cc-5bd031e48cd0",
   "metadata": {},
   "outputs": [],
   "source": [
    "email = pd.Series([\"xyz@gmail.com\", \"yxz@yahoo.com\", \"aaa@gmail.com\"], name=\"Email\")"
   ]
  },
  {
   "cell_type": "code",
   "execution_count": 137,
   "id": "e7b7d2f0-ed52-47b7-82f1-93d4317d1417",
   "metadata": {},
   "outputs": [
    {
     "data": {
      "text/html": [
       "<div>\n",
       "<style scoped>\n",
       "    .dataframe tbody tr th:only-of-type {\n",
       "        vertical-align: middle;\n",
       "    }\n",
       "\n",
       "    .dataframe tbody tr th {\n",
       "        vertical-align: top;\n",
       "    }\n",
       "\n",
       "    .dataframe thead th {\n",
       "        text-align: right;\n",
       "    }\n",
       "</style>\n",
       "<table border=\"1\" class=\"dataframe\">\n",
       "  <thead>\n",
       "    <tr style=\"text-align: right;\">\n",
       "      <th></th>\n",
       "      <th>Salutation</th>\n",
       "      <th>Name</th>\n",
       "      <th>Age</th>\n",
       "      <th>Sex</th>\n",
       "      <th>Location</th>\n",
       "      <th>Marital Status</th>\n",
       "      <th>Phone</th>\n",
       "      <th>Email</th>\n",
       "    </tr>\n",
       "  </thead>\n",
       "  <tbody>\n",
       "    <tr>\n",
       "      <th>0</th>\n",
       "      <td>Dr</td>\n",
       "      <td>Sam</td>\n",
       "      <td>32</td>\n",
       "      <td>male</td>\n",
       "      <td>Atlanta</td>\n",
       "      <td>Divorced</td>\n",
       "      <td>1111111</td>\n",
       "      <td>xyz@gmail.com</td>\n",
       "    </tr>\n",
       "    <tr>\n",
       "      <th>1</th>\n",
       "      <td>Dr</td>\n",
       "      <td>Pam</td>\n",
       "      <td>45</td>\n",
       "      <td>female</td>\n",
       "      <td>Georgia</td>\n",
       "      <td>Divorced</td>\n",
       "      <td>2222222</td>\n",
       "      <td>yxz@yahoo.com</td>\n",
       "    </tr>\n",
       "    <tr>\n",
       "      <th>2</th>\n",
       "      <td>Ms</td>\n",
       "      <td>Tam</td>\n",
       "      <td>12</td>\n",
       "      <td>female</td>\n",
       "      <td>Georgia</td>\n",
       "      <td>Single</td>\n",
       "      <td>3333333</td>\n",
       "      <td>aaa@gmail.com</td>\n",
       "    </tr>\n",
       "  </tbody>\n",
       "</table>\n",
       "</div>"
      ],
      "text/plain": [
       "  Salutation Name  Age     Sex Location Marital Status    Phone          Email\n",
       "0         Dr  Sam   32    male  Atlanta       Divorced  1111111  xyz@gmail.com\n",
       "1         Dr  Pam   45  female  Georgia       Divorced  2222222  yxz@yahoo.com\n",
       "2         Ms  Tam   12  female  Georgia         Single  3333333  aaa@gmail.com"
      ]
     },
     "execution_count": 137,
     "metadata": {},
     "output_type": "execute_result"
    }
   ],
   "source": [
    "df2 = df1.assign(Email = email)\n",
    "df2"
   ]
  },
  {
   "cell_type": "code",
   "execution_count": 45,
   "id": "a2e775b2-37cc-4584-b724-bc9bed64fbc7",
   "metadata": {},
   "outputs": [
    {
     "data": {
      "text/plain": [
       "45"
      ]
     },
     "execution_count": 45,
     "metadata": {},
     "output_type": "execute_result"
    }
   ],
   "source": [
    "df2[\"Age\"].max()"
   ]
  },
  {
   "cell_type": "code",
   "execution_count": 67,
   "id": "0e011830-381f-4bdb-ac98-29672e579e5e",
   "metadata": {},
   "outputs": [
    {
     "data": {
      "text/plain": [
       "Salutation                   Ms\n",
       "Name                        Tam\n",
       "Age                          12\n",
       "Sex                      female\n",
       "Location                Georgia\n",
       "Marital Status           Single\n",
       "Phone                   3333333\n",
       "Email             aaa@gmail.com\n",
       "Name: Row3, dtype: object"
      ]
     },
     "execution_count": 67,
     "metadata": {},
     "output_type": "execute_result"
    }
   ],
   "source": [
    "df2.loc[df2[\"Age\"].idxmin()]"
   ]
  },
  {
   "cell_type": "code",
   "execution_count": 50,
   "id": "1ce238e3-64a7-4100-97ad-97d2442187d7",
   "metadata": {},
   "outputs": [
    {
     "data": {
      "text/plain": [
       "Index(['Salutation', 'Name', 'Age', 'Sex', 'Location', 'Marital Status',\n",
       "       'Phone', 'Email'],\n",
       "      dtype='object')"
      ]
     },
     "execution_count": 50,
     "metadata": {},
     "output_type": "execute_result"
    }
   ],
   "source": [
    "df2.columns"
   ]
  },
  {
   "cell_type": "code",
   "execution_count": 51,
   "id": "e2ce4f1f-362c-4c04-9333-c4606bbb7b63",
   "metadata": {},
   "outputs": [
    {
     "data": {
      "text/plain": [
       "RangeIndex(start=0, stop=3, step=1)"
      ]
     },
     "execution_count": 51,
     "metadata": {},
     "output_type": "execute_result"
    }
   ],
   "source": [
    "df2.index"
   ]
  },
  {
   "cell_type": "code",
   "execution_count": 53,
   "id": "a2c78bd6-db35-418a-b2c6-482f97cf0f87",
   "metadata": {},
   "outputs": [
    {
     "data": {
      "text/plain": [
       "'Salutation'"
      ]
     },
     "execution_count": 53,
     "metadata": {},
     "output_type": "execute_result"
    }
   ],
   "source": [
    "df2.columns[0]"
   ]
  },
  {
   "cell_type": "code",
   "execution_count": 54,
   "id": "c32ee82b-2802-4c85-aedf-d3ec6e0b99da",
   "metadata": {},
   "outputs": [],
   "source": [
    "df2.index = [\"Row1\", \"Row2\", \"Row3\"]"
   ]
  },
  {
   "cell_type": "code",
   "execution_count": 55,
   "id": "1b57fe71-2e37-4ef9-8644-056334ec1e27",
   "metadata": {},
   "outputs": [
    {
     "data": {
      "text/html": [
       "<div>\n",
       "<style scoped>\n",
       "    .dataframe tbody tr th:only-of-type {\n",
       "        vertical-align: middle;\n",
       "    }\n",
       "\n",
       "    .dataframe tbody tr th {\n",
       "        vertical-align: top;\n",
       "    }\n",
       "\n",
       "    .dataframe thead th {\n",
       "        text-align: right;\n",
       "    }\n",
       "</style>\n",
       "<table border=\"1\" class=\"dataframe\">\n",
       "  <thead>\n",
       "    <tr style=\"text-align: right;\">\n",
       "      <th></th>\n",
       "      <th>Salutation</th>\n",
       "      <th>Name</th>\n",
       "      <th>Age</th>\n",
       "      <th>Sex</th>\n",
       "      <th>Location</th>\n",
       "      <th>Marital Status</th>\n",
       "      <th>Phone</th>\n",
       "      <th>Email</th>\n",
       "    </tr>\n",
       "  </thead>\n",
       "  <tbody>\n",
       "    <tr>\n",
       "      <th>Row1</th>\n",
       "      <td>Dr</td>\n",
       "      <td>Sam</td>\n",
       "      <td>32</td>\n",
       "      <td>male</td>\n",
       "      <td>Atlanta</td>\n",
       "      <td>Divorced</td>\n",
       "      <td>1111111</td>\n",
       "      <td>xyz@gmail.com</td>\n",
       "    </tr>\n",
       "    <tr>\n",
       "      <th>Row2</th>\n",
       "      <td>Dr</td>\n",
       "      <td>Pam</td>\n",
       "      <td>45</td>\n",
       "      <td>female</td>\n",
       "      <td>Georgia</td>\n",
       "      <td>Divorced</td>\n",
       "      <td>2222222</td>\n",
       "      <td>yxz@yahoo.com</td>\n",
       "    </tr>\n",
       "    <tr>\n",
       "      <th>Row3</th>\n",
       "      <td>Ms</td>\n",
       "      <td>Tam</td>\n",
       "      <td>12</td>\n",
       "      <td>female</td>\n",
       "      <td>Georgia</td>\n",
       "      <td>Single</td>\n",
       "      <td>3333333</td>\n",
       "      <td>aaa@gmail.com</td>\n",
       "    </tr>\n",
       "  </tbody>\n",
       "</table>\n",
       "</div>"
      ],
      "text/plain": [
       "     Salutation Name  Age     Sex Location Marital Status    Phone  \\\n",
       "Row1         Dr  Sam   32    male  Atlanta       Divorced  1111111   \n",
       "Row2         Dr  Pam   45  female  Georgia       Divorced  2222222   \n",
       "Row3         Ms  Tam   12  female  Georgia         Single  3333333   \n",
       "\n",
       "              Email  \n",
       "Row1  xyz@gmail.com  \n",
       "Row2  yxz@yahoo.com  \n",
       "Row3  aaa@gmail.com  "
      ]
     },
     "execution_count": 55,
     "metadata": {},
     "output_type": "execute_result"
    }
   ],
   "source": [
    "df2"
   ]
  },
  {
   "cell_type": "code",
   "execution_count": 58,
   "id": "9d6706f2-d64a-478a-b558-6e4e899a69ec",
   "metadata": {},
   "outputs": [
    {
     "data": {
      "text/plain": [
       "array([['Dr', 'Sam', 32, 'male', 'Atlanta', 'Divorced', '1111111',\n",
       "        'xyz@gmail.com'],\n",
       "       ['Dr', 'Pam', 45, 'female', 'Georgia', 'Divorced', '2222222',\n",
       "        'yxz@yahoo.com'],\n",
       "       ['Ms', 'Tam', 12, 'female', 'Georgia', 'Single', '3333333',\n",
       "        'aaa@gmail.com']], dtype=object)"
      ]
     },
     "execution_count": 58,
     "metadata": {},
     "output_type": "execute_result"
    }
   ],
   "source": [
    "df2.to_numpy(copy=True)"
   ]
  },
  {
   "cell_type": "code",
   "execution_count": 57,
   "id": "62421f29-613f-492c-a0dd-341c24f4aa0d",
   "metadata": {},
   "outputs": [
    {
     "data": {
      "text/plain": [
       "array([['Dr', 'Sam', 32, 'male', 'Atlanta', 'Divorced', '1111111',\n",
       "        'xyz@gmail.com'],\n",
       "       ['Dr', 'Pam', 45, 'female', 'Georgia', 'Divorced', '2222222',\n",
       "        'yxz@yahoo.com'],\n",
       "       ['Ms', 'Tam', 12, 'female', 'Georgia', 'Single', '3333333',\n",
       "        'aaa@gmail.com']], dtype=object)"
      ]
     },
     "execution_count": 57,
     "metadata": {},
     "output_type": "execute_result"
    }
   ],
   "source": [
    "df2.values"
   ]
  },
  {
   "cell_type": "code",
   "execution_count": 59,
   "id": "12093441-bb32-41db-b70e-2f2608eb39a0",
   "metadata": {},
   "outputs": [
    {
     "data": {
      "text/plain": [
       "Salutation        object\n",
       "Name              object\n",
       "Age                int64\n",
       "Sex               object\n",
       "Location          object\n",
       "Marital Status    object\n",
       "Phone             object\n",
       "Email             object\n",
       "dtype: object"
      ]
     },
     "execution_count": 59,
     "metadata": {},
     "output_type": "execute_result"
    }
   ],
   "source": [
    "df2.dtypes"
   ]
  },
  {
   "cell_type": "code",
   "execution_count": 68,
   "id": "2174e7c0-f6a9-4064-ae59-3daef69ebd38",
   "metadata": {},
   "outputs": [
    {
     "data": {
      "text/plain": [
       "2"
      ]
     },
     "execution_count": 68,
     "metadata": {},
     "output_type": "execute_result"
    }
   ],
   "source": [
    "df2.ndim"
   ]
  },
  {
   "cell_type": "code",
   "execution_count": 69,
   "id": "6336111b-b78a-418a-8493-dee3a360b555",
   "metadata": {},
   "outputs": [
    {
     "data": {
      "text/plain": [
       "(3, 8)"
      ]
     },
     "execution_count": 69,
     "metadata": {},
     "output_type": "execute_result"
    }
   ],
   "source": [
    "df2.shape"
   ]
  },
  {
   "cell_type": "code",
   "execution_count": 70,
   "id": "b7bf85db-a63e-47dc-a5ba-afc20df2809d",
   "metadata": {},
   "outputs": [
    {
     "data": {
      "text/plain": [
       "24"
      ]
     },
     "execution_count": 70,
     "metadata": {},
     "output_type": "execute_result"
    }
   ],
   "source": [
    "df2.size"
   ]
  },
  {
   "cell_type": "code",
   "execution_count": 73,
   "id": "3f3e5e86-dd2b-44c6-b9cf-c5c46745745e",
   "metadata": {},
   "outputs": [
    {
     "data": {
      "text/plain": [
       "Salutation        24\n",
       "Name              24\n",
       "Age               24\n",
       "Sex               24\n",
       "Location          24\n",
       "Marital Status    24\n",
       "Phone             24\n",
       "Email             24\n",
       "dtype: int64"
      ]
     },
     "execution_count": 73,
     "metadata": {},
     "output_type": "execute_result"
    }
   ],
   "source": [
    "df2.memory_usage(index=False)"
   ]
  },
  {
   "cell_type": "code",
   "execution_count": 75,
   "id": "339cf367-62dc-4ec0-b84b-57b1b70a7b6d",
   "metadata": {},
   "outputs": [
    {
     "data": {
      "text/plain": [
       "Row1    Sam\n",
       "Row2    Pam\n",
       "Row3    Tam\n",
       "Name: Name, dtype: object"
      ]
     },
     "execution_count": 75,
     "metadata": {},
     "output_type": "execute_result"
    }
   ],
   "source": [
    "df2[\"Name\"]"
   ]
  },
  {
   "cell_type": "code",
   "execution_count": 76,
   "id": "1b0c1def-8763-4ff0-8714-36819bf4d566",
   "metadata": {},
   "outputs": [
    {
     "data": {
      "text/plain": [
       "Salutation                   Dr\n",
       "Name                        Pam\n",
       "Age                          45\n",
       "Sex                      female\n",
       "Location                Georgia\n",
       "Marital Status         Divorced\n",
       "Phone                   2222222\n",
       "Email             yxz@yahoo.com\n",
       "Name: Row2, dtype: object"
      ]
     },
     "execution_count": 76,
     "metadata": {},
     "output_type": "execute_result"
    }
   ],
   "source": [
    "df2.loc[\"Row2\"]"
   ]
  },
  {
   "cell_type": "code",
   "execution_count": 77,
   "id": "e99248d1-ce17-4772-8587-48e98551413c",
   "metadata": {},
   "outputs": [
    {
     "data": {
      "text/plain": [
       "Salutation                   Dr\n",
       "Name                        Pam\n",
       "Age                          45\n",
       "Sex                      female\n",
       "Location                Georgia\n",
       "Marital Status         Divorced\n",
       "Phone                   2222222\n",
       "Email             yxz@yahoo.com\n",
       "Name: Row2, dtype: object"
      ]
     },
     "execution_count": 77,
     "metadata": {},
     "output_type": "execute_result"
    }
   ],
   "source": [
    "df2.iloc[1]"
   ]
  },
  {
   "cell_type": "code",
   "execution_count": 81,
   "id": "a682a617-9b74-4b0e-9d90-e3ac4c1e80c1",
   "metadata": {},
   "outputs": [
    {
     "data": {
      "text/html": [
       "<div>\n",
       "<style scoped>\n",
       "    .dataframe tbody tr th:only-of-type {\n",
       "        vertical-align: middle;\n",
       "    }\n",
       "\n",
       "    .dataframe tbody tr th {\n",
       "        vertical-align: top;\n",
       "    }\n",
       "\n",
       "    .dataframe thead th {\n",
       "        text-align: right;\n",
       "    }\n",
       "</style>\n",
       "<table border=\"1\" class=\"dataframe\">\n",
       "  <thead>\n",
       "    <tr style=\"text-align: right;\">\n",
       "      <th></th>\n",
       "      <th>Salutation</th>\n",
       "      <th>Name</th>\n",
       "      <th>Age</th>\n",
       "      <th>Sex</th>\n",
       "      <th>Location</th>\n",
       "      <th>Marital Status</th>\n",
       "      <th>Phone</th>\n",
       "      <th>Email</th>\n",
       "    </tr>\n",
       "  </thead>\n",
       "  <tbody>\n",
       "    <tr>\n",
       "      <th>Row1</th>\n",
       "      <td>Dr</td>\n",
       "      <td>Sam</td>\n",
       "      <td>32</td>\n",
       "      <td>male</td>\n",
       "      <td>Atlanta</td>\n",
       "      <td>Divorced</td>\n",
       "      <td>1111111</td>\n",
       "      <td>xyz@gmail.com</td>\n",
       "    </tr>\n",
       "    <tr>\n",
       "      <th>Row2</th>\n",
       "      <td>Dr</td>\n",
       "      <td>Pam</td>\n",
       "      <td>45</td>\n",
       "      <td>female</td>\n",
       "      <td>Georgia</td>\n",
       "      <td>Divorced</td>\n",
       "      <td>2222222</td>\n",
       "      <td>yxz@yahoo.com</td>\n",
       "    </tr>\n",
       "    <tr>\n",
       "      <th>Row3</th>\n",
       "      <td>Ms</td>\n",
       "      <td>Tam</td>\n",
       "      <td>12</td>\n",
       "      <td>female</td>\n",
       "      <td>Georgia</td>\n",
       "      <td>Single</td>\n",
       "      <td>3333333</td>\n",
       "      <td>aaa@gmail.com</td>\n",
       "    </tr>\n",
       "  </tbody>\n",
       "</table>\n",
       "</div>"
      ],
      "text/plain": [
       "     Salutation Name  Age     Sex Location Marital Status    Phone  \\\n",
       "Row1         Dr  Sam   32    male  Atlanta       Divorced  1111111   \n",
       "Row2         Dr  Pam   45  female  Georgia       Divorced  2222222   \n",
       "Row3         Ms  Tam   12  female  Georgia         Single  3333333   \n",
       "\n",
       "              Email  \n",
       "Row1  xyz@gmail.com  \n",
       "Row2  yxz@yahoo.com  \n",
       "Row3  aaa@gmail.com  "
      ]
     },
     "execution_count": 81,
     "metadata": {},
     "output_type": "execute_result"
    }
   ],
   "source": [
    "df2"
   ]
  },
  {
   "cell_type": "code",
   "execution_count": 82,
   "id": "089ca91c-5739-46b9-8085-6e7dfbfaae54",
   "metadata": {},
   "outputs": [
    {
     "data": {
      "text/plain": [
       "Salutation                   Dr\n",
       "Name                        Pam\n",
       "Age                          45\n",
       "Sex                      female\n",
       "Location                Georgia\n",
       "Marital Status         Divorced\n",
       "Phone                   2222222\n",
       "Email             yxz@yahoo.com\n",
       "Name: Row2, dtype: object"
      ]
     },
     "execution_count": 82,
     "metadata": {},
     "output_type": "execute_result"
    }
   ],
   "source": [
    "df2.loc[\"Row2\"]"
   ]
  },
  {
   "cell_type": "code",
   "execution_count": 84,
   "id": "c1dc21a7-6e0b-4700-9570-e03d0156554f",
   "metadata": {},
   "outputs": [
    {
     "data": {
      "text/plain": [
       "Row1    Sam\n",
       "Row2    Pam\n",
       "Row3    Tam\n",
       "Name: Name, dtype: object"
      ]
     },
     "execution_count": 84,
     "metadata": {},
     "output_type": "execute_result"
    }
   ],
   "source": [
    "df2.loc[:,\"Name\"]"
   ]
  },
  {
   "cell_type": "code",
   "execution_count": 86,
   "id": "9547ee6b-beed-4e26-9e49-205abbb02f9c",
   "metadata": {},
   "outputs": [
    {
     "data": {
      "text/plain": [
       "Name    Pam\n",
       "Age      45\n",
       "Name: Row2, dtype: object"
      ]
     },
     "execution_count": 86,
     "metadata": {},
     "output_type": "execute_result"
    }
   ],
   "source": [
    "df2.loc[\"Row2\",[\"Name\",\"Age\"]]"
   ]
  },
  {
   "cell_type": "code",
   "execution_count": 88,
   "id": "62c94cc7-e2e3-467b-ae6e-204cf9b2a113",
   "metadata": {},
   "outputs": [
    {
     "data": {
      "text/plain": [
       "'Pam'"
      ]
     },
     "execution_count": 88,
     "metadata": {},
     "output_type": "execute_result"
    }
   ],
   "source": [
    "df2.iloc[1,1]"
   ]
  },
  {
   "cell_type": "code",
   "execution_count": 90,
   "id": "1fb3b8c0-d040-44a5-a888-225452a0e8c5",
   "metadata": {},
   "outputs": [
    {
     "data": {
      "text/plain": [
       "'Pam'"
      ]
     },
     "execution_count": 90,
     "metadata": {},
     "output_type": "execute_result"
    }
   ],
   "source": [
    "df2.at[\"Row2\",\"Name\"]"
   ]
  },
  {
   "cell_type": "code",
   "execution_count": 94,
   "id": "fa92c872-3742-4fb4-b5b2-99f75123e40f",
   "metadata": {},
   "outputs": [
    {
     "data": {
      "text/html": [
       "<div>\n",
       "<style scoped>\n",
       "    .dataframe tbody tr th:only-of-type {\n",
       "        vertical-align: middle;\n",
       "    }\n",
       "\n",
       "    .dataframe tbody tr th {\n",
       "        vertical-align: top;\n",
       "    }\n",
       "\n",
       "    .dataframe thead th {\n",
       "        text-align: right;\n",
       "    }\n",
       "</style>\n",
       "<table border=\"1\" class=\"dataframe\">\n",
       "  <thead>\n",
       "    <tr style=\"text-align: right;\">\n",
       "      <th></th>\n",
       "      <th>Name</th>\n",
       "      <th>Age</th>\n",
       "    </tr>\n",
       "  </thead>\n",
       "  <tbody>\n",
       "    <tr>\n",
       "      <th>Row1</th>\n",
       "      <td>Sam</td>\n",
       "      <td>32</td>\n",
       "    </tr>\n",
       "    <tr>\n",
       "      <th>Row2</th>\n",
       "      <td>Pam</td>\n",
       "      <td>45</td>\n",
       "    </tr>\n",
       "  </tbody>\n",
       "</table>\n",
       "</div>"
      ],
      "text/plain": [
       "     Name  Age\n",
       "Row1  Sam   32\n",
       "Row2  Pam   45"
      ]
     },
     "execution_count": 94,
     "metadata": {},
     "output_type": "execute_result"
    }
   ],
   "source": [
    "df2.loc[[\"Row1\", \"Row2\"],[\"Name\",\"Age\"]]"
   ]
  },
  {
   "cell_type": "code",
   "execution_count": 95,
   "id": "5bec56ac-ee36-4397-911e-17c05c8e82f4",
   "metadata": {},
   "outputs": [
    {
     "data": {
      "text/html": [
       "<div>\n",
       "<style scoped>\n",
       "    .dataframe tbody tr th:only-of-type {\n",
       "        vertical-align: middle;\n",
       "    }\n",
       "\n",
       "    .dataframe tbody tr th {\n",
       "        vertical-align: top;\n",
       "    }\n",
       "\n",
       "    .dataframe thead th {\n",
       "        text-align: right;\n",
       "    }\n",
       "</style>\n",
       "<table border=\"1\" class=\"dataframe\">\n",
       "  <thead>\n",
       "    <tr style=\"text-align: right;\">\n",
       "      <th></th>\n",
       "      <th>Salutation</th>\n",
       "      <th>Name</th>\n",
       "      <th>Age</th>\n",
       "      <th>Sex</th>\n",
       "      <th>Location</th>\n",
       "      <th>Marital Status</th>\n",
       "    </tr>\n",
       "  </thead>\n",
       "  <tbody>\n",
       "    <tr>\n",
       "      <th>0</th>\n",
       "      <td>Dr</td>\n",
       "      <td>Sam</td>\n",
       "      <td>32</td>\n",
       "      <td>male</td>\n",
       "      <td>Atlanta</td>\n",
       "      <td>Divorced</td>\n",
       "    </tr>\n",
       "    <tr>\n",
       "      <th>1</th>\n",
       "      <td>Dr</td>\n",
       "      <td>Pam</td>\n",
       "      <td>45</td>\n",
       "      <td>female</td>\n",
       "      <td>Georgia</td>\n",
       "      <td>Divorced</td>\n",
       "    </tr>\n",
       "    <tr>\n",
       "      <th>2</th>\n",
       "      <td>Ms</td>\n",
       "      <td>Tam</td>\n",
       "      <td>12</td>\n",
       "      <td>female</td>\n",
       "      <td>Georgia</td>\n",
       "      <td>Single</td>\n",
       "    </tr>\n",
       "  </tbody>\n",
       "</table>\n",
       "</div>"
      ],
      "text/plain": [
       "  Salutation Name  Age     Sex Location Marital Status\n",
       "0         Dr  Sam   32    male  Atlanta       Divorced\n",
       "1         Dr  Pam   45  female  Georgia       Divorced\n",
       "2         Ms  Tam   12  female  Georgia         Single"
      ]
     },
     "execution_count": 95,
     "metadata": {},
     "output_type": "execute_result"
    }
   ],
   "source": [
    "df"
   ]
  },
  {
   "cell_type": "code",
   "execution_count": 97,
   "id": "b423ebfa-3e77-46a4-8a8c-65865ce485ff",
   "metadata": {},
   "outputs": [
    {
     "data": {
      "text/html": [
       "<div>\n",
       "<style scoped>\n",
       "    .dataframe tbody tr th:only-of-type {\n",
       "        vertical-align: middle;\n",
       "    }\n",
       "\n",
       "    .dataframe tbody tr th {\n",
       "        vertical-align: top;\n",
       "    }\n",
       "\n",
       "    .dataframe thead th {\n",
       "        text-align: right;\n",
       "    }\n",
       "</style>\n",
       "<table border=\"1\" class=\"dataframe\">\n",
       "  <thead>\n",
       "    <tr style=\"text-align: right;\">\n",
       "      <th></th>\n",
       "      <th>Name</th>\n",
       "      <th>Age</th>\n",
       "    </tr>\n",
       "  </thead>\n",
       "  <tbody>\n",
       "    <tr>\n",
       "      <th>0</th>\n",
       "      <td>Sam</td>\n",
       "      <td>32</td>\n",
       "    </tr>\n",
       "    <tr>\n",
       "      <th>1</th>\n",
       "      <td>Pam</td>\n",
       "      <td>45</td>\n",
       "    </tr>\n",
       "  </tbody>\n",
       "</table>\n",
       "</div>"
      ],
      "text/plain": [
       "  Name  Age\n",
       "0  Sam   32\n",
       "1  Pam   45"
      ]
     },
     "execution_count": 97,
     "metadata": {},
     "output_type": "execute_result"
    }
   ],
   "source": [
    "df.loc[0:1,[\"Name\",\"Age\"]]"
   ]
  },
  {
   "cell_type": "code",
   "execution_count": 100,
   "id": "e87282d7-8872-418e-b000-11538b9c1e79",
   "metadata": {},
   "outputs": [
    {
     "data": {
      "text/html": [
       "<div>\n",
       "<style scoped>\n",
       "    .dataframe tbody tr th:only-of-type {\n",
       "        vertical-align: middle;\n",
       "    }\n",
       "\n",
       "    .dataframe tbody tr th {\n",
       "        vertical-align: top;\n",
       "    }\n",
       "\n",
       "    .dataframe thead th {\n",
       "        text-align: right;\n",
       "    }\n",
       "</style>\n",
       "<table border=\"1\" class=\"dataframe\">\n",
       "  <thead>\n",
       "    <tr style=\"text-align: right;\">\n",
       "      <th></th>\n",
       "      <th>Name</th>\n",
       "      <th>Age</th>\n",
       "    </tr>\n",
       "  </thead>\n",
       "  <tbody>\n",
       "    <tr>\n",
       "      <th>0</th>\n",
       "      <td>Sam</td>\n",
       "      <td>32</td>\n",
       "    </tr>\n",
       "    <tr>\n",
       "      <th>1</th>\n",
       "      <td>Pam</td>\n",
       "      <td>45</td>\n",
       "    </tr>\n",
       "  </tbody>\n",
       "</table>\n",
       "</div>"
      ],
      "text/plain": [
       "  Name  Age\n",
       "0  Sam   32\n",
       "1  Pam   45"
      ]
     },
     "execution_count": 100,
     "metadata": {},
     "output_type": "execute_result"
    }
   ],
   "source": [
    "df.iloc[0:2,[1,2]]"
   ]
  },
  {
   "cell_type": "code",
   "execution_count": 106,
   "id": "c5126d8d-b61c-4951-a982-befe0c284943",
   "metadata": {},
   "outputs": [],
   "source": [
    "df2.loc[:, DummyColumn] = [1,2,3]"
   ]
  },
  {
   "cell_type": "code",
   "execution_count": 107,
   "id": "6ce0dfac-db99-4e14-9b6d-e3a7156ee8ee",
   "metadata": {},
   "outputs": [
    {
     "data": {
      "text/html": [
       "<div>\n",
       "<style scoped>\n",
       "    .dataframe tbody tr th:only-of-type {\n",
       "        vertical-align: middle;\n",
       "    }\n",
       "\n",
       "    .dataframe tbody tr th {\n",
       "        vertical-align: top;\n",
       "    }\n",
       "\n",
       "    .dataframe thead th {\n",
       "        text-align: right;\n",
       "    }\n",
       "</style>\n",
       "<table border=\"1\" class=\"dataframe\">\n",
       "  <thead>\n",
       "    <tr style=\"text-align: right;\">\n",
       "      <th></th>\n",
       "      <th>Salutation</th>\n",
       "      <th>Name</th>\n",
       "      <th>Age</th>\n",
       "      <th>Sex</th>\n",
       "      <th>Location</th>\n",
       "      <th>Marital Status</th>\n",
       "      <th>Phone</th>\n",
       "      <th>Email</th>\n",
       "      <th>1</th>\n",
       "      <th>2</th>\n",
       "      <th>3</th>\n",
       "    </tr>\n",
       "  </thead>\n",
       "  <tbody>\n",
       "    <tr>\n",
       "      <th>Row1</th>\n",
       "      <td>Dr</td>\n",
       "      <td>Sam</td>\n",
       "      <td>32</td>\n",
       "      <td>male</td>\n",
       "      <td>Atlanta</td>\n",
       "      <td>Divorced</td>\n",
       "      <td>1111111</td>\n",
       "      <td>xyz@gmail.com</td>\n",
       "      <td>1</td>\n",
       "      <td>2</td>\n",
       "      <td>3</td>\n",
       "    </tr>\n",
       "    <tr>\n",
       "      <th>Row2</th>\n",
       "      <td>Dr</td>\n",
       "      <td>Pam</td>\n",
       "      <td>45</td>\n",
       "      <td>female</td>\n",
       "      <td>Georgia</td>\n",
       "      <td>Divorced</td>\n",
       "      <td>2222222</td>\n",
       "      <td>yxz@yahoo.com</td>\n",
       "      <td>1</td>\n",
       "      <td>2</td>\n",
       "      <td>3</td>\n",
       "    </tr>\n",
       "    <tr>\n",
       "      <th>Row3</th>\n",
       "      <td>Ms</td>\n",
       "      <td>Tam</td>\n",
       "      <td>12</td>\n",
       "      <td>female</td>\n",
       "      <td>Georgia</td>\n",
       "      <td>Single</td>\n",
       "      <td>3333333</td>\n",
       "      <td>aaa@gmail.com</td>\n",
       "      <td>1</td>\n",
       "      <td>2</td>\n",
       "      <td>3</td>\n",
       "    </tr>\n",
       "  </tbody>\n",
       "</table>\n",
       "</div>"
      ],
      "text/plain": [
       "     Salutation Name  Age     Sex Location Marital Status    Phone  \\\n",
       "Row1         Dr  Sam   32    male  Atlanta       Divorced  1111111   \n",
       "Row2         Dr  Pam   45  female  Georgia       Divorced  2222222   \n",
       "Row3         Ms  Tam   12  female  Georgia         Single  3333333   \n",
       "\n",
       "              Email  1  2  3  \n",
       "Row1  xyz@gmail.com  1  2  3  \n",
       "Row2  yxz@yahoo.com  1  2  3  \n",
       "Row3  aaa@gmail.com  1  2  3  "
      ]
     },
     "execution_count": 107,
     "metadata": {},
     "output_type": "execute_result"
    }
   ],
   "source": [
    "df2"
   ]
  },
  {
   "cell_type": "code",
   "execution_count": 108,
   "id": "f0108719-5c84-4f5e-b76c-11a11ecda641",
   "metadata": {},
   "outputs": [
    {
     "name": "stdout",
     "output_type": "stream",
     "text": [
      "      Name  Age Sex\n",
      "0    Alice   25   F\n",
      "1      Bob   30   M\n",
      "2  Charlie   35   M\n",
      "3    David   40   M\n",
      "      Name  Age Sex\n",
      "0    Alice   25   F\n",
      "1      Bob   30   M\n",
      "2  Charlie   36   M\n",
      "3    David   40   M\n"
     ]
    },
    {
     "name": "stderr",
     "output_type": "stream",
     "text": [
      "C:\\Users\\AW954XQ\\AppData\\Local\\Temp\\ipykernel_7408\\519490853.py:16: SettingWithCopyWarning: \n",
      "A value is trying to be set on a copy of a slice from a DataFrame.\n",
      "Try using .loc[row_indexer,col_indexer] = value instead\n",
      "\n",
      "See the caveats in the documentation: https://pandas.pydata.org/pandas-docs/stable/user_guide/indexing.html#returning-a-view-versus-a-copy\n",
      "  subset['Age'] = 36\n"
     ]
    }
   ],
   "source": [
    "import pandas as pd\n",
    "\n",
    "# Creating a sample DataFrame\n",
    "data = {\n",
    "    'Name': ['Alice', 'Bob', 'Charlie', 'David'],\n",
    "    'Age': [25, 30, 35, 40],\n",
    "    'Sex': ['F', 'M', 'M', 'M']\n",
    "}\n",
    "\n",
    "df = pd.DataFrame(data)\n",
    "\n",
    "# Suppose we want to set the age of 'Charlie' to 36\n",
    "\n",
    "# This might raise a SettingWithCopyWarning\n",
    "subset = df[df['Name'] == 'Charlie']\n",
    "subset['Age'] = 36\n",
    "print(df)\n",
    "\n",
    "# Recommended way to avoid SettingWithCopyWarning\n",
    "df.loc[df['Name'] == 'Charlie', 'Age'] = 36\n",
    "print(df)\n"
   ]
  },
  {
   "cell_type": "code",
   "execution_count": 119,
   "id": "27e8c190-16b7-4c57-b50b-2bfd361283c1",
   "metadata": {},
   "outputs": [
    {
     "data": {
      "text/html": [
       "<div>\n",
       "<style scoped>\n",
       "    .dataframe tbody tr th:only-of-type {\n",
       "        vertical-align: middle;\n",
       "    }\n",
       "\n",
       "    .dataframe tbody tr th {\n",
       "        vertical-align: top;\n",
       "    }\n",
       "\n",
       "    .dataframe thead th {\n",
       "        text-align: right;\n",
       "    }\n",
       "</style>\n",
       "<table border=\"1\" class=\"dataframe\">\n",
       "  <thead>\n",
       "    <tr style=\"text-align: right;\">\n",
       "      <th></th>\n",
       "      <th>Salutation</th>\n",
       "      <th>Name</th>\n",
       "      <th>Age</th>\n",
       "      <th>Sex</th>\n",
       "      <th>Location</th>\n",
       "      <th>Marital Status</th>\n",
       "      <th>Phone</th>\n",
       "      <th>Email</th>\n",
       "    </tr>\n",
       "  </thead>\n",
       "  <tbody>\n",
       "    <tr>\n",
       "      <th>0</th>\n",
       "      <td>Dr</td>\n",
       "      <td>Sam</td>\n",
       "      <td>32</td>\n",
       "      <td>male</td>\n",
       "      <td>Atlanta</td>\n",
       "      <td>Divorced</td>\n",
       "      <td>1111111</td>\n",
       "      <td>xyz@gmail.com</td>\n",
       "    </tr>\n",
       "  </tbody>\n",
       "</table>\n",
       "</div>"
      ],
      "text/plain": [
       "  Salutation Name  Age   Sex Location Marital Status    Phone          Email\n",
       "0         Dr  Sam   32  male  Atlanta       Divorced  1111111  xyz@gmail.com"
      ]
     },
     "execution_count": 119,
     "metadata": {},
     "output_type": "execute_result"
    }
   ],
   "source": [
    "df2[df2[\"Age\"]== df2[\"Age\"].max()]"
   ]
  },
  {
   "cell_type": "code",
   "execution_count": 111,
   "id": "9974b9d4-4859-4059-a28d-f0b80bb34ad3",
   "metadata": {},
   "outputs": [
    {
     "data": {
      "text/plain": [
       "Row1    False\n",
       "Row2     True\n",
       "Row3    False\n",
       "Name: Age, dtype: bool"
      ]
     },
     "execution_count": 111,
     "metadata": {},
     "output_type": "execute_result"
    }
   ],
   "source": [
    "df2[\"Age\"]== df2[\"Age\"].max()"
   ]
  },
  {
   "cell_type": "code",
   "execution_count": 112,
   "id": "c0258f79-0a68-480f-ad3b-d7a3bfd8c5a0",
   "metadata": {},
   "outputs": [],
   "source": [
    "df2.loc[df2[\"Age\"] == df2[\"Age\"].max()] = 31"
   ]
  },
  {
   "cell_type": "code",
   "execution_count": 115,
   "id": "accbbf18-1370-472f-b356-5c9139dea757",
   "metadata": {},
   "outputs": [
    {
     "data": {
      "text/html": [
       "<div>\n",
       "<style scoped>\n",
       "    .dataframe tbody tr th:only-of-type {\n",
       "        vertical-align: middle;\n",
       "    }\n",
       "\n",
       "    .dataframe tbody tr th {\n",
       "        vertical-align: top;\n",
       "    }\n",
       "\n",
       "    .dataframe thead th {\n",
       "        text-align: right;\n",
       "    }\n",
       "</style>\n",
       "<table border=\"1\" class=\"dataframe\">\n",
       "  <thead>\n",
       "    <tr style=\"text-align: right;\">\n",
       "      <th></th>\n",
       "      <th>Salutation</th>\n",
       "      <th>Name</th>\n",
       "      <th>Age</th>\n",
       "      <th>Sex</th>\n",
       "      <th>Location</th>\n",
       "      <th>Marital Status</th>\n",
       "      <th>Phone</th>\n",
       "      <th>Email</th>\n",
       "    </tr>\n",
       "  </thead>\n",
       "  <tbody>\n",
       "    <tr>\n",
       "      <th>0</th>\n",
       "      <td>Dr</td>\n",
       "      <td>Sam</td>\n",
       "      <td>32</td>\n",
       "      <td>male</td>\n",
       "      <td>Atlanta</td>\n",
       "      <td>Divorced</td>\n",
       "      <td>1111111</td>\n",
       "      <td>xyz@gmail.com</td>\n",
       "    </tr>\n",
       "    <tr>\n",
       "      <th>1</th>\n",
       "      <td>Dr</td>\n",
       "      <td>Pam</td>\n",
       "      <td>45</td>\n",
       "      <td>female</td>\n",
       "      <td>Georgia</td>\n",
       "      <td>Divorced</td>\n",
       "      <td>2222222</td>\n",
       "      <td>yxz@yahoo.com</td>\n",
       "    </tr>\n",
       "    <tr>\n",
       "      <th>2</th>\n",
       "      <td>Ms</td>\n",
       "      <td>Tam</td>\n",
       "      <td>12</td>\n",
       "      <td>female</td>\n",
       "      <td>Georgia</td>\n",
       "      <td>Single</td>\n",
       "      <td>3333333</td>\n",
       "      <td>aaa@gmail.com</td>\n",
       "    </tr>\n",
       "  </tbody>\n",
       "</table>\n",
       "</div>"
      ],
      "text/plain": [
       "  Salutation Name  Age     Sex Location Marital Status    Phone          Email\n",
       "0         Dr  Sam   32    male  Atlanta       Divorced  1111111  xyz@gmail.com\n",
       "1         Dr  Pam   45  female  Georgia       Divorced  2222222  yxz@yahoo.com\n",
       "2         Ms  Tam   12  female  Georgia         Single  3333333  aaa@gmail.com"
      ]
     },
     "execution_count": 115,
     "metadata": {},
     "output_type": "execute_result"
    }
   ],
   "source": [
    "df2"
   ]
  },
  {
   "cell_type": "code",
   "execution_count": 117,
   "id": "d3aaee96-113e-441d-ae0a-9bf34ba58d1e",
   "metadata": {},
   "outputs": [],
   "source": [
    "df2.loc[df2[\"Age\"] == df2[\"Age\"].max(),\"Age\"] =31"
   ]
  },
  {
   "cell_type": "code",
   "execution_count": 126,
   "id": "3d37ea9a-ed06-4b70-9b55-a69fc25ebaf4",
   "metadata": {},
   "outputs": [
    {
     "data": {
      "text/html": [
       "<div>\n",
       "<style scoped>\n",
       "    .dataframe tbody tr th:only-of-type {\n",
       "        vertical-align: middle;\n",
       "    }\n",
       "\n",
       "    .dataframe tbody tr th {\n",
       "        vertical-align: top;\n",
       "    }\n",
       "\n",
       "    .dataframe thead th {\n",
       "        text-align: right;\n",
       "    }\n",
       "</style>\n",
       "<table border=\"1\" class=\"dataframe\">\n",
       "  <thead>\n",
       "    <tr style=\"text-align: right;\">\n",
       "      <th></th>\n",
       "      <th>Salutation</th>\n",
       "      <th>Name</th>\n",
       "      <th>Age</th>\n",
       "      <th>Sex</th>\n",
       "      <th>Location</th>\n",
       "      <th>Marital Status</th>\n",
       "      <th>Phone</th>\n",
       "      <th>Email</th>\n",
       "    </tr>\n",
       "  </thead>\n",
       "  <tbody>\n",
       "    <tr>\n",
       "      <th>0</th>\n",
       "      <td>Dr</td>\n",
       "      <td>Sam</td>\n",
       "      <td>32</td>\n",
       "      <td>male</td>\n",
       "      <td>Atlanta</td>\n",
       "      <td>Divorced</td>\n",
       "      <td>1111111</td>\n",
       "      <td>xyz@gmail.com</td>\n",
       "    </tr>\n",
       "    <tr>\n",
       "      <th>1</th>\n",
       "      <td>Dr</td>\n",
       "      <td>Pam</td>\n",
       "      <td>31</td>\n",
       "      <td>female</td>\n",
       "      <td>Georgia</td>\n",
       "      <td>Divorced</td>\n",
       "      <td>2222222</td>\n",
       "      <td>yxz@yahoo.com</td>\n",
       "    </tr>\n",
       "    <tr>\n",
       "      <th>2</th>\n",
       "      <td>Ms</td>\n",
       "      <td>Tam</td>\n",
       "      <td>12</td>\n",
       "      <td>female</td>\n",
       "      <td>Georgia</td>\n",
       "      <td>Single</td>\n",
       "      <td>3333333</td>\n",
       "      <td>aaa@gmail.com</td>\n",
       "    </tr>\n",
       "  </tbody>\n",
       "</table>\n",
       "</div>"
      ],
      "text/plain": [
       "  Salutation Name  Age     Sex Location Marital Status    Phone          Email\n",
       "0         Dr  Sam   32    male  Atlanta       Divorced  1111111  xyz@gmail.com\n",
       "1         Dr  Pam   31  female  Georgia       Divorced  2222222  yxz@yahoo.com\n",
       "2         Ms  Tam   12  female  Georgia         Single  3333333  aaa@gmail.com"
      ]
     },
     "execution_count": 126,
     "metadata": {},
     "output_type": "execute_result"
    }
   ],
   "source": [
    "df2"
   ]
  },
  {
   "cell_type": "code",
   "execution_count": 120,
   "id": "367a71e4-a763-4ca4-967d-cb26e283fa30",
   "metadata": {},
   "outputs": [
    {
     "name": "stderr",
     "output_type": "stream",
     "text": [
      "C:\\Users\\AW954XQ\\AppData\\Local\\Temp\\ipykernel_7408\\649109824.py:1: SettingWithCopyWarning: \n",
      "A value is trying to be set on a copy of a slice from a DataFrame.\n",
      "Try using .loc[row_indexer,col_indexer] = value instead\n",
      "\n",
      "See the caveats in the documentation: https://pandas.pydata.org/pandas-docs/stable/user_guide/indexing.html#returning-a-view-versus-a-copy\n",
      "  df2[df2[\"Age\"] == df2[\"Age\"].max()][\"Age\"]=30\n"
     ]
    }
   ],
   "source": [
    "df2[df2[\"Age\"] == df2[\"Age\"].max()][\"Age\"]=30"
   ]
  },
  {
   "cell_type": "code",
   "execution_count": 141,
   "id": "4e74f62c-7507-49ef-b3ef-fa6061eb032b",
   "metadata": {},
   "outputs": [
    {
     "data": {
      "text/html": [
       "<div>\n",
       "<style scoped>\n",
       "    .dataframe tbody tr th:only-of-type {\n",
       "        vertical-align: middle;\n",
       "    }\n",
       "\n",
       "    .dataframe tbody tr th {\n",
       "        vertical-align: top;\n",
       "    }\n",
       "\n",
       "    .dataframe thead th {\n",
       "        text-align: right;\n",
       "    }\n",
       "</style>\n",
       "<table border=\"1\" class=\"dataframe\">\n",
       "  <thead>\n",
       "    <tr style=\"text-align: right;\">\n",
       "      <th></th>\n",
       "      <th>Salutation</th>\n",
       "      <th>Name</th>\n",
       "      <th>Age</th>\n",
       "      <th>Sex</th>\n",
       "      <th>Location</th>\n",
       "      <th>Marital Status</th>\n",
       "      <th>Phone</th>\n",
       "      <th>Email</th>\n",
       "    </tr>\n",
       "  </thead>\n",
       "  <tbody>\n",
       "    <tr>\n",
       "      <th>0</th>\n",
       "      <td>Dr</td>\n",
       "      <td>Sam</td>\n",
       "      <td>32</td>\n",
       "      <td>male</td>\n",
       "      <td>Atlanta</td>\n",
       "      <td>Divorced</td>\n",
       "      <td>1111111</td>\n",
       "      <td>xyz@gmail.com</td>\n",
       "    </tr>\n",
       "    <tr>\n",
       "      <th>1</th>\n",
       "      <td>Dr</td>\n",
       "      <td>Pam</td>\n",
       "      <td>45</td>\n",
       "      <td>female</td>\n",
       "      <td>Georgia</td>\n",
       "      <td>Divorced</td>\n",
       "      <td>2222222</td>\n",
       "      <td>yxz@yahoo.com</td>\n",
       "    </tr>\n",
       "    <tr>\n",
       "      <th>2</th>\n",
       "      <td>Ms</td>\n",
       "      <td>Tam</td>\n",
       "      <td>12</td>\n",
       "      <td>female</td>\n",
       "      <td>Georgia</td>\n",
       "      <td>Single</td>\n",
       "      <td>3333333</td>\n",
       "      <td>aaa@gmail.com</td>\n",
       "    </tr>\n",
       "    <tr>\n",
       "      <th>3</th>\n",
       "      <td>Mr</td>\n",
       "      <td>Jam</td>\n",
       "      <td>45</td>\n",
       "      <td>male</td>\n",
       "      <td>New Jersey</td>\n",
       "      <td>Married</td>\n",
       "      <td>99999</td>\n",
       "      <td>jammy@gamil.com</td>\n",
       "    </tr>\n",
       "    <tr>\n",
       "      <th>4</th>\n",
       "      <td>Mr</td>\n",
       "      <td>Jam</td>\n",
       "      <td>45</td>\n",
       "      <td>male</td>\n",
       "      <td>New Jersey</td>\n",
       "      <td>Married</td>\n",
       "      <td>99999</td>\n",
       "      <td>jammy@gamil.com</td>\n",
       "    </tr>\n",
       "  </tbody>\n",
       "</table>\n",
       "</div>"
      ],
      "text/plain": [
       "  Salutation Name  Age     Sex    Location Marital Status    Phone  \\\n",
       "0         Dr  Sam   32    male     Atlanta       Divorced  1111111   \n",
       "1         Dr  Pam   45  female     Georgia       Divorced  2222222   \n",
       "2         Ms  Tam   12  female     Georgia         Single  3333333   \n",
       "3         Mr  Jam   45    male  New Jersey        Married    99999   \n",
       "4         Mr  Jam   45    male  New Jersey        Married    99999   \n",
       "\n",
       "             Email  \n",
       "0    xyz@gmail.com  \n",
       "1    yxz@yahoo.com  \n",
       "2    aaa@gmail.com  \n",
       "3  jammy@gamil.com  \n",
       "4  jammy@gamil.com  "
      ]
     },
     "execution_count": 141,
     "metadata": {},
     "output_type": "execute_result"
    }
   ],
   "source": [
    "newuser = {\"Salutation\": \"Mr\", \"Name\": \"Jam\", \"Age\": 45, \"Sex\": \"male\", \"Location\": \"New Jersey\", \"Marital Status\": \"Married\", \"Phone\": 99999, \"Email\": \"jammy@gamil.com\"}\n",
    "newuser\n",
    "df2 = pd.concat([df2,pd.DataFrame([newuser])],ignore_index=True)\n",
    "df2"
   ]
  },
  {
   "cell_type": "code",
   "execution_count": 142,
   "id": "31ca7ad3-8ed8-46b5-9055-6851a7f3220e",
   "metadata": {},
   "outputs": [
    {
     "data": {
      "text/html": [
       "<div>\n",
       "<style scoped>\n",
       "    .dataframe tbody tr th:only-of-type {\n",
       "        vertical-align: middle;\n",
       "    }\n",
       "\n",
       "    .dataframe tbody tr th {\n",
       "        vertical-align: top;\n",
       "    }\n",
       "\n",
       "    .dataframe thead th {\n",
       "        text-align: right;\n",
       "    }\n",
       "</style>\n",
       "<table border=\"1\" class=\"dataframe\">\n",
       "  <thead>\n",
       "    <tr style=\"text-align: right;\">\n",
       "      <th></th>\n",
       "      <th>Salutation</th>\n",
       "      <th>Name</th>\n",
       "      <th>Age</th>\n",
       "      <th>Sex</th>\n",
       "      <th>Location</th>\n",
       "      <th>Marital Status</th>\n",
       "      <th>Phone</th>\n",
       "      <th>Email</th>\n",
       "    </tr>\n",
       "  </thead>\n",
       "  <tbody>\n",
       "    <tr>\n",
       "      <th>0</th>\n",
       "      <td>Dr</td>\n",
       "      <td>Sam</td>\n",
       "      <td>32</td>\n",
       "      <td>male</td>\n",
       "      <td>Atlanta</td>\n",
       "      <td>Divorced</td>\n",
       "      <td>1111111</td>\n",
       "      <td>xyz@gmail.com</td>\n",
       "    </tr>\n",
       "    <tr>\n",
       "      <th>1</th>\n",
       "      <td>Dr</td>\n",
       "      <td>Pam</td>\n",
       "      <td>45</td>\n",
       "      <td>female</td>\n",
       "      <td>Georgia</td>\n",
       "      <td>Divorced</td>\n",
       "      <td>2222222</td>\n",
       "      <td>yxz@yahoo.com</td>\n",
       "    </tr>\n",
       "    <tr>\n",
       "      <th>2</th>\n",
       "      <td>Ms</td>\n",
       "      <td>Tam</td>\n",
       "      <td>12</td>\n",
       "      <td>female</td>\n",
       "      <td>Georgia</td>\n",
       "      <td>Single</td>\n",
       "      <td>3333333</td>\n",
       "      <td>aaa@gmail.com</td>\n",
       "    </tr>\n",
       "    <tr>\n",
       "      <th>3</th>\n",
       "      <td>Mr</td>\n",
       "      <td>Jam</td>\n",
       "      <td>45</td>\n",
       "      <td>male</td>\n",
       "      <td>New Jersey</td>\n",
       "      <td>Married</td>\n",
       "      <td>99999</td>\n",
       "      <td>jammy@gamil.com</td>\n",
       "    </tr>\n",
       "  </tbody>\n",
       "</table>\n",
       "</div>"
      ],
      "text/plain": [
       "  Salutation Name  Age     Sex    Location Marital Status    Phone  \\\n",
       "0         Dr  Sam   32    male     Atlanta       Divorced  1111111   \n",
       "1         Dr  Pam   45  female     Georgia       Divorced  2222222   \n",
       "2         Ms  Tam   12  female     Georgia         Single  3333333   \n",
       "3         Mr  Jam   45    male  New Jersey        Married    99999   \n",
       "\n",
       "             Email  \n",
       "0    xyz@gmail.com  \n",
       "1    yxz@yahoo.com  \n",
       "2    aaa@gmail.com  \n",
       "3  jammy@gamil.com  "
      ]
     },
     "execution_count": 142,
     "metadata": {},
     "output_type": "execute_result"
    }
   ],
   "source": [
    "df2 = df2.drop(labels = [4])\n",
    "df2"
   ]
  },
  {
   "cell_type": "code",
   "execution_count": null,
   "id": "29d7d25b-bc70-4557-99ef-2a7e1995190d",
   "metadata": {},
   "outputs": [],
   "source": [
    "#### Coursesa training on numpy"
   ]
  },
  {
   "cell_type": "code",
   "execution_count": 1,
   "id": "279df7f4-cecb-41ea-895c-b2c68a3765bb",
   "metadata": {},
   "outputs": [],
   "source": [
    "import numpy as np"
   ]
  },
  {
   "cell_type": "code",
   "execution_count": 3,
   "id": "8cf937b5-e502-4fe5-bf8b-c94ddfbdeace",
   "metadata": {},
   "outputs": [
    {
     "name": "stdout",
     "output_type": "stream",
     "text": [
      "[10 12]\n"
     ]
    }
   ],
   "source": [
    "one_d_array = np.array([10,12])\n",
    "print(one_d_array)"
   ]
  },
  {
   "cell_type": "code",
   "execution_count": 32,
   "id": "dec954b8-2a22-439b-8c10-bfe37bfc371c",
   "metadata": {},
   "outputs": [
    {
     "name": "stdout",
     "output_type": "stream",
     "text": [
      "1-D array using array function [12 11 10]\n",
      "1-D array using range [range of 5] [0 1 2 3 4]\n",
      "1-D array using range starting from 1 and ending 20 with increment 3 [ 1  4  7 10 13 16 19]\n",
      "1-D array 5 evenly spaced elements from 0 to 100 which is float [  0.  25.  50.  75. 100.]\n",
      "1-D array 5 evenly spaced elements from 0 to 100 which is integer [  0  25  50  75 100]\n",
      "1-D array using range starting from 1 and ending 20 with increment 3 [ 1.  4.  7. 10. 13. 16. 19.]\n",
      "['Welcome to Math for ML!']\n",
      "<U23\n"
     ]
    }
   ],
   "source": [
    "# 1 Dimensional array\n",
    "a = np.array([12,11,10])\n",
    "print(f\"1-D array using array function {a}\")\n",
    "b = np.arange(5)\n",
    "print(f\"1-D array using range [range of 5] {b}\")\n",
    "c = np.arange(1,20,3)\n",
    "print(f\"1-D array using range starting from 1 and ending 20 with increment 3 {c}\")\n",
    "d = np.linspace(0,100,5)\n",
    "print(f\"1-D array 5 evenly spaced elements from 0 to 100 which is float {d}\")\n",
    "e = np.linspace(0,100,5,dtype=int)\n",
    "print(f\"1-D array 5 evenly spaced elements from 0 to 100 which is integer {e}\")\n",
    "f = np.arange(1,20,3,dtype=float)\n",
    "print(f\"1-D array using range starting from 1 and ending 20 with increment 3 {f}\")\n",
    "char_arr = np.array(['Welcome to Math for ML!'])\n",
    "print(char_arr)\n",
    "print(char_arr.dtype)"
   ]
  },
  {
   "cell_type": "code",
   "execution_count": 31,
   "id": "4d2ecf31-7a18-4885-84c9-02add08639ef",
   "metadata": {},
   "outputs": [
    {
     "name": "stdout",
     "output_type": "stream",
     "text": [
      "1-D array of 1 created using [ones] [1 1 1 1 1]\n",
      "1-D array of 0 created using [zeros] [0. 0. 0. 0. 0.]\n",
      "1-D empty created using [empty] [0 0 0 0 0]\n",
      "1-D array created using random generator [0.8264669  0.3667887  0.83113252 0.97461261 0.85595117]\n"
     ]
    }
   ],
   "source": [
    "ones_arr = np.ones(5,dtype=int)\n",
    "print(f\"1-D array of 1 created using [ones] {ones_arr}\")\n",
    "zero_arr = np.zeros(5,dtype=float)\n",
    "print(f\"1-D array of 0 created using [zeros] {zero_arr}\")\n",
    "empty_arr = np.empty(5,dtype=int) #returns 0 as zeros array\n",
    "print(f\"1-D empty created using [empty] {empty_arr}\")\n",
    "rand_arr = np.random.rand(5)\n",
    "print(f\"1-D array created using random generator {rand_arr}\")"
   ]
  },
  {
   "cell_type": "code",
   "execution_count": 35,
   "id": "9c0fce52-3846-417b-af1b-90b01f8c4b87",
   "metadata": {},
   "outputs": [
    {
     "name": "stdout",
     "output_type": "stream",
     "text": [
      "2-D array created using [array] [[11 12 13]\n",
      " [22 33 44]]\n"
     ]
    },
    {
     "data": {
      "text/plain": [
       "array([[11, 12, 13],\n",
       "       [22, 33, 44]])"
      ]
     },
     "execution_count": 35,
     "metadata": {},
     "output_type": "execute_result"
    }
   ],
   "source": [
    "two_d_array = np.array([[11,12,13], [22,33,44]])\n",
    "print(f\"2-D array created using [array] {two_d_array}\")\n",
    "two_d_array"
   ]
  },
  {
   "cell_type": "code",
   "execution_count": 38,
   "id": "12f09682-d088-4d84-b91d-f84f3f14d1f9",
   "metadata": {},
   "outputs": [
    {
     "name": "stdout",
     "output_type": "stream",
     "text": [
      "1-D array created using [array] [1 2 3 4 5 6] \n",
      " that can be convereted to M-D as below\n",
      "M-D array created using [reshape] [[1 2 3]\n",
      " [4 5 6]]\n"
     ]
    },
    {
     "data": {
      "text/plain": [
       "array([[1, 2, 3],\n",
       "       [4, 5, 6]])"
      ]
     },
     "execution_count": 38,
     "metadata": {},
     "output_type": "execute_result"
    }
   ],
   "source": [
    "one_d_array   = np.array([1,2,3,4,5,6])\n",
    "print(f\"1-D array created using [array] {one_d_array} \\n that can be convereted to M-D as below\")\n",
    "multi_d_array = np.reshape(one_d_array, (2,3))\n",
    "print(f\"M-D array created using [reshape] {multi_d_array}\")\n",
    "multi_d_array"
   ]
  },
  {
   "cell_type": "code",
   "execution_count": 40,
   "id": "cefa9da3-c7b2-4d25-a5d7-c67c3cc18f0e",
   "metadata": {},
   "outputs": [
    {
     "name": "stdout",
     "output_type": "stream",
     "text": [
      "Dimesion of array 2\n"
     ]
    }
   ],
   "source": [
    "print(f\"Dimesion of array {multi_d_array.ndim}\") #returns 2 for 2-D array"
   ]
  },
  {
   "cell_type": "code",
   "execution_count": 41,
   "id": "5802da0d-97e8-4ebe-b67f-09678ff70e69",
   "metadata": {},
   "outputs": [
    {
     "name": "stdout",
     "output_type": "stream",
     "text": [
      "Shape of array (2, 3)\n"
     ]
    }
   ],
   "source": [
    "print(f\"Shape of array {multi_d_array.shape}\") #returns (tuple) number of rows & columns (row,column)"
   ]
  },
  {
   "cell_type": "code",
   "execution_count": 42,
   "id": "1c4394bf-b5c8-421f-a322-689ab80112c8",
   "metadata": {},
   "outputs": [
    {
     "name": "stdout",
     "output_type": "stream",
     "text": [
      "Size of array 6\n"
     ]
    }
   ],
   "source": [
    "print(f\"Size of array {multi_d_array.size}\") #returns number of elements in the array"
   ]
  },
  {
   "cell_type": "code",
   "execution_count": 44,
   "id": "eb339d39-9abb-4eaa-838e-68a1b9b6fbe7",
   "metadata": {},
   "outputs": [
    {
     "name": "stdout",
     "output_type": "stream",
     "text": [
      "The sum of 2 arrays [2 4 6] and [1 3 5] is [ 3  7 11]\n"
     ]
    }
   ],
   "source": [
    "arr_1    = np.array([2,4,6])\n",
    "arr_2    = np.array([1,3,5])\n",
    "addition = arr_1 + arr_2\n",
    "print(f\"The sum of 2 arrays {arr_1} and {arr_2} is {addition}\")"
   ]
  },
  {
   "cell_type": "code",
   "execution_count": 45,
   "id": "caf669ef-656d-42dd-8321-09ffdc554b88",
   "metadata": {},
   "outputs": [
    {
     "name": "stdout",
     "output_type": "stream",
     "text": [
      "The difference of 2 arrays [2 4 6] and [1 3 5] is [1 1 1]\n"
     ]
    }
   ],
   "source": [
    "arr_1      = np.array([2,4,6])\n",
    "arr_2      = np.array([1,3,5])\n",
    "difference = arr_1 - arr_2\n",
    "print(f\"The difference of 2 arrays {arr_1} and {arr_2} is {difference}\")"
   ]
  },
  {
   "cell_type": "code",
   "execution_count": 46,
   "id": "3c19ba4a-96ba-4fa1-82ea-817a48dee762",
   "metadata": {},
   "outputs": [
    {
     "name": "stdout",
     "output_type": "stream",
     "text": [
      "The product of 2 arrays [2 4 6] and [1 3 5] is [ 2 12 30]\n"
     ]
    }
   ],
   "source": [
    "arr_1   = np.array([2,4,6])\n",
    "arr_2   = np.array([1,3,5])\n",
    "product = arr_1 * arr_2\n",
    "print(f\"The product of 2 arrays {arr_1} and {arr_2} is {product}\")"
   ]
  },
  {
   "cell_type": "code",
   "execution_count": 52,
   "id": "48e9d324-e901-40f8-9d89-d6ff869bf8ab",
   "metadata": {},
   "outputs": [
    {
     "name": "stdout",
     "output_type": "stream",
     "text": [
      "The miles to mks conversion for array [1 2] is [1.6 3.2]\n"
     ]
    }
   ],
   "source": [
    "v = np.array([1,2])\n",
    "miles_to_kms = v * 1.6\n",
    "print(f\"The miles to mks conversion for array {v} is {miles_to_kms}\")"
   ]
  },
  {
   "cell_type": "code",
   "execution_count": 58,
   "id": "b0851f1e-fa6d-45fc-9e16-fb0eb5772581",
   "metadata": {},
   "outputs": [
    {
     "name": "stdout",
     "output_type": "stream",
     "text": [
      "The first element of array [12 11 10] is 12\n",
      "The second element of array [12 11 10] is 11\n",
      "The third element of array [12 11 10] is 10\n"
     ]
    }
   ],
   "source": [
    "print(f\"The first element of 1-D array {a} is {a[0]}\")\n",
    "print(f\"The second element of 1-D array {a} is {a[1]}\")\n",
    "print(f\"The third element of 1-D array {a} is {a[2]}\")"
   ]
  },
  {
   "cell_type": "code",
   "execution_count": 60,
   "id": "49bedd54-2c4b-4497-b1b0-499c76813765",
   "metadata": {},
   "outputs": [
    {
     "name": "stdout",
     "output_type": "stream",
     "text": [
      "The first element of M-D array [[1 2 3]\n",
      " [4 5 6]] is [1 2 3]\n",
      "The second element of M-D array [[1 2 3]\n",
      " [4 5 6]] is [4 5 6]\n"
     ]
    }
   ],
   "source": [
    "print(f\"The first row of M-D array {multi_d_array} is {multi_d_array[0]}\")\n",
    "print(f\"The second row of M-D array {multi_d_array} is {multi_d_array[1]}\")"
   ]
  },
  {
   "cell_type": "code",
   "execution_count": 61,
   "id": "e857cd38-aee5-44f7-923f-75daad89966d",
   "metadata": {},
   "outputs": [
    {
     "name": "stdout",
     "output_type": "stream",
     "text": [
      "The first element in 1st row of M-D array [[1 2 3]\n",
      " [4 5 6]] is 1\n",
      "The second element in 1st row of M-D array [[1 2 3]\n",
      " [4 5 6]] is 2\n"
     ]
    }
   ],
   "source": [
    "print(f\"The first element in 1st row of M-D array {multi_d_array} is {multi_d_array[0][0]}\")\n",
    "print(f\"The second element in 1st row of M-D array {multi_d_array} is {multi_d_array[0][1]}\")"
   ]
  },
  {
   "cell_type": "code",
   "execution_count": 62,
   "id": "db7d3e3a-de18-4add-8537-dc3881b5be97",
   "metadata": {},
   "outputs": [
    {
     "name": "stdout",
     "output_type": "stream",
     "text": [
      "The element in 1st row and 2nd column of M-D array [[1 2 3]\n",
      " [4 5 6]] is 6\n"
     ]
    }
   ],
   "source": [
    "print(f\"The element in 1st row and 2nd column of M-D array {multi_d_array} is {multi_d_array[1][2]}\")"
   ]
  },
  {
   "cell_type": "code",
   "execution_count": 79,
   "id": "2c0218cb-cbc5-4733-937a-08c25a760ac1",
   "metadata": {},
   "outputs": [
    {
     "name": "stdout",
     "output_type": "stream",
     "text": [
      "The sliced array [1 to 4] of [1 2 3 4 5 6] is [2 3 4]\n",
      "The sliced array [1 to 4] of [1 2 3 4 5 6] in step 2  is [1 3 5]\n",
      "[1 2 3 4 5 6]\n",
      "[1 2 3 4 5 6]\n"
     ]
    }
   ],
   "source": [
    "sl_a = np.array([1,2,3,4,5,6])\n",
    "sliced_arr = sl_a[1:4]\n",
    "print(f\"The sliced array [1 to 4] of {sl_a} is {sliced_arr}\")\n",
    "sliced_arr_2 = sl_a[: : 2]\n",
    "print(f\"The sliced array [1 to 4] of {sl_a} in step 2  is {sliced_arr_2}\")\n",
    "print(sl_a[:])\n",
    "print(sl_a[::])"
   ]
  },
  {
   "cell_type": "code",
   "execution_count": 82,
   "id": "991d2e5f-2f0f-4d5b-bac4-5709d66932c9",
   "metadata": {},
   "outputs": [
    {
     "data": {
      "text/plain": [
       "array([[1, 2, 3],\n",
       "       [4, 5, 6]])"
      ]
     },
     "execution_count": 82,
     "metadata": {},
     "output_type": "execute_result"
    }
   ],
   "source": [
    "multi_d_array"
   ]
  },
  {
   "cell_type": "code",
   "execution_count": 83,
   "id": "72d89cbf-9b10-4020-b287-bfbc8dec18f9",
   "metadata": {},
   "outputs": [],
   "source": [
    "m_array = np.array(([1,2,3],[4,5,6],[7,8,9]))"
   ]
  },
  {
   "cell_type": "code",
   "execution_count": 84,
   "id": "6cc3409a-3261-441c-83d7-8cffccf43307",
   "metadata": {},
   "outputs": [
    {
     "data": {
      "text/plain": [
       "array([[1, 2, 3],\n",
       "       [4, 5, 6],\n",
       "       [7, 8, 9]])"
      ]
     },
     "execution_count": 84,
     "metadata": {},
     "output_type": "execute_result"
    }
   ],
   "source": [
    "m_array"
   ]
  },
  {
   "cell_type": "code",
   "execution_count": 92,
   "id": "b664bb5d-0cd3-45f6-99f7-c0c4a9e8c744",
   "metadata": {},
   "outputs": [
    {
     "name": "stdout",
     "output_type": "stream",
     "text": [
      "[1 4 7]\n"
     ]
    }
   ],
   "source": [
    "print(m_array[::,0])"
   ]
  },
  {
   "cell_type": "code",
   "execution_count": 94,
   "id": "c988b4af-17b7-4d4c-8fd8-d68bf185beb2",
   "metadata": {},
   "outputs": [
    {
     "name": "stdout",
     "output_type": "stream",
     "text": [
      "[[1 1]\n",
      " [2 2]]\n",
      "[[3 3]\n",
      " [4 4]]\n"
     ]
    }
   ],
   "source": [
    "a1 = np.array(([1,1],[2,2]))\n",
    "a2 = np.array(([3,3],[4,4]))\n",
    "print(a1)\n",
    "print(a2)"
   ]
  },
  {
   "cell_type": "code",
   "execution_count": 109,
   "id": "d6a1d59e-4cb3-48ef-bcd5-fda7cac05fd8",
   "metadata": {},
   "outputs": [
    {
     "name": "stdout",
     "output_type": "stream",
     "text": [
      "Result of vertical stack of [[1 1]\n",
      " [2 2]] and [[3 3]\n",
      " [4 4]] is [[1 1]\n",
      " [2 2]\n",
      " [3 3]\n",
      " [4 4]]\n",
      "Result of horizontal stack of [[1 1]\n",
      " [2 2]] and [[3 3]\n",
      " [4 4]] is [[1 1 3 3]\n",
      " [2 2 4 4]]\n",
      "The split of [[1 1 3 3]\n",
      " [2 2 4 4]] is [array([[1, 1, 3, 3]]), array([[2, 2, 4, 4]])]\n",
      "The horizontal split of [[1 1 3 3]\n",
      " [2 2 4 4]] is [array([[1],\n",
      "       [2]]), array([[1],\n",
      "       [2]]), array([[3],\n",
      "       [4]]), array([[3],\n",
      "       [4]])]\n"
     ]
    },
    {
     "data": {
      "text/plain": [
       "[array([[1],\n",
       "        [2]]),\n",
       " array([[1],\n",
       "        [2]]),\n",
       " array([[3],\n",
       "        [4]]),\n",
       " array([[3],\n",
       "        [4]])]"
      ]
     },
     "execution_count": 109,
     "metadata": {},
     "output_type": "execute_result"
    }
   ],
   "source": [
    "v_stack = np.vstack((a1,a2))\n",
    "h_stack = np.hstack((a1,a2))\n",
    "print(f\"Result of vertical stack of {a1} and {a2} is {v_stack}\")\n",
    "print(f\"Result of horizontal stack of {a1} and {a2} is {h_stack}\")\n",
    "split_array = np.split(h_stack,2)\n",
    "print(f\"The split of {h_stack} is {split_array}\")\n",
    "h_split_array = np.hsplit(h_stack,4)\n",
    "print(f\"The horizontal split of {h_stack} is {h_split_array}\")\n",
    "h_split_array"
   ]
  },
  {
   "cell_type": "code",
   "execution_count": 110,
   "id": "30f7381c-3ed1-4128-98da-dc4e50af3acf",
   "metadata": {},
   "outputs": [
    {
     "data": {
      "text/plain": [
       "array([[1, 1, 3, 3],\n",
       "       [2, 2, 4, 4]])"
      ]
     },
     "execution_count": 110,
     "metadata": {},
     "output_type": "execute_result"
    }
   ],
   "source": [
    "h_stack"
   ]
  },
  {
   "cell_type": "code",
   "execution_count": 12,
   "id": "afc36175-7398-490a-ab84-7f45a46eb5ec",
   "metadata": {},
   "outputs": [],
   "source": [
    "import numpy as np"
   ]
  },
  {
   "cell_type": "code",
   "execution_count": 16,
   "id": "db7c5751-c6d5-4fc2-ab11-4938a3a77dfb",
   "metadata": {},
   "outputs": [],
   "source": [
    "A = np.array(([-1,3],[3,2]), dtype=np.dtype(float))\n",
    "b = np.array([7,1], dtype=np.dtype(float))"
   ]
  },
  {
   "cell_type": "code",
   "execution_count": 17,
   "id": "a47947ec-4a51-43e5-99eb-ed7eb411c9a5",
   "metadata": {},
   "outputs": [
    {
     "name": "stdout",
     "output_type": "stream",
     "text": [
      "[[-1.  3.]\n",
      " [ 3.  2.]]\n",
      "[7. 1.]\n"
     ]
    }
   ],
   "source": [
    "print(A)\n",
    "print(b)"
   ]
  },
  {
   "cell_type": "code",
   "execution_count": 19,
   "id": "0ad55568-ba5b-47d2-a887-fb02d48faf80",
   "metadata": {},
   "outputs": [
    {
     "name": "stdout",
     "output_type": "stream",
     "text": [
      "The shape of matrix [[-1.  3.]\n",
      " [ 3.  2.]] is (2, 2)\n",
      "The share of vector [7. 1.] is (2,)\n"
     ]
    }
   ],
   "source": [
    "print(f\"The shape of matrix {A} is {A.shape}\")\n",
    "print(f\"The share of vector {b} is {b.shape}\")"
   ]
  },
  {
   "cell_type": "code",
   "execution_count": 29,
   "id": "78733cce-5f37-4dd2-9608-c5d4eb3a48a4",
   "metadata": {},
   "outputs": [
    {
     "name": "stdout",
     "output_type": "stream",
     "text": [
      "The value of x1 is -1.0 and value of x2 is 2.0 for the matrix [[-1.  3.]\n",
      " [ 3.  2.]]\n"
     ]
    }
   ],
   "source": [
    "x = np.linalg.solve(A,b)\n",
    "print(f\"The value of x1 is {x[0]} and value of x2 is {x[1]} for the matrix {A}\")"
   ]
  },
  {
   "cell_type": "code",
   "execution_count": 33,
   "id": "c3c9de9e-3ea2-4f5b-9031-0e5c8f117f61",
   "metadata": {},
   "outputs": [
    {
     "name": "stdout",
     "output_type": "stream",
     "text": [
      "The determinant of matrix [[-1.  3.]\n",
      " [ 3.  2.]] is -11.00\n"
     ]
    }
   ],
   "source": [
    "y = np.linalg.det(A)\n",
    "print(f\"The determinant of matrix {A} is {y:.2f}\")"
   ]
  },
  {
   "cell_type": "code",
   "execution_count": 39,
   "id": "6aee74f4-c611-4215-904d-66769cfc6215",
   "metadata": {},
   "outputs": [
    {
     "data": {
      "text/plain": [
       "array([[-1.,  3.,  7.],\n",
       "       [ 3.,  2.,  1.]])"
      ]
     },
     "execution_count": 39,
     "metadata": {},
     "output_type": "execute_result"
    }
   ],
   "source": [
    "l_e = np.hstack((A,b.reshape(2,1)))\n",
    "l_e"
   ]
  },
  {
   "cell_type": "code",
   "execution_count": 40,
   "id": "dcf5642b-c013-4f72-b388-1298cdcab61f",
   "metadata": {},
   "outputs": [
    {
     "name": "stdout",
     "output_type": "stream",
     "text": [
      "[3. 2. 1.]\n"
     ]
    }
   ],
   "source": [
    "print(l_e[1])"
   ]
  },
  {
   "cell_type": "code",
   "execution_count": 43,
   "id": "765b401d-34c0-48c9-bba5-5f0a5d0c9c7f",
   "metadata": {},
   "outputs": [
    {
     "name": "stdout",
     "output_type": "stream",
     "text": [
      "The determinant of matrix [[-1.  3.]\n",
      " [ 3.  2.]] is 0.00\n"
     ]
    }
   ],
   "source": [
    "A_2 = np.array(([-1,3],[3,-9]),dtype=np.dtype(float))\n",
    "b_2 = np.array([7,1], dtype=np.dtype(float))\n",
    "\n",
    "y_2 = np.linalg.det(A_2)\n",
    "print(f\"The determinant of matrix {A} is {y_2:.2f}\")"
   ]
  },
  {
   "cell_type": "code",
   "execution_count": 44,
   "id": "ee76671d-3feb-414a-ae26-607569a2b822",
   "metadata": {},
   "outputs": [
    {
     "name": "stdout",
     "output_type": "stream",
     "text": [
      "Singular matrix\n"
     ]
    }
   ],
   "source": [
    "try:\n",
    "    x_2 = np.linalg.solve(A_2, b_2)\n",
    "except np.linalg.LinAlgError as err:\n",
    "    print(err)"
   ]
  },
  {
   "cell_type": "code",
   "execution_count": 45,
   "id": "3d160fdf-41c9-45db-a15f-22c52bebcb37",
   "metadata": {},
   "outputs": [
    {
     "data": {
      "text/plain": [
       "array([[-1.,  3.,  7.],\n",
       "       [ 3., -9.,  1.]])"
      ]
     },
     "execution_count": 45,
     "metadata": {},
     "output_type": "execute_result"
    }
   ],
   "source": [
    "l_e_2 = np.hstack((A_2, b_2.reshape(2,1)))\n",
    "l_e_2"
   ]
  },
  {
   "cell_type": "code",
   "execution_count": 46,
   "id": "ce5ac901-e31a-424c-9b7c-ef4d0df8e417",
   "metadata": {},
   "outputs": [
    {
     "data": {
      "text/plain": [
       "array([[ -1.,   3.,   7.],\n",
       "       [  3.,  -9., -21.]])"
      ]
     },
     "execution_count": 46,
     "metadata": {},
     "output_type": "execute_result"
    }
   ],
   "source": [
    "#A_3 = np.array(([-1,3],[3,-9]), dtype=np.dtype(float))\n",
    "b_3 = np.array([7, -21], dtype=np.dtype(float))\n",
    "\n",
    "A_3 = np.hstack((A_2, b_3.reshape(2,1)))\n",
    "\n",
    "A_3"
   ]
  },
  {
   "cell_type": "code",
   "execution_count": 51,
   "id": "74c212b4-1934-473d-bc57-f7e4d5f4ed17",
   "metadata": {},
   "outputs": [
    {
     "name": "stdout",
     "output_type": "stream",
     "text": [
      "Singular matrix\n"
     ]
    }
   ],
   "source": [
    "try:\n",
    "    x_3 = np.linalg.solve(A_2, b_3)\n",
    "except np.linalg.LinAlgError as err:\n",
    "    print(err)"
   ]
  },
  {
   "cell_type": "code",
   "execution_count": 53,
   "id": "3c786d68-f4c9-455e-843c-eccf942b76eb",
   "metadata": {},
   "outputs": [
    {
     "name": "stdout",
     "output_type": "stream",
     "text": [
      "The determinant of matrix [[ -1.   3.   7.]\n",
      " [  3.  -9. -21.]] is 0.00\n"
     ]
    }
   ],
   "source": [
    "y_3 = np.linalg.det(A_2)\n",
    "print(f\"The determinant of matrix {A_3} is {y_3:.2f}\")"
   ]
  },
  {
   "cell_type": "code",
   "execution_count": 54,
   "id": "c1b60e66-2a5b-4105-8c8b-e55bf1294d74",
   "metadata": {},
   "outputs": [
    {
     "data": {
      "text/plain": [
       "np.float64(-2.000000000000001)"
      ]
     },
     "execution_count": 54,
     "metadata": {},
     "output_type": "execute_result"
    }
   ],
   "source": [
    "A_4 = np.array(([1,2,1],[2,1,1],[-1,2,1]))\n",
    "y_4 = np.linalg.det(A_4)\n",
    "y_4"
   ]
  },
  {
   "cell_type": "code",
   "execution_count": 55,
   "id": "5bf8eeae-3461-4e37-b271-a986f6f3c6c9",
   "metadata": {},
   "outputs": [
    {
     "data": {
      "text/plain": [
       "np.float64(4.000000000000001)"
      ]
     },
     "execution_count": 55,
     "metadata": {},
     "output_type": "execute_result"
    }
   ],
   "source": [
    "A_5 = np.array(([1,2,3],[3,2,1],[2,2,1]))\n",
    "y_5 = np.linalg.det(A_5)\n",
    "y_5"
   ]
  },
  {
   "cell_type": "code",
   "execution_count": 56,
   "id": "9267cc9b-6ed3-46fe-ba9d-c3485f5d2d20",
   "metadata": {},
   "outputs": [
    {
     "data": {
      "text/plain": [
       "np.float64(0.0)"
      ]
     },
     "execution_count": 56,
     "metadata": {},
     "output_type": "execute_result"
    }
   ],
   "source": [
    "A_6 = np.array(([1,2,3],[0,2,2],[1,4,5]))\n",
    "y_6 = np.linalg.det(A_6)\n",
    "y_6"
   ]
  },
  {
   "cell_type": "code",
   "execution_count": 4,
   "id": "16185205-0258-43b5-9688-3377bbb619da",
   "metadata": {},
   "outputs": [
    {
     "name": "stdout",
     "output_type": "stream",
     "text": [
      "[[ 0  5 -3  6  8]\n",
      " [ 0  6  3  8  1]\n",
      " [ 0  0  0  0  0]\n",
      " [ 0  0  0  0  7]\n",
      " [ 0  2  1  0  4]]\n"
     ]
    }
   ],
   "source": [
    "N = np.array([\n",
    "[0, 5, -3 ,6 ,8],\n",
    "[0, 6, 3, 8, 1],\n",
    "[0, 0, 0, 0, 0],\n",
    "[0, 0, 0 ,0 ,7],\n",
    "[0, 2, 1, 0, 4]\n",
    "]\n",
    ")\n",
    "print(N)"
   ]
  },
  {
   "cell_type": "code",
   "execution_count": 22,
   "id": "9dedd1e6-6095-475a-82a5-a5097c157620",
   "metadata": {},
   "outputs": [
    {
     "name": "stdout",
     "output_type": "stream",
     "text": [
      "0\n"
     ]
    }
   ],
   "source": [
    "p_c = N[0,0]\n",
    "print(p_c)"
   ]
  },
  {
   "cell_type": "code",
   "execution_count": 7,
   "id": "0f7dcc54-aeb9-4ee7-9bc6-6ded34ecdd16",
   "metadata": {},
   "outputs": [
    {
     "data": {
      "text/plain": [
       "array([[ True, False, False, False, False]])"
      ]
     },
     "execution_count": 7,
     "metadata": {},
     "output_type": "execute_result"
    }
   ],
   "source": [
    "np.isclose(p_c,0)"
   ]
  },
  {
   "cell_type": "code",
   "execution_count": 14,
   "id": "239e6aab-2a0f-4b58-ab01-7f30fe5c03c8",
   "metadata": {},
   "outputs": [
    {
     "data": {
      "text/plain": [
       "array([5, 6, 0, 0, 2])"
      ]
     },
     "execution_count": 14,
     "metadata": {},
     "output_type": "execute_result"
    }
   ],
   "source": [
    "c_1 = N[0:,1]\n",
    "c_1"
   ]
  },
  {
   "cell_type": "code",
   "execution_count": 15,
   "id": "6c30219d-70fe-43a5-9d78-847d46e97bfd",
   "metadata": {},
   "outputs": [
    {
     "data": {
      "text/plain": [
       "array([False, False,  True,  True, False])"
      ]
     },
     "execution_count": 15,
     "metadata": {},
     "output_type": "execute_result"
    }
   ],
   "source": [
    "np.isclose(c_1, 0, atol=1e-8)"
   ]
  },
  {
   "cell_type": "code",
   "execution_count": 17,
   "id": "feae19a8-71b6-444e-8214-1baed3d28556",
   "metadata": {},
   "outputs": [
    {
     "data": {
      "text/plain": [
       "array([[ 0,  0,  0,  0,  0],\n",
       "       [ 0,  6,  3,  8,  1],\n",
       "       [ 0,  5, -3,  6,  8],\n",
       "       [ 0,  0,  0,  0,  7],\n",
       "       [ 0,  2,  1,  0,  4]])"
      ]
     },
     "execution_count": 17,
     "metadata": {},
     "output_type": "execute_result"
    }
   ],
   "source": [
    "N_swap = N.copy()\n",
    "N_swap[[0,2]] = N[[2,0]]\n",
    "N_swap"
   ]
  },
  {
   "cell_type": "code",
   "execution_count": 23,
   "id": "d84e4aeb-95c3-49cb-914a-90b645e29067",
   "metadata": {},
   "outputs": [],
   "source": [
    "if np.isclose(p_c, 0) == True:\n",
    "    col_array = N[0:,0]\n",
    "    col_array"
   ]
  },
  {
   "cell_type": "code",
   "execution_count": 26,
   "id": "c54dfeaa-6063-461a-a6a1-67be42c489ea",
   "metadata": {},
   "outputs": [
    {
     "name": "stdout",
     "output_type": "stream",
     "text": [
      "0\n",
      "1\n"
     ]
    }
   ],
   "source": [
    "for j in range(2):\n",
    "    print(j)"
   ]
  },
  {
   "cell_type": "code",
   "execution_count": 29,
   "id": "76b72e0e-2433-47d6-91f8-778cde5a7b1f",
   "metadata": {},
   "outputs": [
    {
     "data": {
      "text/plain": [
       "array([[ 1,  2,  3],\n",
       "       [ 2,  6, 12],\n",
       "       [ 4, -8,  4]])"
      ]
     },
     "execution_count": 29,
     "metadata": {},
     "output_type": "execute_result"
    }
   ],
   "source": [
    "newN = np.array(([1,2,3],[2,6,12],[4,-8,4]))\n",
    "newN"
   ]
  },
  {
   "cell_type": "code",
   "execution_count": 30,
   "id": "f6cb2a11-4038-4b76-a4e7-2bf6dfe297d1",
   "metadata": {},
   "outputs": [
    {
     "data": {
      "text/plain": [
       "np.float64(80.00000000000004)"
      ]
     },
     "execution_count": 30,
     "metadata": {},
     "output_type": "execute_result"
    }
   ],
   "source": [
    "newN_d = np.linalg.det(newN)\n",
    "newN_d"
   ]
  },
  {
   "cell_type": "code",
   "execution_count": 31,
   "id": "5afd2d51-578c-4077-8a83-b6ac7df8a094",
   "metadata": {},
   "outputs": [
    {
     "ename": "ImportError",
     "evalue": "cannot import name 'string_to_augmented_matrix' from 'utils' (C:\\Users\\AW954XQ\\utils\\__init__.py)",
     "output_type": "error",
     "traceback": [
      "\u001b[1;31m---------------------------------------------------------------------------\u001b[0m",
      "\u001b[1;31mImportError\u001b[0m                               Traceback (most recent call last)",
      "Cell \u001b[1;32mIn[31], line 1\u001b[0m\n\u001b[1;32m----> 1\u001b[0m \u001b[38;5;28;01mfrom\u001b[39;00m \u001b[38;5;21;01mutils\u001b[39;00m \u001b[38;5;28;01mimport\u001b[39;00m string_to_augmented_matrix\n",
      "\u001b[1;31mImportError\u001b[0m: cannot import name 'string_to_augmented_matrix' from 'utils' (C:\\Users\\AW954XQ\\utils\\__init__.py)"
     ]
    }
   ],
   "source": [
    "from utils import string_to_augmented_matrix"
   ]
  },
  {
   "cell_type": "code",
   "execution_count": 3,
   "id": "d5346a02-cb75-4056-bcbf-5c98c7cb3712",
   "metadata": {},
   "outputs": [],
   "source": [
    "import numpy as np"
   ]
  },
  {
   "cell_type": "code",
   "execution_count": 2,
   "id": "a9e6aee3-4f63-4720-a6ce-280624a748d9",
   "metadata": {},
   "outputs": [
    {
     "ename": "NameError",
     "evalue": "name 'N' is not defined",
     "output_type": "error",
     "traceback": [
      "\u001b[1;31m---------------------------------------------------------------------------\u001b[0m",
      "\u001b[1;31mNameError\u001b[0m                                 Traceback (most recent call last)",
      "Cell \u001b[1;32mIn[2], line 1\u001b[0m\n\u001b[1;32m----> 1\u001b[0m \u001b[43mN\u001b[49m\n",
      "\u001b[1;31mNameError\u001b[0m: name 'N' is not defined"
     ]
    }
   ],
   "source": [
    "N"
   ]
  },
  {
   "cell_type": "code",
   "execution_count": 36,
   "id": "806ddf80-3005-4582-9f0a-27baba21440e",
   "metadata": {},
   "outputs": [],
   "source": [
    "NN = N.copy()"
   ]
  },
  {
   "cell_type": "code",
   "execution_count": 37,
   "id": "4c1776c4-ef31-4db0-802a-62812eb4240e",
   "metadata": {},
   "outputs": [
    {
     "data": {
      "text/plain": [
       "array([[ 0,  5, -3,  6,  8],\n",
       "       [ 0,  6,  3,  8,  1],\n",
       "       [ 0,  0,  0,  0,  0],\n",
       "       [ 0,  0,  0,  0,  7],\n",
       "       [ 0,  2,  1,  0,  4]])"
      ]
     },
     "execution_count": 37,
     "metadata": {},
     "output_type": "execute_result"
    }
   ],
   "source": [
    "NN"
   ]
  },
  {
   "cell_type": "code",
   "execution_count": 38,
   "id": "cff96cb3-62bc-4a70-bd4d-0a9b8b17edaa",
   "metadata": {},
   "outputs": [
    {
     "data": {
      "text/plain": [
       "array([[ 0,  5, -3,  6,  8],\n",
       "       [ 0,  6,  3,  8,  1],\n",
       "       [ 0,  0,  0,  0,  0],\n",
       "       [ 0,  2,  1,  0,  4],\n",
       "       [ 0,  0,  0,  0,  7]])"
      ]
     },
     "execution_count": 38,
     "metadata": {},
     "output_type": "execute_result"
    }
   ],
   "source": [
    "NN[[3,4]] = NN[[4,3]]\n",
    "NN"
   ]
  },
  {
   "cell_type": "code",
   "execution_count": 40,
   "id": "e1c60ebc-1b2b-46ac-b549-94c3b08f5023",
   "metadata": {},
   "outputs": [
    {
     "name": "stdout",
     "output_type": "stream",
     "text": [
      "4\n"
     ]
    }
   ],
   "source": [
    "print(NN[3,4])"
   ]
  },
  {
   "cell_type": "code",
   "execution_count": 41,
   "id": "fe574e82-53eb-463c-a82d-bc4b39680ef7",
   "metadata": {},
   "outputs": [
    {
     "data": {
      "text/plain": [
       "array([-3,  3,  0,  1,  0])"
      ]
     },
     "execution_count": 41,
     "metadata": {},
     "output_type": "execute_result"
    }
   ],
   "source": [
    "NN[0:,2]"
   ]
  },
  {
   "cell_type": "code",
   "execution_count": 5,
   "id": "aea4c9db-86c9-4d3c-91e2-f773d222134b",
   "metadata": {},
   "outputs": [
    {
     "data": {
      "text/plain": [
       "array([[ 0,  5, -3,  6,  8],\n",
       "       [ 0,  6,  3,  8,  1],\n",
       "       [ 0,  0,  0,  0,  0],\n",
       "       [ 0,  0,  0,  0,  7],\n",
       "       [ 0,  2,  1,  0,  4]])"
      ]
     },
     "execution_count": 5,
     "metadata": {},
     "output_type": "execute_result"
    }
   ],
   "source": [
    "N"
   ]
  },
  {
   "cell_type": "code",
   "execution_count": 7,
   "id": "f9876311-e8ea-4a58-aec1-f210f4271566",
   "metadata": {},
   "outputs": [
    {
     "data": {
      "text/plain": [
       "array([-3,  3,  0,  0,  1])"
      ]
     },
     "execution_count": 7,
     "metadata": {},
     "output_type": "execute_result"
    }
   ],
   "source": [
    "N[0:,2]"
   ]
  },
  {
   "cell_type": "code",
   "execution_count": 8,
   "id": "4e05e411-4afe-4fb0-8dc5-458fc0246c76",
   "metadata": {},
   "outputs": [
    {
     "data": {
      "text/plain": [
       "array([0, 0, 1])"
      ]
     },
     "execution_count": 8,
     "metadata": {},
     "output_type": "execute_result"
    }
   ],
   "source": [
    "N[2:,2]"
   ]
  },
  {
   "cell_type": "code",
   "execution_count": 15,
   "id": "9c347236-1a1b-42ce-b0bc-3245b4d5a3bb",
   "metadata": {},
   "outputs": [
    {
     "data": {
      "text/plain": [
       "5"
      ]
     },
     "execution_count": 15,
     "metadata": {},
     "output_type": "execute_result"
    }
   ],
   "source": [
    "N.shape[1]"
   ]
  },
  {
   "cell_type": "code",
   "execution_count": 13,
   "id": "77da758b-2788-4942-bd91-6b3a8af69230",
   "metadata": {},
   "outputs": [
    {
     "data": {
      "text/plain": [
       "(5, 5)"
      ]
     },
     "execution_count": 13,
     "metadata": {},
     "output_type": "execute_result"
    }
   ],
   "source": [
    "N.shape"
   ]
  },
  {
   "cell_type": "code",
   "execution_count": 17,
   "id": "f2a6a457-cfb3-4a0e-8b8a-a321934dd5aa",
   "metadata": {},
   "outputs": [],
   "source": [
    "NN = np.array([[6,4,8,1],[0,8,6,4],[0,0,0,3],[0,0,5,9]])"
   ]
  },
  {
   "cell_type": "code",
   "execution_count": 18,
   "id": "6400e227-9065-4ee4-8329-f56b59f51716",
   "metadata": {},
   "outputs": [
    {
     "data": {
      "text/plain": [
       "array([[6, 4, 8, 1],\n",
       "       [0, 8, 6, 4],\n",
       "       [0, 0, 0, 3],\n",
       "       [0, 0, 5, 9]])"
      ]
     },
     "execution_count": 18,
     "metadata": {},
     "output_type": "execute_result"
    }
   ],
   "source": [
    "NN"
   ]
  },
  {
   "cell_type": "code",
   "execution_count": 19,
   "id": "303db2b6-043c-497a-9078-fc0f7eed2298",
   "metadata": {},
   "outputs": [
    {
     "data": {
      "text/plain": [
       "array([0, 0, 0, 3])"
      ]
     },
     "execution_count": 19,
     "metadata": {},
     "output_type": "execute_result"
    }
   ],
   "source": [
    "NN[2]"
   ]
  },
  {
   "cell_type": "code",
   "execution_count": 23,
   "id": "365ea423-2777-4e67-86ab-7870b30dd301",
   "metadata": {},
   "outputs": [
    {
     "name": "stdout",
     "output_type": "stream",
     "text": [
      "3\n"
     ]
    }
   ],
   "source": [
    "print(NN[2,3])"
   ]
  },
  {
   "cell_type": "code",
   "execution_count": 26,
   "id": "aa6a1258-cc5a-4ee3-843d-4821b166e6ea",
   "metadata": {},
   "outputs": [
    {
     "data": {
      "text/plain": [
       "array([[6, 4, 8, 1],\n",
       "       [0, 8, 6, 4],\n",
       "       [0, 0, 0, 3],\n",
       "       [0, 0, 5, 9]])"
      ]
     },
     "execution_count": 26,
     "metadata": {},
     "output_type": "execute_result"
    }
   ],
   "source": [
    "NN[[2,2]] = NN[[3,2]]\n",
    "NN"
   ]
  },
  {
   "cell_type": "code",
   "execution_count": 27,
   "id": "2c9455d0-0cbd-4387-af7a-c8ac30317765",
   "metadata": {},
   "outputs": [],
   "source": [
    "import numpy as np\n",
    "import matplotlib as plt"
   ]
  },
  {
   "cell_type": "code",
   "execution_count": 29,
   "id": "5056b59b-7f33-4a67-a07e-2ec755fd5a5e",
   "metadata": {},
   "outputs": [
    {
     "ename": "AttributeError",
     "evalue": "module 'matplotlib' has no attribute 'subplots'",
     "output_type": "error",
     "traceback": [
      "\u001b[1;31m---------------------------------------------------------------------------\u001b[0m",
      "\u001b[1;31mAttributeError\u001b[0m                            Traceback (most recent call last)",
      "Cell \u001b[1;32mIn[29], line 19\u001b[0m\n\u001b[0;32m     16\u001b[0m     plt\u001b[38;5;241m.\u001b[39mshow()\n\u001b[0;32m     18\u001b[0m v \u001b[38;5;241m=\u001b[39m np\u001b[38;5;241m.\u001b[39marray([[\u001b[38;5;241m1\u001b[39m], [\u001b[38;5;241m3\u001b[39m]])\n\u001b[1;32m---> 19\u001b[0m \u001b[43mplot_vectors\u001b[49m\u001b[43m(\u001b[49m\u001b[43m[\u001b[49m\u001b[43mv\u001b[49m\u001b[43m]\u001b[49m\u001b[43m,\u001b[49m\u001b[43m \u001b[49m\u001b[43m[\u001b[49m\u001b[38;5;124;43mf\u001b[39;49m\u001b[38;5;124;43m\"\u001b[39;49m\u001b[38;5;124;43m$v$\u001b[39;49m\u001b[38;5;124;43m\"\u001b[39;49m\u001b[43m]\u001b[49m\u001b[43m,\u001b[49m\u001b[43m \u001b[49m\u001b[43m[\u001b[49m\u001b[38;5;124;43m\"\u001b[39;49m\u001b[38;5;124;43mblack\u001b[39;49m\u001b[38;5;124;43m\"\u001b[39;49m\u001b[43m]\u001b[49m\u001b[43m)\u001b[49m\n",
      "Cell \u001b[1;32mIn[29], line 2\u001b[0m, in \u001b[0;36mplot_vectors\u001b[1;34m(list_v, list_label, list_color)\u001b[0m\n\u001b[0;32m      1\u001b[0m \u001b[38;5;28;01mdef\u001b[39;00m \u001b[38;5;21mplot_vectors\u001b[39m(list_v, list_label, list_color):\n\u001b[1;32m----> 2\u001b[0m     _, ax \u001b[38;5;241m=\u001b[39m \u001b[43mplt\u001b[49m\u001b[38;5;241;43m.\u001b[39;49m\u001b[43msubplots\u001b[49m(figsize\u001b[38;5;241m=\u001b[39m(\u001b[38;5;241m10\u001b[39m,\u001b[38;5;241m10\u001b[39m))\n\u001b[0;32m      3\u001b[0m     ax\u001b[38;5;241m.\u001b[39mtick_params(axis\u001b[38;5;241m=\u001b[39m\u001b[38;5;124m'\u001b[39m\u001b[38;5;124mx\u001b[39m\u001b[38;5;124m'\u001b[39m, labelsize\u001b[38;5;241m=\u001b[39m\u001b[38;5;241m14\u001b[39m)\n\u001b[0;32m      4\u001b[0m     ax\u001b[38;5;241m.\u001b[39mtick_params(axis\u001b[38;5;241m=\u001b[39m\u001b[38;5;124m'\u001b[39m\u001b[38;5;124my\u001b[39m\u001b[38;5;124m'\u001b[39m, labelsize\u001b[38;5;241m=\u001b[39m\u001b[38;5;241m14\u001b[39m)\n",
      "File \u001b[1;32m~\\AppData\\Local\\Packages\\PythonSoftwareFoundation.Python.3.10_qbz5n2kfra8p0\\LocalCache\\local-packages\\Python310\\site-packages\\matplotlib\\_api\\__init__.py:217\u001b[0m, in \u001b[0;36mcaching_module_getattr.<locals>.__getattr__\u001b[1;34m(name)\u001b[0m\n\u001b[0;32m    215\u001b[0m \u001b[38;5;28;01mif\u001b[39;00m name \u001b[38;5;129;01min\u001b[39;00m props:\n\u001b[0;32m    216\u001b[0m     \u001b[38;5;28;01mreturn\u001b[39;00m props[name]\u001b[38;5;241m.\u001b[39m\u001b[38;5;21m__get__\u001b[39m(instance)\n\u001b[1;32m--> 217\u001b[0m \u001b[38;5;28;01mraise\u001b[39;00m \u001b[38;5;167;01mAttributeError\u001b[39;00m(\n\u001b[0;32m    218\u001b[0m     \u001b[38;5;124mf\u001b[39m\u001b[38;5;124m\"\u001b[39m\u001b[38;5;124mmodule \u001b[39m\u001b[38;5;132;01m{\u001b[39;00m\u001b[38;5;28mcls\u001b[39m\u001b[38;5;241m.\u001b[39m\u001b[38;5;18m__module__\u001b[39m\u001b[38;5;132;01m!r}\u001b[39;00m\u001b[38;5;124m has no attribute \u001b[39m\u001b[38;5;132;01m{\u001b[39;00mname\u001b[38;5;132;01m!r}\u001b[39;00m\u001b[38;5;124m\"\u001b[39m)\n",
      "\u001b[1;31mAttributeError\u001b[0m: module 'matplotlib' has no attribute 'subplots'"
     ]
    }
   ],
   "source": [
    "def plot_vectors(list_v, list_label, list_color):\n",
    "    _, ax = plt.subplots(figsize=(10,10))\n",
    "    ax.tick_params(axis='x', labelsize=14)\n",
    "    ax.tick_params(axis='y', labelsize=14)\n",
    "    ax.set_xticks(np.arange(-10,10))\n",
    "    ax.set_ytricks(np.arange(-10,10))\n",
    "\n",
    "    plt.axis([-10, 10, -10, 10])\n",
    "    for i, v in enumerate(list_v):\n",
    "        sgn = 0.4 * np.array([[1] if i==0 else [i] for i in np.sign(v)])\n",
    "        plt.quiver(v[0], v[1], color=list_color[i], angles='xy', scale_units='xy', scale=1)\n",
    "        ax.text(v[0]-0.2+sgn[0], v[1]-0.2+sgn[1], list_label[i], fontsize=14, color=list_color[i])\n",
    "\n",
    "    plt.grid()\n",
    "    plt.gca().set_aspect(\"equal\")\n",
    "    plt.show()\n",
    "\n",
    "v = np.array([[1], [3]])\n",
    "plot_vectors([v], [f\"$v$\"], [\"black\"])"
   ]
  },
  {
   "cell_type": "code",
   "execution_count": 36,
   "id": "0476de80-9367-4da1-a06f-b331d778696e",
   "metadata": {},
   "outputs": [
    {
     "name": "stdout",
     "output_type": "stream",
     "text": [
      "3\n"
     ]
    }
   ],
   "source": [
    "x = [1, -2, -5]\n",
    "y = [4, 3, -1]\n",
    "result = 0\n",
    "\n",
    "for a, b in zip(x,y):\n",
    "    result+= a * b\n",
    "\n",
    "print(result)"
   ]
  },
  {
   "cell_type": "code",
   "execution_count": 40,
   "id": "2423d10b-47dd-4825-87d0-fcfbd35ba475",
   "metadata": {},
   "outputs": [
    {
     "name": "stdout",
     "output_type": "stream",
     "text": [
      "Dot: 3\n",
      "Add: [ 5  1 -6]\n",
      "Norm: 5.477225575051661\n",
      "Norm: 5.0990195135927845\n"
     ]
    }
   ],
   "source": [
    "a = [1, -2, -5]\n",
    "b = [4, 3, -1]\n",
    "print('Dot:', np.dot(a,b))\n",
    "print('Add:', np.add(a,b))\n",
    "print('Norm:', np.linalg.norm(a))\n",
    "print('Norm:', np.linalg.norm(b))"
   ]
  },
  {
   "cell_type": "code",
   "execution_count": 41,
   "id": "05f7589a-c96f-49e6-b4c9-75a89cfe17a9",
   "metadata": {},
   "outputs": [
    {
     "name": "stdout",
     "output_type": "stream",
     "text": [
      "3\n"
     ]
    }
   ],
   "source": [
    "x = [3,1]\n",
    "y = [1,0]\n",
    "print(np.dot(x,y))"
   ]
  },
  {
   "cell_type": "code",
   "execution_count": 45,
   "id": "bbde2e31-8972-4669-8249-c97f2ba6eac2",
   "metadata": {},
   "outputs": [
    {
     "name": "stdout",
     "output_type": "stream",
     "text": [
      "[4 3]\n"
     ]
    }
   ],
   "source": [
    "x = [[3,1],[1,2]]\n",
    "y = [1,1]\n",
    "print(np.dot(x,y))"
   ]
  },
  {
   "cell_type": "code",
   "execution_count": 1,
   "id": "894fcd39-bf5b-4f09-b25c-075f00440314",
   "metadata": {},
   "outputs": [],
   "source": [
    "import numpy as np"
   ]
  },
  {
   "cell_type": "code",
   "execution_count": 7,
   "id": "58c8cde6-13f0-45af-82a7-84d7cc0c1625",
   "metadata": {},
   "outputs": [
    {
     "name": "stdout",
     "output_type": "stream",
     "text": [
      "[ 4  3 -1]\n",
      "(3, 1)\n",
      "3\n"
     ]
    }
   ],
   "source": [
    "x = np.array([1, -2, -5])\n",
    "y = np.array([4, 3, -1])\n",
    "print(y)\n",
    "print(y.reshape(3,1).shape)\n",
    "print(np.matmul(x,y))"
   ]
  },
  {
   "cell_type": "code",
   "execution_count": 9,
   "id": "7215bec2-2cab-449c-adc0-1d78132cff40",
   "metadata": {},
   "outputs": [
    {
     "data": {
      "text/plain": [
       "array([[0.],\n",
       "       [0.],\n",
       "       [0.]])"
      ]
     },
     "execution_count": 9,
     "metadata": {},
     "output_type": "execute_result"
    }
   ],
   "source": [
    "np.zeros((3,1))"
   ]
  },
  {
   "cell_type": "code",
   "execution_count": 17,
   "id": "450dfda6-0be8-43b2-9d45-d665ba57eaf2",
   "metadata": {},
   "outputs": [
    {
     "name": "stdout",
     "output_type": "stream",
     "text": [
      "[[3.]\n",
      " [0.]\n",
      " [0.]]\n"
     ]
    }
   ],
   "source": [
    "# T(v) = w\n",
    "# T[v1,v2] = [3v1, 0, -2v2]\n",
    "def T(v):\n",
    "    w = np.zeros((3,1))\n",
    "    w[0,0] = 3*v[0,0]\n",
    "    w[2,0] = -2*v[1,0]\n",
    "    return w\n",
    "\n",
    "v = np.array([[1,0],[0,1]])\n",
    "w = T(v)\n",
    "print(w)"
   ]
  },
  {
   "cell_type": "code",
   "execution_count": 15,
   "id": "dad95a3f-373f-4f1a-a3d1-c5a9c66541ee",
   "metadata": {},
   "outputs": [
    {
     "name": "stdout",
     "output_type": "stream",
     "text": [
      "k*v1: [[4]\n",
      " [8]]\n",
      "T(k*v1): [[ 12.]\n",
      " [  0.]\n",
      " [-16.]]\n",
      "k*T(v1): [[ 12.]\n",
      " [  0.]\n",
      " [-16.]]\n"
     ]
    }
   ],
   "source": [
    "v1 = np.array([[2],[4]])\n",
    "\n",
    "k = 2\n",
    "\n",
    "print('k*v1:', k*v1)\n",
    "print('T(k*v1):', T(k*v1))\n",
    "print('k*T(v1):', k*T(v1))"
   ]
  },
  {
   "cell_type": "code",
   "execution_count": 16,
   "id": "a1166b58-011c-4b56-860e-aa13ed57f077",
   "metadata": {},
   "outputs": [
    {
     "name": "stdout",
     "output_type": "stream",
     "text": [
      "T(u1+v1): [[ 9.]\n",
      " [ 0.]\n",
      " [-4.]]\n",
      "T(u1)+T(v1): [[ 9.]\n",
      " [ 0.]\n",
      " [-4.]]\n"
     ]
    }
   ],
   "source": [
    "u1 = np.array([[1],[-2]])\n",
    "print('T(u1+v1):', T(u1+v1))\n",
    "print('T(u1)+T(v1):', T(u1)+T(v1))"
   ]
  },
  {
   "cell_type": "code",
   "execution_count": null,
   "id": "09c9c78b-4869-4285-8280-ffb61a870828",
   "metadata": {},
   "outputs": [],
   "source": []
  }
 ],
 "metadata": {
  "kernelspec": {
   "display_name": "Python 3 (ipykernel)",
   "language": "python",
   "name": "python3"
  },
  "language_info": {
   "codemirror_mode": {
    "name": "ipython",
    "version": 3
   },
   "file_extension": ".py",
   "mimetype": "text/x-python",
   "name": "python",
   "nbconvert_exporter": "python",
   "pygments_lexer": "ipython3",
   "version": "3.10.11"
  }
 },
 "nbformat": 4,
 "nbformat_minor": 5
}
